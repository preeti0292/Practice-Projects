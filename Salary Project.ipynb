{
 "cells": [
  {
   "cell_type": "markdown",
   "id": "19a5c418",
   "metadata": {},
   "source": [
    "# Problem Statement"
   ]
  },
  {
   "cell_type": "markdown",
   "id": "dd99f9d9",
   "metadata": {},
   "source": [
    "Predict the salary if the employee using the features provided in the data."
   ]
  },
  {
   "cell_type": "markdown",
   "id": "8be8b5bd",
   "metadata": {},
   "source": [
    "Downlaod Files: https://raw.githubusercontent.com/dsrscientist/dataset3/main/Salaries.csv"
   ]
  },
  {
   "cell_type": "code",
   "execution_count": 1,
   "id": "f89b3428",
   "metadata": {},
   "outputs": [],
   "source": [
    "#importing necessary libraries\n",
    "import pandas as pd\n",
    "import numpy as np\n",
    "import matplotlib.pyplot as plt\n",
    "%matplotlib inline\n",
    "import seaborn as sns\n",
    "\n",
    "import warnings\n",
    "warnings.filterwarnings('ignore')"
   ]
  },
  {
   "cell_type": "code",
   "execution_count": 2,
   "id": "ca2b1ad9",
   "metadata": {},
   "outputs": [
    {
     "data": {
      "text/html": [
       "<div>\n",
       "<style scoped>\n",
       "    .dataframe tbody tr th:only-of-type {\n",
       "        vertical-align: middle;\n",
       "    }\n",
       "\n",
       "    .dataframe tbody tr th {\n",
       "        vertical-align: top;\n",
       "    }\n",
       "\n",
       "    .dataframe thead th {\n",
       "        text-align: right;\n",
       "    }\n",
       "</style>\n",
       "<table border=\"1\" class=\"dataframe\">\n",
       "  <thead>\n",
       "    <tr style=\"text-align: right;\">\n",
       "      <th></th>\n",
       "      <th>rank</th>\n",
       "      <th>discipline</th>\n",
       "      <th>yrs.since.phd</th>\n",
       "      <th>yrs.service</th>\n",
       "      <th>sex</th>\n",
       "      <th>salary</th>\n",
       "    </tr>\n",
       "  </thead>\n",
       "  <tbody>\n",
       "    <tr>\n",
       "      <th>0</th>\n",
       "      <td>Prof</td>\n",
       "      <td>B</td>\n",
       "      <td>19</td>\n",
       "      <td>18</td>\n",
       "      <td>Male</td>\n",
       "      <td>139750</td>\n",
       "    </tr>\n",
       "    <tr>\n",
       "      <th>1</th>\n",
       "      <td>Prof</td>\n",
       "      <td>B</td>\n",
       "      <td>20</td>\n",
       "      <td>16</td>\n",
       "      <td>Male</td>\n",
       "      <td>173200</td>\n",
       "    </tr>\n",
       "    <tr>\n",
       "      <th>2</th>\n",
       "      <td>AsstProf</td>\n",
       "      <td>B</td>\n",
       "      <td>4</td>\n",
       "      <td>3</td>\n",
       "      <td>Male</td>\n",
       "      <td>79750</td>\n",
       "    </tr>\n",
       "    <tr>\n",
       "      <th>3</th>\n",
       "      <td>Prof</td>\n",
       "      <td>B</td>\n",
       "      <td>45</td>\n",
       "      <td>39</td>\n",
       "      <td>Male</td>\n",
       "      <td>115000</td>\n",
       "    </tr>\n",
       "    <tr>\n",
       "      <th>4</th>\n",
       "      <td>Prof</td>\n",
       "      <td>B</td>\n",
       "      <td>40</td>\n",
       "      <td>41</td>\n",
       "      <td>Male</td>\n",
       "      <td>141500</td>\n",
       "    </tr>\n",
       "    <tr>\n",
       "      <th>...</th>\n",
       "      <td>...</td>\n",
       "      <td>...</td>\n",
       "      <td>...</td>\n",
       "      <td>...</td>\n",
       "      <td>...</td>\n",
       "      <td>...</td>\n",
       "    </tr>\n",
       "    <tr>\n",
       "      <th>392</th>\n",
       "      <td>Prof</td>\n",
       "      <td>A</td>\n",
       "      <td>33</td>\n",
       "      <td>30</td>\n",
       "      <td>Male</td>\n",
       "      <td>103106</td>\n",
       "    </tr>\n",
       "    <tr>\n",
       "      <th>393</th>\n",
       "      <td>Prof</td>\n",
       "      <td>A</td>\n",
       "      <td>31</td>\n",
       "      <td>19</td>\n",
       "      <td>Male</td>\n",
       "      <td>150564</td>\n",
       "    </tr>\n",
       "    <tr>\n",
       "      <th>394</th>\n",
       "      <td>Prof</td>\n",
       "      <td>A</td>\n",
       "      <td>42</td>\n",
       "      <td>25</td>\n",
       "      <td>Male</td>\n",
       "      <td>101738</td>\n",
       "    </tr>\n",
       "    <tr>\n",
       "      <th>395</th>\n",
       "      <td>Prof</td>\n",
       "      <td>A</td>\n",
       "      <td>25</td>\n",
       "      <td>15</td>\n",
       "      <td>Male</td>\n",
       "      <td>95329</td>\n",
       "    </tr>\n",
       "    <tr>\n",
       "      <th>396</th>\n",
       "      <td>AsstProf</td>\n",
       "      <td>A</td>\n",
       "      <td>8</td>\n",
       "      <td>4</td>\n",
       "      <td>Male</td>\n",
       "      <td>81035</td>\n",
       "    </tr>\n",
       "  </tbody>\n",
       "</table>\n",
       "<p>397 rows × 6 columns</p>\n",
       "</div>"
      ],
      "text/plain": [
       "         rank discipline  yrs.since.phd  yrs.service   sex  salary\n",
       "0        Prof          B             19           18  Male  139750\n",
       "1        Prof          B             20           16  Male  173200\n",
       "2    AsstProf          B              4            3  Male   79750\n",
       "3        Prof          B             45           39  Male  115000\n",
       "4        Prof          B             40           41  Male  141500\n",
       "..        ...        ...            ...          ...   ...     ...\n",
       "392      Prof          A             33           30  Male  103106\n",
       "393      Prof          A             31           19  Male  150564\n",
       "394      Prof          A             42           25  Male  101738\n",
       "395      Prof          A             25           15  Male   95329\n",
       "396  AsstProf          A              8            4  Male   81035\n",
       "\n",
       "[397 rows x 6 columns]"
      ]
     },
     "execution_count": 2,
     "metadata": {},
     "output_type": "execute_result"
    }
   ],
   "source": [
    "#Read data from CSV file\n",
    "data = pd.read_csv('https://raw.githubusercontent.com/dsrscientist/dataset3/main/Salaries.csv')\n",
    "data"
   ]
  },
  {
   "cell_type": "markdown",
   "id": "6dfb609d",
   "metadata": {},
   "source": [
    "# Here the Salary is our target/label and rest of the columns are features."
   ]
  },
  {
   "cell_type": "code",
   "execution_count": 3,
   "id": "532ed964",
   "metadata": {},
   "outputs": [
    {
     "data": {
      "text/html": [
       "<div>\n",
       "<style scoped>\n",
       "    .dataframe tbody tr th:only-of-type {\n",
       "        vertical-align: middle;\n",
       "    }\n",
       "\n",
       "    .dataframe tbody tr th {\n",
       "        vertical-align: top;\n",
       "    }\n",
       "\n",
       "    .dataframe thead th {\n",
       "        text-align: right;\n",
       "    }\n",
       "</style>\n",
       "<table border=\"1\" class=\"dataframe\">\n",
       "  <thead>\n",
       "    <tr style=\"text-align: right;\">\n",
       "      <th></th>\n",
       "      <th>yrs.since.phd</th>\n",
       "      <th>yrs.service</th>\n",
       "      <th>salary</th>\n",
       "    </tr>\n",
       "  </thead>\n",
       "  <tbody>\n",
       "    <tr>\n",
       "      <th>count</th>\n",
       "      <td>397.000000</td>\n",
       "      <td>397.000000</td>\n",
       "      <td>397.000000</td>\n",
       "    </tr>\n",
       "    <tr>\n",
       "      <th>mean</th>\n",
       "      <td>22.314861</td>\n",
       "      <td>17.614610</td>\n",
       "      <td>113706.458438</td>\n",
       "    </tr>\n",
       "    <tr>\n",
       "      <th>std</th>\n",
       "      <td>12.887003</td>\n",
       "      <td>13.006024</td>\n",
       "      <td>30289.038695</td>\n",
       "    </tr>\n",
       "    <tr>\n",
       "      <th>min</th>\n",
       "      <td>1.000000</td>\n",
       "      <td>0.000000</td>\n",
       "      <td>57800.000000</td>\n",
       "    </tr>\n",
       "    <tr>\n",
       "      <th>25%</th>\n",
       "      <td>12.000000</td>\n",
       "      <td>7.000000</td>\n",
       "      <td>91000.000000</td>\n",
       "    </tr>\n",
       "    <tr>\n",
       "      <th>50%</th>\n",
       "      <td>21.000000</td>\n",
       "      <td>16.000000</td>\n",
       "      <td>107300.000000</td>\n",
       "    </tr>\n",
       "    <tr>\n",
       "      <th>75%</th>\n",
       "      <td>32.000000</td>\n",
       "      <td>27.000000</td>\n",
       "      <td>134185.000000</td>\n",
       "    </tr>\n",
       "    <tr>\n",
       "      <th>max</th>\n",
       "      <td>56.000000</td>\n",
       "      <td>60.000000</td>\n",
       "      <td>231545.000000</td>\n",
       "    </tr>\n",
       "  </tbody>\n",
       "</table>\n",
       "</div>"
      ],
      "text/plain": [
       "       yrs.since.phd  yrs.service         salary\n",
       "count     397.000000   397.000000     397.000000\n",
       "mean       22.314861    17.614610  113706.458438\n",
       "std        12.887003    13.006024   30289.038695\n",
       "min         1.000000     0.000000   57800.000000\n",
       "25%        12.000000     7.000000   91000.000000\n",
       "50%        21.000000    16.000000  107300.000000\n",
       "75%        32.000000    27.000000  134185.000000\n",
       "max        56.000000    60.000000  231545.000000"
      ]
     },
     "execution_count": 3,
     "metadata": {},
     "output_type": "execute_result"
    }
   ],
   "source": [
    "#To analyse the data I am going apply describe method\n",
    "data.describe()"
   ]
  },
  {
   "cell_type": "markdown",
   "id": "b2ef3440",
   "metadata": {},
   "source": [
    "# There is no null value present in our data set. Now will check for outliers and remove them if any present in the dataset"
   ]
  },
  {
   "cell_type": "code",
   "execution_count": 4,
   "id": "2d9fdc37",
   "metadata": {},
   "outputs": [
    {
     "data": {
      "image/png": "[encoded data removed]",
      "text/plain": [
       "<Figure size 720x720 with 3 Axes>"
      ]
     },
     "metadata": {
      "needs_background": "light"
     },
     "output_type": "display_data"
    }
   ],
   "source": [
    "#Will separate string data from numeric data to check outliers.\n",
    "box_data = data.drop(columns = ['rank','discipline','sex'])\n",
    "\n",
    "#Will implement boxplot check outliers\n",
    "plt.figure(figsize = (10,10))\n",
    "plotnumber = 1\n",
    "\n",
    "for column in box_data:\n",
    "    if plotnumber <= 3:\n",
    "        plt.subplot(3,2,plotnumber)\n",
    "        sns.boxplot(box_data[column])\n",
    "        plt.xlabel(column)\n",
    "        plt.title('Outliers')\n",
    "    \n",
    "    plotnumber += 1\n",
    "    \n",
    "plt.tight_layout()  "
   ]
  },
  {
   "cell_type": "markdown",
   "id": "07515864",
   "metadata": {},
   "source": [
    "# We have outliers in yrs.service and salary we will identify them using Inter Quantile Range Method and remove."
   ]
  },
  {
   "cell_type": "code",
   "execution_count": 5,
   "id": "4aeea3d7",
   "metadata": {},
   "outputs": [],
   "source": [
    "#Remove outliers for yrs.service\n",
    "def remove_outliers_years_service(data):\n",
    "    IQR = data['yrs.service'].quantile(0.75) - data['yrs.service'].quantile(0.25)\n",
    "    \n",
    "    higher_range = data['yrs.service'].quantile(0.75) + (1.5 * IQR)\n",
    "    \n",
    "    data.loc[data['yrs.service'] >= higher_range, 'yrs.service'] = higher_range    "
   ]
  },
  {
   "cell_type": "code",
   "execution_count": 6,
   "id": "ce8ebc01",
   "metadata": {},
   "outputs": [],
   "source": [
    "remove_outliers_years_service(data)"
   ]
  },
  {
   "cell_type": "code",
   "execution_count": 7,
   "id": "1ef096e6",
   "metadata": {},
   "outputs": [],
   "source": [
    "#Remove outliers for salary\n",
    "def remove_outliers_salary(data):\n",
    "    IQR = data['salary'].quantile(0.75) - data['salary'].quantile(0.25)\n",
    "    \n",
    "    higher_range = data['salary'].quantile(0.75) + (1.5 * IQR)\n",
    "    \n",
    "    data.loc[data['salary'] >= higher_range, 'salary'] = higher_range  "
   ]
  },
  {
   "cell_type": "code",
   "execution_count": 8,
   "id": "c8916ddb",
   "metadata": {},
   "outputs": [],
   "source": [
    "remove_outliers_salary(data)"
   ]
  },
  {
   "cell_type": "markdown",
   "id": "201de7b0",
   "metadata": {},
   "source": [
    "# Now I will plot the same box plot again and check if outliers have been removed."
   ]
  },
  {
   "cell_type": "code",
   "execution_count": 9,
   "id": "07d539b0",
   "metadata": {},
   "outputs": [
    {
     "data": {
      "image/png": "[encoded data removed]",
      "text/plain": [
       "<Figure size 720x720 with 3 Axes>"
      ]
     },
     "metadata": {
      "needs_background": "light"
     },
     "output_type": "display_data"
    }
   ],
   "source": [
    "#Will separate string data from numeric data to check outliers.\n",
    "box_data = data.drop(columns = ['rank','discipline','sex'])\n",
    "\n",
    "#Will implement boxplot check outliers\n",
    "plt.figure(figsize = (10,10))\n",
    "plotnumber = 1\n",
    "\n",
    "for column in box_data:\n",
    "    if plotnumber <= 3:\n",
    "        plt.subplot(3,2,plotnumber)\n",
    "        sns.boxplot(box_data[column])\n",
    "        plt.xlabel(column)\n",
    "        plt.title('Outliers')\n",
    "    \n",
    "    plotnumber += 1\n",
    "    \n",
    "plt.tight_layout()"
   ]
  },
  {
   "cell_type": "markdown",
   "id": "81fc1460",
   "metadata": {},
   "source": [
    "# Outliers have been removed completely now will apply Feature Engineering method to change our string data to numeric data so model can read it."
   ]
  },
  {
   "cell_type": "code",
   "execution_count": 10,
   "id": "926ffd9a",
   "metadata": {},
   "outputs": [],
   "source": [
    "def feature_engineering(data):\n",
    "    #Convert the rank column into 0 and 1, if prof 1 else 0\n",
    "    data['rank'] = np.where(data['rank'] == 'Prof', 1, 0)\n",
    "    \n",
    "    #Convert the discipline column into 0 and 1, if A 1 else 0\n",
    "    data['discipline'] = np.where(data['discipline'] == 'A', 1, 0)\n",
    "    \n",
    "    #Convert the sex column into 0 and 1, if Male 1 else 0\n",
    "    data['sex'] = np.where(data['sex'] == 'Male', 1, 0)\n",
    "    return data"
   ]
  },
  {
   "cell_type": "code",
   "execution_count": 11,
   "id": "7e004e70",
   "metadata": {},
   "outputs": [],
   "source": [
    "data = feature_engineering(data)"
   ]
  },
  {
   "cell_type": "code",
   "execution_count": 12,
   "id": "011e8ac0",
   "metadata": {},
   "outputs": [
    {
     "data": {
      "text/html": [
       "<div>\n",
       "<style scoped>\n",
       "    .dataframe tbody tr th:only-of-type {\n",
       "        vertical-align: middle;\n",
       "    }\n",
       "\n",
       "    .dataframe tbody tr th {\n",
       "        vertical-align: top;\n",
       "    }\n",
       "\n",
       "    .dataframe thead th {\n",
       "        text-align: right;\n",
       "    }\n",
       "</style>\n",
       "<table border=\"1\" class=\"dataframe\">\n",
       "  <thead>\n",
       "    <tr style=\"text-align: right;\">\n",
       "      <th></th>\n",
       "      <th>rank</th>\n",
       "      <th>discipline</th>\n",
       "      <th>yrs.since.phd</th>\n",
       "      <th>yrs.service</th>\n",
       "      <th>sex</th>\n",
       "      <th>salary</th>\n",
       "    </tr>\n",
       "  </thead>\n",
       "  <tbody>\n",
       "    <tr>\n",
       "      <th>0</th>\n",
       "      <td>1</td>\n",
       "      <td>0</td>\n",
       "      <td>19</td>\n",
       "      <td>18</td>\n",
       "      <td>1</td>\n",
       "      <td>139750.0</td>\n",
       "    </tr>\n",
       "    <tr>\n",
       "      <th>1</th>\n",
       "      <td>1</td>\n",
       "      <td>0</td>\n",
       "      <td>20</td>\n",
       "      <td>16</td>\n",
       "      <td>1</td>\n",
       "      <td>173200.0</td>\n",
       "    </tr>\n",
       "    <tr>\n",
       "      <th>2</th>\n",
       "      <td>0</td>\n",
       "      <td>0</td>\n",
       "      <td>4</td>\n",
       "      <td>3</td>\n",
       "      <td>1</td>\n",
       "      <td>79750.0</td>\n",
       "    </tr>\n",
       "    <tr>\n",
       "      <th>3</th>\n",
       "      <td>1</td>\n",
       "      <td>0</td>\n",
       "      <td>45</td>\n",
       "      <td>39</td>\n",
       "      <td>1</td>\n",
       "      <td>115000.0</td>\n",
       "    </tr>\n",
       "    <tr>\n",
       "      <th>4</th>\n",
       "      <td>1</td>\n",
       "      <td>0</td>\n",
       "      <td>40</td>\n",
       "      <td>41</td>\n",
       "      <td>1</td>\n",
       "      <td>141500.0</td>\n",
       "    </tr>\n",
       "    <tr>\n",
       "      <th>...</th>\n",
       "      <td>...</td>\n",
       "      <td>...</td>\n",
       "      <td>...</td>\n",
       "      <td>...</td>\n",
       "      <td>...</td>\n",
       "      <td>...</td>\n",
       "    </tr>\n",
       "    <tr>\n",
       "      <th>392</th>\n",
       "      <td>1</td>\n",
       "      <td>1</td>\n",
       "      <td>33</td>\n",
       "      <td>30</td>\n",
       "      <td>1</td>\n",
       "      <td>103106.0</td>\n",
       "    </tr>\n",
       "    <tr>\n",
       "      <th>393</th>\n",
       "      <td>1</td>\n",
       "      <td>1</td>\n",
       "      <td>31</td>\n",
       "      <td>19</td>\n",
       "      <td>1</td>\n",
       "      <td>150564.0</td>\n",
       "    </tr>\n",
       "    <tr>\n",
       "      <th>394</th>\n",
       "      <td>1</td>\n",
       "      <td>1</td>\n",
       "      <td>42</td>\n",
       "      <td>25</td>\n",
       "      <td>1</td>\n",
       "      <td>101738.0</td>\n",
       "    </tr>\n",
       "    <tr>\n",
       "      <th>395</th>\n",
       "      <td>1</td>\n",
       "      <td>1</td>\n",
       "      <td>25</td>\n",
       "      <td>15</td>\n",
       "      <td>1</td>\n",
       "      <td>95329.0</td>\n",
       "    </tr>\n",
       "    <tr>\n",
       "      <th>396</th>\n",
       "      <td>0</td>\n",
       "      <td>1</td>\n",
       "      <td>8</td>\n",
       "      <td>4</td>\n",
       "      <td>1</td>\n",
       "      <td>81035.0</td>\n",
       "    </tr>\n",
       "  </tbody>\n",
       "</table>\n",
       "<p>397 rows × 6 columns</p>\n",
       "</div>"
      ],
      "text/plain": [
       "     rank  discipline  yrs.since.phd  yrs.service  sex    salary\n",
       "0       1           0             19           18    1  139750.0\n",
       "1       1           0             20           16    1  173200.0\n",
       "2       0           0              4            3    1   79750.0\n",
       "3       1           0             45           39    1  115000.0\n",
       "4       1           0             40           41    1  141500.0\n",
       "..    ...         ...            ...          ...  ...       ...\n",
       "392     1           1             33           30    1  103106.0\n",
       "393     1           1             31           19    1  150564.0\n",
       "394     1           1             42           25    1  101738.0\n",
       "395     1           1             25           15    1   95329.0\n",
       "396     0           1              8            4    1   81035.0\n",
       "\n",
       "[397 rows x 6 columns]"
      ]
     },
     "execution_count": 12,
     "metadata": {},
     "output_type": "execute_result"
    }
   ],
   "source": [
    "data"
   ]
  },
  {
   "cell_type": "markdown",
   "id": "50fdfa5b",
   "metadata": {},
   "source": [
    "# Data have been featured successfully and now all the columns are in numerical value.\n"
   ]
  },
  {
   "cell_type": "code",
   "execution_count": 13,
   "id": "cd45c7e2",
   "metadata": {},
   "outputs": [
    {
     "data": {
      "text/html": [
       "<div>\n",
       "<style scoped>\n",
       "    .dataframe tbody tr th:only-of-type {\n",
       "        vertical-align: middle;\n",
       "    }\n",
       "\n",
       "    .dataframe tbody tr th {\n",
       "        vertical-align: top;\n",
       "    }\n",
       "\n",
       "    .dataframe thead th {\n",
       "        text-align: right;\n",
       "    }\n",
       "</style>\n",
       "<table border=\"1\" class=\"dataframe\">\n",
       "  <thead>\n",
       "    <tr style=\"text-align: right;\">\n",
       "      <th></th>\n",
       "      <th>rank</th>\n",
       "      <th>discipline</th>\n",
       "      <th>yrs.since.phd</th>\n",
       "      <th>yrs.service</th>\n",
       "      <th>sex</th>\n",
       "      <th>salary</th>\n",
       "    </tr>\n",
       "  </thead>\n",
       "  <tbody>\n",
       "    <tr>\n",
       "      <th>count</th>\n",
       "      <td>397.000000</td>\n",
       "      <td>397.000000</td>\n",
       "      <td>397.000000</td>\n",
       "      <td>397.000000</td>\n",
       "      <td>397.000000</td>\n",
       "      <td>397.000000</td>\n",
       "    </tr>\n",
       "    <tr>\n",
       "      <th>mean</th>\n",
       "      <td>0.670025</td>\n",
       "      <td>0.455919</td>\n",
       "      <td>22.314861</td>\n",
       "      <td>17.607053</td>\n",
       "      <td>0.901763</td>\n",
       "      <td>113595.230479</td>\n",
       "    </tr>\n",
       "    <tr>\n",
       "      <th>std</th>\n",
       "      <td>0.470797</td>\n",
       "      <td>0.498682</td>\n",
       "      <td>12.887003</td>\n",
       "      <td>12.982185</td>\n",
       "      <td>0.298010</td>\n",
       "      <td>29925.691181</td>\n",
       "    </tr>\n",
       "    <tr>\n",
       "      <th>min</th>\n",
       "      <td>0.000000</td>\n",
       "      <td>0.000000</td>\n",
       "      <td>1.000000</td>\n",
       "      <td>0.000000</td>\n",
       "      <td>0.000000</td>\n",
       "      <td>57800.000000</td>\n",
       "    </tr>\n",
       "    <tr>\n",
       "      <th>25%</th>\n",
       "      <td>0.000000</td>\n",
       "      <td>0.000000</td>\n",
       "      <td>12.000000</td>\n",
       "      <td>7.000000</td>\n",
       "      <td>1.000000</td>\n",
       "      <td>91000.000000</td>\n",
       "    </tr>\n",
       "    <tr>\n",
       "      <th>50%</th>\n",
       "      <td>1.000000</td>\n",
       "      <td>0.000000</td>\n",
       "      <td>21.000000</td>\n",
       "      <td>16.000000</td>\n",
       "      <td>1.000000</td>\n",
       "      <td>107300.000000</td>\n",
       "    </tr>\n",
       "    <tr>\n",
       "      <th>75%</th>\n",
       "      <td>1.000000</td>\n",
       "      <td>1.000000</td>\n",
       "      <td>32.000000</td>\n",
       "      <td>27.000000</td>\n",
       "      <td>1.000000</td>\n",
       "      <td>134185.000000</td>\n",
       "    </tr>\n",
       "    <tr>\n",
       "      <th>max</th>\n",
       "      <td>1.000000</td>\n",
       "      <td>1.000000</td>\n",
       "      <td>56.000000</td>\n",
       "      <td>57.000000</td>\n",
       "      <td>1.000000</td>\n",
       "      <td>198962.500000</td>\n",
       "    </tr>\n",
       "  </tbody>\n",
       "</table>\n",
       "</div>"
      ],
      "text/plain": [
       "             rank  discipline  yrs.since.phd  yrs.service         sex  \\\n",
       "count  397.000000  397.000000     397.000000   397.000000  397.000000   \n",
       "mean     0.670025    0.455919      22.314861    17.607053    0.901763   \n",
       "std      0.470797    0.498682      12.887003    12.982185    0.298010   \n",
       "min      0.000000    0.000000       1.000000     0.000000    0.000000   \n",
       "25%      0.000000    0.000000      12.000000     7.000000    1.000000   \n",
       "50%      1.000000    0.000000      21.000000    16.000000    1.000000   \n",
       "75%      1.000000    1.000000      32.000000    27.000000    1.000000   \n",
       "max      1.000000    1.000000      56.000000    57.000000    1.000000   \n",
       "\n",
       "              salary  \n",
       "count     397.000000  \n",
       "mean   113595.230479  \n",
       "std     29925.691181  \n",
       "min     57800.000000  \n",
       "25%     91000.000000  \n",
       "50%    107300.000000  \n",
       "75%    134185.000000  \n",
       "max    198962.500000  "
      ]
     },
     "execution_count": 13,
     "metadata": {},
     "output_type": "execute_result"
    }
   ],
   "source": [
    "data.describe()"
   ]
  },
  {
   "cell_type": "markdown",
   "id": "9cc0843c",
   "metadata": {},
   "source": [
    "# In yrs.service column min value is showing 0 and max 57 which can't be true. I will apply mean method to deal with min and as per my research a Professors average service time would be between 25 to 35 years. Hence I will remove the data which has yrs.service over 35 years."
   ]
  },
  {
   "cell_type": "code",
   "execution_count": 14,
   "id": "37c0a0e9",
   "metadata": {},
   "outputs": [],
   "source": [
    "#Handling min = 0 by applying mean method .\n",
    "data['yrs.service'] = data['yrs.service'].replace(0,data['yrs.service'].mean())"
   ]
  },
  {
   "cell_type": "code",
   "execution_count": 15,
   "id": "b5900bc8",
   "metadata": {},
   "outputs": [
    {
     "name": "stdout",
     "output_type": "stream",
     "text": [
      "[array([  3,   4,   7,  19,  43,  69,  71,  86,  93, 113, 117, 125, 131,\n",
      "       194, 201, 211, 229, 238, 242, 250, 261, 266, 268, 270, 276, 279,\n",
      "       280, 282, 283, 285, 295, 298, 299, 300, 304, 317, 327, 330, 335,\n",
      "       342, 350, 351, 356, 364, 365, 378, 383, 388], dtype=int64)]\n"
     ]
    }
   ],
   "source": [
    "#Will look for the index's which has values over 35 years in service column\n",
    "yrs_service = np.where(data['yrs.service'] > 35)\n",
    "yrs_service = list(yrs_service)\n",
    "print(yrs_service)"
   ]
  },
  {
   "cell_type": "code",
   "execution_count": 16,
   "id": "163d0a38",
   "metadata": {},
   "outputs": [],
   "source": [
    "#Will drop those index which has values over 40 years\n",
    "data = data.drop(data.index[yrs_service])"
   ]
  },
  {
   "cell_type": "code",
   "execution_count": 17,
   "id": "9766a202",
   "metadata": {},
   "outputs": [
    {
     "data": {
      "text/html": [
       "<div>\n",
       "<style scoped>\n",
       "    .dataframe tbody tr th:only-of-type {\n",
       "        vertical-align: middle;\n",
       "    }\n",
       "\n",
       "    .dataframe tbody tr th {\n",
       "        vertical-align: top;\n",
       "    }\n",
       "\n",
       "    .dataframe thead th {\n",
       "        text-align: right;\n",
       "    }\n",
       "</style>\n",
       "<table border=\"1\" class=\"dataframe\">\n",
       "  <thead>\n",
       "    <tr style=\"text-align: right;\">\n",
       "      <th></th>\n",
       "      <th>rank</th>\n",
       "      <th>discipline</th>\n",
       "      <th>yrs.since.phd</th>\n",
       "      <th>yrs.service</th>\n",
       "      <th>sex</th>\n",
       "      <th>salary</th>\n",
       "    </tr>\n",
       "  </thead>\n",
       "  <tbody>\n",
       "    <tr>\n",
       "      <th>count</th>\n",
       "      <td>349.000000</td>\n",
       "      <td>349.000000</td>\n",
       "      <td>349.000000</td>\n",
       "      <td>349.000000</td>\n",
       "      <td>349.000000</td>\n",
       "      <td>349.000000</td>\n",
       "    </tr>\n",
       "    <tr>\n",
       "      <th>mean</th>\n",
       "      <td>0.633238</td>\n",
       "      <td>0.432665</td>\n",
       "      <td>19.472779</td>\n",
       "      <td>14.830022</td>\n",
       "      <td>0.891117</td>\n",
       "      <td>112781.537249</td>\n",
       "    </tr>\n",
       "    <tr>\n",
       "      <th>std</th>\n",
       "      <td>0.482613</td>\n",
       "      <td>0.496157</td>\n",
       "      <td>10.841464</td>\n",
       "      <td>9.448086</td>\n",
       "      <td>0.311939</td>\n",
       "      <td>28997.305096</td>\n",
       "    </tr>\n",
       "    <tr>\n",
       "      <th>min</th>\n",
       "      <td>0.000000</td>\n",
       "      <td>0.000000</td>\n",
       "      <td>1.000000</td>\n",
       "      <td>1.000000</td>\n",
       "      <td>0.000000</td>\n",
       "      <td>62884.000000</td>\n",
       "    </tr>\n",
       "    <tr>\n",
       "      <th>25%</th>\n",
       "      <td>0.000000</td>\n",
       "      <td>0.000000</td>\n",
       "      <td>11.000000</td>\n",
       "      <td>7.000000</td>\n",
       "      <td>1.000000</td>\n",
       "      <td>91000.000000</td>\n",
       "    </tr>\n",
       "    <tr>\n",
       "      <th>50%</th>\n",
       "      <td>1.000000</td>\n",
       "      <td>0.000000</td>\n",
       "      <td>19.000000</td>\n",
       "      <td>15.000000</td>\n",
       "      <td>1.000000</td>\n",
       "      <td>107008.000000</td>\n",
       "    </tr>\n",
       "    <tr>\n",
       "      <th>75%</th>\n",
       "      <td>1.000000</td>\n",
       "      <td>1.000000</td>\n",
       "      <td>28.000000</td>\n",
       "      <td>22.000000</td>\n",
       "      <td>1.000000</td>\n",
       "      <td>132000.000000</td>\n",
       "    </tr>\n",
       "    <tr>\n",
       "      <th>max</th>\n",
       "      <td>1.000000</td>\n",
       "      <td>1.000000</td>\n",
       "      <td>43.000000</td>\n",
       "      <td>35.000000</td>\n",
       "      <td>1.000000</td>\n",
       "      <td>198962.500000</td>\n",
       "    </tr>\n",
       "  </tbody>\n",
       "</table>\n",
       "</div>"
      ],
      "text/plain": [
       "             rank  discipline  yrs.since.phd  yrs.service         sex  \\\n",
       "count  349.000000  349.000000     349.000000   349.000000  349.000000   \n",
       "mean     0.633238    0.432665      19.472779    14.830022    0.891117   \n",
       "std      0.482613    0.496157      10.841464     9.448086    0.311939   \n",
       "min      0.000000    0.000000       1.000000     1.000000    0.000000   \n",
       "25%      0.000000    0.000000      11.000000     7.000000    1.000000   \n",
       "50%      1.000000    0.000000      19.000000    15.000000    1.000000   \n",
       "75%      1.000000    1.000000      28.000000    22.000000    1.000000   \n",
       "max      1.000000    1.000000      43.000000    35.000000    1.000000   \n",
       "\n",
       "              salary  \n",
       "count     349.000000  \n",
       "mean   112781.537249  \n",
       "std     28997.305096  \n",
       "min     62884.000000  \n",
       "25%     91000.000000  \n",
       "50%    107008.000000  \n",
       "75%    132000.000000  \n",
       "max    198962.500000  "
      ]
     },
     "execution_count": 17,
     "metadata": {},
     "output_type": "execute_result"
    }
   ],
   "source": [
    "data.describe()"
   ]
  },
  {
   "cell_type": "markdown",
   "id": "229f3cf3",
   "metadata": {},
   "source": [
    "# Next I will implement a scatter plot to visualize the relationship between features and target."
   ]
  },
  {
   "cell_type": "code",
   "execution_count": 18,
   "id": "1f432ba2",
   "metadata": {},
   "outputs": [
    {
     "data": {
      "image/png": "[encoded data removed]",
      "text/plain": [
       "<Figure size 1080x576 with 5 Axes>"
      ]
     },
     "metadata": {
      "needs_background": "light"
     },
     "output_type": "display_data"
    }
   ],
   "source": [
    "#Visualize the relationship between the features and the target using scatterplots.\n",
    "\n",
    "fig, axs = plt.subplots(1,5)\n",
    "\n",
    "data.plot(kind = 'scatter', x = 'rank', y = 'salary', ax = axs[0], figsize = (15,8))\n",
    "\n",
    "data.plot(kind = 'scatter', x = 'discipline', y = 'salary', ax = axs[1])\n",
    "\n",
    "data.plot(kind = 'scatter', x = 'yrs.since.phd', y = 'salary', ax = axs[2])\n",
    "\n",
    "data.plot(kind = 'scatter', x = 'yrs.service', y = 'salary', ax = axs[3])\n",
    "\n",
    "data.plot(kind = 'scatter', x = 'sex', y = 'salary', ax = axs[4])\n",
    "\n",
    "fig.savefig('testdata.jpg')\n"
   ]
  },
  {
   "cell_type": "markdown",
   "id": "07649778",
   "metadata": {},
   "source": [
    "# From scatter plot I have observed apart from discipline all features are related to tagert variable. Next I will use heatmap to identify correlation between features."
   ]
  },
  {
   "cell_type": "code",
   "execution_count": 19,
   "id": "edda7de4",
   "metadata": {},
   "outputs": [
    {
     "data": {
      "image/png": "[encoded data removed]",
      "text/plain": [
       "<Figure size 576x288 with 2 Axes>"
      ]
     },
     "metadata": {},
     "output_type": "display_data"
    }
   ],
   "source": [
    "#Using heatmap to check correlation between features.\n",
    "plt.figure(figsize=(8,4),facecolor='yellow')\n",
    "sns.heatmap(data.corr(),annot=True)\n",
    "plt.title('Correlation between Features')\n",
    "plt.show()"
   ]
  },
  {
   "cell_type": "markdown",
   "id": "012c815c",
   "metadata": {},
   "source": [
    "Seeing High Correlation between yrs.since.phd and yrs.service so I am going to drop one of them."
   ]
  },
  {
   "cell_type": "markdown",
   "id": "9ccd9858",
   "metadata": {},
   "source": [
    "# One more time I will use scatter plot only for yrs.service and yrs.since phd to identify which column is more related to the target."
   ]
  },
  {
   "cell_type": "code",
   "execution_count": 28,
   "id": "616dd5a7",
   "metadata": {},
   "outputs": [],
   "source": [
    "scatter_data = data.drop(columns = ['rank','sex','salary','discipline'])"
   ]
  },
  {
   "cell_type": "code",
   "execution_count": 29,
   "id": "67ddd48b",
   "metadata": {},
   "outputs": [],
   "source": [
    "target = data['salary']"
   ]
  },
  {
   "cell_type": "code",
   "execution_count": 30,
   "id": "92b14682",
   "metadata": {},
   "outputs": [
    {
     "data": {
      "image/png": "[encoded data removed]",
      "text/plain": [
       "<Figure size 576x720 with 2 Axes>"
      ]
     },
     "metadata": {
      "needs_background": "light"
     },
     "output_type": "display_data"
    }
   ],
   "source": [
    "#Implementing scatterplot.\n",
    "plt.figure(figsize = (8,10))\n",
    "plotnumber = 1\n",
    "\n",
    "for column in scatter_data:\n",
    "    if plotnumber <= 2:\n",
    "        ax = plt.subplot(1,2,plotnumber)\n",
    "        plt.scatter(scatter_data[column],target)\n",
    "        plt.xlabel(column,fontsize = 20)\n",
    "        \n",
    "    plotnumber += 1\n",
    "    \n",
    "plt.tight_layout()"
   ]
  },
  {
   "cell_type": "markdown",
   "id": "9a502304",
   "metadata": {},
   "source": [
    "# From scatter plot I have observed that yrs.since.phd is more related to the salary than yrs.service hence, I will remove yrs.service from the dataset"
   ]
  },
  {
   "cell_type": "code",
   "execution_count": 31,
   "id": "05ba3023",
   "metadata": {},
   "outputs": [],
   "source": [
    "#Removing yrs.service column\n",
    "data = data.drop(columns = 'yrs.service')"
   ]
  },
  {
   "cell_type": "code",
   "execution_count": 32,
   "id": "1a82f59b",
   "metadata": {},
   "outputs": [
    {
     "data": {
      "text/html": [
       "<div>\n",
       "<style scoped>\n",
       "    .dataframe tbody tr th:only-of-type {\n",
       "        vertical-align: middle;\n",
       "    }\n",
       "\n",
       "    .dataframe tbody tr th {\n",
       "        vertical-align: top;\n",
       "    }\n",
       "\n",
       "    .dataframe thead th {\n",
       "        text-align: right;\n",
       "    }\n",
       "</style>\n",
       "<table border=\"1\" class=\"dataframe\">\n",
       "  <thead>\n",
       "    <tr style=\"text-align: right;\">\n",
       "      <th></th>\n",
       "      <th>rank</th>\n",
       "      <th>discipline</th>\n",
       "      <th>yrs.since.phd</th>\n",
       "      <th>sex</th>\n",
       "      <th>salary</th>\n",
       "    </tr>\n",
       "  </thead>\n",
       "  <tbody>\n",
       "    <tr>\n",
       "      <th>0</th>\n",
       "      <td>1</td>\n",
       "      <td>0</td>\n",
       "      <td>19</td>\n",
       "      <td>1</td>\n",
       "      <td>139750.0</td>\n",
       "    </tr>\n",
       "    <tr>\n",
       "      <th>1</th>\n",
       "      <td>1</td>\n",
       "      <td>0</td>\n",
       "      <td>20</td>\n",
       "      <td>1</td>\n",
       "      <td>173200.0</td>\n",
       "    </tr>\n",
       "    <tr>\n",
       "      <th>2</th>\n",
       "      <td>0</td>\n",
       "      <td>0</td>\n",
       "      <td>4</td>\n",
       "      <td>1</td>\n",
       "      <td>79750.0</td>\n",
       "    </tr>\n",
       "    <tr>\n",
       "      <th>5</th>\n",
       "      <td>0</td>\n",
       "      <td>0</td>\n",
       "      <td>6</td>\n",
       "      <td>1</td>\n",
       "      <td>97000.0</td>\n",
       "    </tr>\n",
       "    <tr>\n",
       "      <th>6</th>\n",
       "      <td>1</td>\n",
       "      <td>0</td>\n",
       "      <td>30</td>\n",
       "      <td>1</td>\n",
       "      <td>175000.0</td>\n",
       "    </tr>\n",
       "    <tr>\n",
       "      <th>...</th>\n",
       "      <td>...</td>\n",
       "      <td>...</td>\n",
       "      <td>...</td>\n",
       "      <td>...</td>\n",
       "      <td>...</td>\n",
       "    </tr>\n",
       "    <tr>\n",
       "      <th>392</th>\n",
       "      <td>1</td>\n",
       "      <td>1</td>\n",
       "      <td>33</td>\n",
       "      <td>1</td>\n",
       "      <td>103106.0</td>\n",
       "    </tr>\n",
       "    <tr>\n",
       "      <th>393</th>\n",
       "      <td>1</td>\n",
       "      <td>1</td>\n",
       "      <td>31</td>\n",
       "      <td>1</td>\n",
       "      <td>150564.0</td>\n",
       "    </tr>\n",
       "    <tr>\n",
       "      <th>394</th>\n",
       "      <td>1</td>\n",
       "      <td>1</td>\n",
       "      <td>42</td>\n",
       "      <td>1</td>\n",
       "      <td>101738.0</td>\n",
       "    </tr>\n",
       "    <tr>\n",
       "      <th>395</th>\n",
       "      <td>1</td>\n",
       "      <td>1</td>\n",
       "      <td>25</td>\n",
       "      <td>1</td>\n",
       "      <td>95329.0</td>\n",
       "    </tr>\n",
       "    <tr>\n",
       "      <th>396</th>\n",
       "      <td>0</td>\n",
       "      <td>1</td>\n",
       "      <td>8</td>\n",
       "      <td>1</td>\n",
       "      <td>81035.0</td>\n",
       "    </tr>\n",
       "  </tbody>\n",
       "</table>\n",
       "<p>349 rows × 5 columns</p>\n",
       "</div>"
      ],
      "text/plain": [
       "     rank  discipline  yrs.since.phd  sex    salary\n",
       "0       1           0             19    1  139750.0\n",
       "1       1           0             20    1  173200.0\n",
       "2       0           0              4    1   79750.0\n",
       "5       0           0              6    1   97000.0\n",
       "6       1           0             30    1  175000.0\n",
       "..    ...         ...            ...  ...       ...\n",
       "392     1           1             33    1  103106.0\n",
       "393     1           1             31    1  150564.0\n",
       "394     1           1             42    1  101738.0\n",
       "395     1           1             25    1   95329.0\n",
       "396     0           1              8    1   81035.0\n",
       "\n",
       "[349 rows x 5 columns]"
      ]
     },
     "execution_count": 32,
     "metadata": {},
     "output_type": "execute_result"
    }
   ],
   "source": [
    "data"
   ]
  },
  {
   "cell_type": "markdown",
   "id": "896d1cdf",
   "metadata": {},
   "source": [
    "# Next I will create a distplot to visualize data distribution."
   ]
  },
  {
   "cell_type": "code",
   "execution_count": 33,
   "id": "063a5372",
   "metadata": {},
   "outputs": [
    {
     "data": {
      "image/png": "[encoded data removed]",
      "text/plain": [
       "<Figure size 720x576 with 4 Axes>"
      ]
     },
     "metadata": {},
     "output_type": "display_data"
    }
   ],
   "source": [
    "#Implementing distplot.\n",
    "plt.figure(figsize = (10,8), facecolor = 'red')\n",
    "plotnumber = 1\n",
    "\n",
    "for column in data:\n",
    "    if plotnumber <= 4:\n",
    "        ax = plt.subplot(2,2,plotnumber)\n",
    "        sns.distplot(data[column])\n",
    "        plt.xlabel(column,fontsize = 20)\n",
    "        \n",
    "    plotnumber += 1\n",
    "    \n",
    "plt.tight_layout()"
   ]
  },
  {
   "cell_type": "markdown",
   "id": "e150a299",
   "metadata": {},
   "source": [
    "# Distribution looks descent enough however I will remove sex column and the diversity of male and female is imbalanced in the dataset. Next will devide the dataset into x and y variable."
   ]
  },
  {
   "cell_type": "code",
   "execution_count": 34,
   "id": "9684367e",
   "metadata": {},
   "outputs": [],
   "source": [
    "data = data.drop(columns = ['sex'])"
   ]
  },
  {
   "cell_type": "code",
   "execution_count": 35,
   "id": "44bcaef4",
   "metadata": {},
   "outputs": [],
   "source": [
    "x = data.drop(columns=['salary'])\n",
    "y = data['salary']"
   ]
  },
  {
   "cell_type": "code",
   "execution_count": 36,
   "id": "d841e6e9",
   "metadata": {},
   "outputs": [
    {
     "data": {
      "text/html": [
       "<div>\n",
       "<style scoped>\n",
       "    .dataframe tbody tr th:only-of-type {\n",
       "        vertical-align: middle;\n",
       "    }\n",
       "\n",
       "    .dataframe tbody tr th {\n",
       "        vertical-align: top;\n",
       "    }\n",
       "\n",
       "    .dataframe thead th {\n",
       "        text-align: right;\n",
       "    }\n",
       "</style>\n",
       "<table border=\"1\" class=\"dataframe\">\n",
       "  <thead>\n",
       "    <tr style=\"text-align: right;\">\n",
       "      <th></th>\n",
       "      <th>rank</th>\n",
       "      <th>discipline</th>\n",
       "      <th>yrs.since.phd</th>\n",
       "    </tr>\n",
       "  </thead>\n",
       "  <tbody>\n",
       "    <tr>\n",
       "      <th>0</th>\n",
       "      <td>1</td>\n",
       "      <td>0</td>\n",
       "      <td>19</td>\n",
       "    </tr>\n",
       "    <tr>\n",
       "      <th>1</th>\n",
       "      <td>1</td>\n",
       "      <td>0</td>\n",
       "      <td>20</td>\n",
       "    </tr>\n",
       "    <tr>\n",
       "      <th>2</th>\n",
       "      <td>0</td>\n",
       "      <td>0</td>\n",
       "      <td>4</td>\n",
       "    </tr>\n",
       "    <tr>\n",
       "      <th>5</th>\n",
       "      <td>0</td>\n",
       "      <td>0</td>\n",
       "      <td>6</td>\n",
       "    </tr>\n",
       "    <tr>\n",
       "      <th>6</th>\n",
       "      <td>1</td>\n",
       "      <td>0</td>\n",
       "      <td>30</td>\n",
       "    </tr>\n",
       "    <tr>\n",
       "      <th>...</th>\n",
       "      <td>...</td>\n",
       "      <td>...</td>\n",
       "      <td>...</td>\n",
       "    </tr>\n",
       "    <tr>\n",
       "      <th>392</th>\n",
       "      <td>1</td>\n",
       "      <td>1</td>\n",
       "      <td>33</td>\n",
       "    </tr>\n",
       "    <tr>\n",
       "      <th>393</th>\n",
       "      <td>1</td>\n",
       "      <td>1</td>\n",
       "      <td>31</td>\n",
       "    </tr>\n",
       "    <tr>\n",
       "      <th>394</th>\n",
       "      <td>1</td>\n",
       "      <td>1</td>\n",
       "      <td>42</td>\n",
       "    </tr>\n",
       "    <tr>\n",
       "      <th>395</th>\n",
       "      <td>1</td>\n",
       "      <td>1</td>\n",
       "      <td>25</td>\n",
       "    </tr>\n",
       "    <tr>\n",
       "      <th>396</th>\n",
       "      <td>0</td>\n",
       "      <td>1</td>\n",
       "      <td>8</td>\n",
       "    </tr>\n",
       "  </tbody>\n",
       "</table>\n",
       "<p>349 rows × 3 columns</p>\n",
       "</div>"
      ],
      "text/plain": [
       "     rank  discipline  yrs.since.phd\n",
       "0       1           0             19\n",
       "1       1           0             20\n",
       "2       0           0              4\n",
       "5       0           0              6\n",
       "6       1           0             30\n",
       "..    ...         ...            ...\n",
       "392     1           1             33\n",
       "393     1           1             31\n",
       "394     1           1             42\n",
       "395     1           1             25\n",
       "396     0           1              8\n",
       "\n",
       "[349 rows x 3 columns]"
      ]
     },
     "execution_count": 36,
     "metadata": {},
     "output_type": "execute_result"
    }
   ],
   "source": [
    "x"
   ]
  },
  {
   "cell_type": "code",
   "execution_count": 37,
   "id": "98ec2e2b",
   "metadata": {},
   "outputs": [
    {
     "data": {
      "text/plain": [
       "0      139750.0\n",
       "1      173200.0\n",
       "2       79750.0\n",
       "5       97000.0\n",
       "6      175000.0\n",
       "         ...   \n",
       "392    103106.0\n",
       "393    150564.0\n",
       "394    101738.0\n",
       "395     95329.0\n",
       "396     81035.0\n",
       "Name: salary, Length: 349, dtype: float64"
      ]
     },
     "execution_count": 37,
     "metadata": {},
     "output_type": "execute_result"
    }
   ],
   "source": [
    "y"
   ]
  },
  {
   "cell_type": "markdown",
   "id": "37bf4108",
   "metadata": {},
   "source": [
    "# Scaling data using Standard Scaler method."
   ]
  },
  {
   "cell_type": "code",
   "execution_count": 38,
   "id": "13d23b8a",
   "metadata": {},
   "outputs": [],
   "source": [
    "#Import standard scaler.\n",
    "from sklearn.preprocessing import StandardScaler"
   ]
  },
  {
   "cell_type": "code",
   "execution_count": 39,
   "id": "9ec5ea01",
   "metadata": {},
   "outputs": [],
   "source": [
    "scaler = StandardScaler()"
   ]
  },
  {
   "cell_type": "code",
   "execution_count": 40,
   "id": "39e08161",
   "metadata": {},
   "outputs": [],
   "source": [
    "x_scaled = scaler.fit_transform(x)"
   ]
  },
  {
   "cell_type": "code",
   "execution_count": 41,
   "id": "7a7fec65",
   "metadata": {},
   "outputs": [
    {
     "data": {
      "text/plain": [
       "array([[ 0.76104239, -0.87328475, -0.04367106],\n",
       "       [ 0.76104239, -0.87328475,  0.04869984],\n",
       "       [-1.31398725, -0.87328475, -1.42923457],\n",
       "       ...,\n",
       "       [ 0.76104239,  1.14510186,  2.08085966],\n",
       "       [ 0.76104239,  1.14510186,  0.51055435],\n",
       "       [-1.31398725,  1.14510186, -1.05975096]])"
      ]
     },
     "execution_count": 41,
     "metadata": {},
     "output_type": "execute_result"
    }
   ],
   "source": [
    "#Checking scaled data\n",
    "x_scaled"
   ]
  },
  {
   "cell_type": "markdown",
   "id": "05f1fb37",
   "metadata": {},
   "source": [
    "# Now will be spliting data into train and test"
   ]
  },
  {
   "cell_type": "code",
   "execution_count": 42,
   "id": "03993e5f",
   "metadata": {},
   "outputs": [],
   "source": [
    "#Import train_test_split\n",
    "from sklearn.model_selection import train_test_split"
   ]
  },
  {
   "cell_type": "code",
   "execution_count": 43,
   "id": "dc220875",
   "metadata": {},
   "outputs": [],
   "source": [
    "x_train,x_test,y_train,y_test = train_test_split(x_scaled, y, test_size = 0.25, random_state = 42)"
   ]
  },
  {
   "cell_type": "code",
   "execution_count": 44,
   "id": "b9d50d6a",
   "metadata": {},
   "outputs": [
    {
     "data": {
      "text/plain": [
       "(261, 3)"
      ]
     },
     "execution_count": 44,
     "metadata": {},
     "output_type": "execute_result"
    }
   ],
   "source": [
    "x_train.shape"
   ]
  },
  {
   "cell_type": "code",
   "execution_count": 45,
   "id": "561be326",
   "metadata": {},
   "outputs": [
    {
     "data": {
      "text/plain": [
       "(261,)"
      ]
     },
     "execution_count": 45,
     "metadata": {},
     "output_type": "execute_result"
    }
   ],
   "source": [
    "y_train.shape"
   ]
  },
  {
   "cell_type": "code",
   "execution_count": 46,
   "id": "3194c24b",
   "metadata": {},
   "outputs": [
    {
     "data": {
      "text/plain": [
       "(88, 3)"
      ]
     },
     "execution_count": 46,
     "metadata": {},
     "output_type": "execute_result"
    }
   ],
   "source": [
    "x_test.shape"
   ]
  },
  {
   "cell_type": "code",
   "execution_count": 47,
   "id": "eeef5b67",
   "metadata": {},
   "outputs": [
    {
     "data": {
      "text/plain": [
       "(88,)"
      ]
     },
     "execution_count": 47,
     "metadata": {},
     "output_type": "execute_result"
    }
   ],
   "source": [
    "y_test.shape"
   ]
  },
  {
   "cell_type": "markdown",
   "id": "b90e0ecb",
   "metadata": {},
   "source": [
    "# Now I will build a Machine Learning Model to predict salary."
   ]
  },
  {
   "cell_type": "code",
   "execution_count": 48,
   "id": "26e497d9",
   "metadata": {},
   "outputs": [],
   "source": [
    "#To predict salary I will use Linear Regrassion model.\n",
    "from sklearn.linear_model import LinearRegression"
   ]
  },
  {
   "cell_type": "code",
   "execution_count": 49,
   "id": "b776587e",
   "metadata": {},
   "outputs": [],
   "source": [
    "lr = LinearRegression()"
   ]
  },
  {
   "cell_type": "code",
   "execution_count": 50,
   "id": "37b060d9",
   "metadata": {},
   "outputs": [
    {
     "data": {
      "text/plain": [
       "LinearRegression()"
      ]
     },
     "execution_count": 50,
     "metadata": {},
     "output_type": "execute_result"
    }
   ],
   "source": [
    "lr.fit(x_train,y_train)"
   ]
  },
  {
   "cell_type": "code",
   "execution_count": 51,
   "id": "1714e6d1",
   "metadata": {},
   "outputs": [],
   "source": [
    "y_pred = lr.predict(x_test)"
   ]
  },
  {
   "cell_type": "markdown",
   "id": "bf20a2f0",
   "metadata": {},
   "source": [
    "# Will check how well LR model fits the data."
   ]
  },
  {
   "cell_type": "code",
   "execution_count": 52,
   "id": "b350ecb9",
   "metadata": {},
   "outputs": [],
   "source": [
    "#Will import R2 metric.\n",
    "from sklearn.metrics import r2_score"
   ]
  },
  {
   "cell_type": "code",
   "execution_count": 53,
   "id": "88998337",
   "metadata": {},
   "outputs": [
    {
     "data": {
      "text/plain": [
       "0.42890207142251036"
      ]
     },
     "execution_count": 53,
     "metadata": {},
     "output_type": "execute_result"
    }
   ],
   "source": [
    "#Print the R2 value of the model\n",
    "r2_score(y_test,y_pred)"
   ]
  },
  {
   "cell_type": "code",
   "execution_count": 54,
   "id": "69c1a3ae",
   "metadata": {},
   "outputs": [
    {
     "data": {
      "text/plain": [
       "0.5238619393184559"
      ]
     },
     "execution_count": 54,
     "metadata": {},
     "output_type": "execute_result"
    }
   ],
   "source": [
    "#Let's check how well model fits on train data\n",
    "\n",
    "#Adjusted R2 score\n",
    "lr.score(x_train,y_train)"
   ]
  },
  {
   "cell_type": "code",
   "execution_count": 78,
   "id": "10a0c033",
   "metadata": {},
   "outputs": [
    {
     "data": {
      "text/plain": [
       "0.4596097958504102"
      ]
     },
     "execution_count": 78,
     "metadata": {},
     "output_type": "execute_result"
    }
   ],
   "source": [
    "#Let's check how well model fits on test data\n",
    "\n",
    "#Adjusted R2 score\n",
    "\n",
    "lr.score(x_test,y_test)"
   ]
  },
  {
   "cell_type": "code",
   "execution_count": 56,
   "id": "413a6d8f",
   "metadata": {},
   "outputs": [
    {
     "data": {
      "text/html": [
       "<div>\n",
       "<style scoped>\n",
       "    .dataframe tbody tr th:only-of-type {\n",
       "        vertical-align: middle;\n",
       "    }\n",
       "\n",
       "    .dataframe tbody tr th {\n",
       "        vertical-align: top;\n",
       "    }\n",
       "\n",
       "    .dataframe thead th {\n",
       "        text-align: right;\n",
       "    }\n",
       "</style>\n",
       "<table border=\"1\" class=\"dataframe\">\n",
       "  <thead>\n",
       "    <tr style=\"text-align: right;\">\n",
       "      <th></th>\n",
       "      <th>Actual Salary</th>\n",
       "      <th>Predicted Salary</th>\n",
       "    </tr>\n",
       "  </thead>\n",
       "  <tbody>\n",
       "    <tr>\n",
       "      <th>170</th>\n",
       "      <td>91227.0</td>\n",
       "      <td>89183.620617</td>\n",
       "    </tr>\n",
       "    <tr>\n",
       "      <th>389</th>\n",
       "      <td>186023.0</td>\n",
       "      <td>125237.556108</td>\n",
       "    </tr>\n",
       "    <tr>\n",
       "      <th>358</th>\n",
       "      <td>109954.0</td>\n",
       "      <td>122269.030529</td>\n",
       "    </tr>\n",
       "    <tr>\n",
       "      <th>254</th>\n",
       "      <td>116450.0</td>\n",
       "      <td>122269.030529</td>\n",
       "    </tr>\n",
       "    <tr>\n",
       "      <th>168</th>\n",
       "      <td>101210.0</td>\n",
       "      <td>90964.735964</td>\n",
       "    </tr>\n",
       "    <tr>\n",
       "      <th>...</th>\n",
       "      <td>...</td>\n",
       "      <td>...</td>\n",
       "    </tr>\n",
       "    <tr>\n",
       "      <th>110</th>\n",
       "      <td>112429.0</td>\n",
       "      <td>117519.389604</td>\n",
       "    </tr>\n",
       "    <tr>\n",
       "      <th>292</th>\n",
       "      <td>183800.0</td>\n",
       "      <td>128799.786802</td>\n",
       "    </tr>\n",
       "    <tr>\n",
       "      <th>65</th>\n",
       "      <td>100522.0</td>\n",
       "      <td>91558.441079</td>\n",
       "    </tr>\n",
       "    <tr>\n",
       "      <th>394</th>\n",
       "      <td>101738.0</td>\n",
       "      <td>130580.902149</td>\n",
       "    </tr>\n",
       "    <tr>\n",
       "      <th>272</th>\n",
       "      <td>73000.0</td>\n",
       "      <td>75540.685063</td>\n",
       "    </tr>\n",
       "  </tbody>\n",
       "</table>\n",
       "<p>88 rows × 2 columns</p>\n",
       "</div>"
      ],
      "text/plain": [
       "     Actual Salary  Predicted Salary\n",
       "170        91227.0      89183.620617\n",
       "389       186023.0     125237.556108\n",
       "358       109954.0     122269.030529\n",
       "254       116450.0     122269.030529\n",
       "168       101210.0      90964.735964\n",
       "..             ...               ...\n",
       "110       112429.0     117519.389604\n",
       "292       183800.0     128799.786802\n",
       "65        100522.0      91558.441079\n",
       "394       101738.0     130580.902149\n",
       "272        73000.0      75540.685063\n",
       "\n",
       "[88 rows x 2 columns]"
      ]
     },
     "execution_count": 56,
     "metadata": {},
     "output_type": "execute_result"
    }
   ],
   "source": [
    "data_frame = pd.DataFrame({'Actual Salary':y_test,'Predicted Salary':y_pred})\n",
    "data_frame"
   ]
  }
 ],
 "metadata": {
  "kernelspec": {
   "display_name": "Python 3 (ipykernel)",
   "language": "python",
   "name": "python3"
  },
  "language_info": {
   "codemirror_mode": {
    "name": "ipython",
    "version": 3
   },
   "file_extension": ".py",
   "mimetype": "text/x-python",
   "name": "python",
   "nbconvert_exporter": "python",
   "pygments_lexer": "ipython3",
   "version": "3.9.7"
  }
 },
 "nbformat": 4,
 "nbformat_minor": 5
}
