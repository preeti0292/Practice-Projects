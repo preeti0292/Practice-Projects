{
 "cells": [
  {
   "cell_type": "markdown",
   "id": "91ca8747",
   "metadata": {},
   "source": [
    "# Problem Statement:\n",
    "\n",
    "The Titanic Problem is based on the sinking of the ‘Unsinkable’ ship Titanic in early 1912. It gives you information about multiple people like their ages, sexes, sibling counts, embarkment points, and whether or not they survived the disaster. Based on these features, you have to predict if an arbitrary passenger on Titanic would survive the sinking or not. "
   ]
  },
  {
   "cell_type": "markdown",
   "id": "ee17821f",
   "metadata": {},
   "source": [
    "# Downlaod Files:\n",
    "\n",
    "- https://github.com/dsrscientist/dataset1/blob/master/titanic_train.csv"
   ]
  },
  {
   "cell_type": "code",
   "execution_count": 69,
   "id": "993f01ec",
   "metadata": {},
   "outputs": [],
   "source": [
    "#Import neccessary libraries.\n",
    "import pandas as pd\n",
    "import numpy as np\n",
    "import seaborn as sns\n",
    "import matplotlib.pyplot as plt\n",
    "from matplotlib import style\n",
    "%matplotlib inline\n",
    "from sklearn.model_selection import train_test_split, GridSearchCV\n",
    "from sklearn.preprocessing import StandardScaler\n",
    "from sklearn.metrics import accuracy_score, confusion_matrix, roc_curve, roc_auc_score\n",
    "from sklearn.metrics import classification_report\n",
    "import warnings\n",
    "warnings.filterwarnings('ignore')"
   ]
  },
  {
   "cell_type": "code",
   "execution_count": 2,
   "id": "84ab3cd8",
   "metadata": {},
   "outputs": [
    {
     "data": {
      "text/html": [
       "<div>\n",
       "<style scoped>\n",
       "    .dataframe tbody tr th:only-of-type {\n",
       "        vertical-align: middle;\n",
       "    }\n",
       "\n",
       "    .dataframe tbody tr th {\n",
       "        vertical-align: top;\n",
       "    }\n",
       "\n",
       "    .dataframe thead th {\n",
       "        text-align: right;\n",
       "    }\n",
       "</style>\n",
       "<table border=\"1\" class=\"dataframe\">\n",
       "  <thead>\n",
       "    <tr style=\"text-align: right;\">\n",
       "      <th></th>\n",
       "      <th>PassengerId</th>\n",
       "      <th>Survived</th>\n",
       "      <th>Pclass</th>\n",
       "      <th>Name</th>\n",
       "      <th>Sex</th>\n",
       "      <th>Age</th>\n",
       "      <th>SibSp</th>\n",
       "      <th>Parch</th>\n",
       "      <th>Ticket</th>\n",
       "      <th>Fare</th>\n",
       "      <th>Cabin</th>\n",
       "      <th>Embarked</th>\n",
       "    </tr>\n",
       "  </thead>\n",
       "  <tbody>\n",
       "    <tr>\n",
       "      <th>0</th>\n",
       "      <td>1</td>\n",
       "      <td>0</td>\n",
       "      <td>3</td>\n",
       "      <td>Braund, Mr. Owen Harris</td>\n",
       "      <td>male</td>\n",
       "      <td>22.0</td>\n",
       "      <td>1</td>\n",
       "      <td>0</td>\n",
       "      <td>A/5 21171</td>\n",
       "      <td>7.2500</td>\n",
       "      <td>NaN</td>\n",
       "      <td>S</td>\n",
       "    </tr>\n",
       "    <tr>\n",
       "      <th>1</th>\n",
       "      <td>2</td>\n",
       "      <td>1</td>\n",
       "      <td>1</td>\n",
       "      <td>Cumings, Mrs. John Bradley (Florence Briggs Th...</td>\n",
       "      <td>female</td>\n",
       "      <td>38.0</td>\n",
       "      <td>1</td>\n",
       "      <td>0</td>\n",
       "      <td>PC 17599</td>\n",
       "      <td>71.2833</td>\n",
       "      <td>C85</td>\n",
       "      <td>C</td>\n",
       "    </tr>\n",
       "    <tr>\n",
       "      <th>2</th>\n",
       "      <td>3</td>\n",
       "      <td>1</td>\n",
       "      <td>3</td>\n",
       "      <td>Heikkinen, Miss. Laina</td>\n",
       "      <td>female</td>\n",
       "      <td>26.0</td>\n",
       "      <td>0</td>\n",
       "      <td>0</td>\n",
       "      <td>STON/O2. 3101282</td>\n",
       "      <td>7.9250</td>\n",
       "      <td>NaN</td>\n",
       "      <td>S</td>\n",
       "    </tr>\n",
       "    <tr>\n",
       "      <th>3</th>\n",
       "      <td>4</td>\n",
       "      <td>1</td>\n",
       "      <td>1</td>\n",
       "      <td>Futrelle, Mrs. Jacques Heath (Lily May Peel)</td>\n",
       "      <td>female</td>\n",
       "      <td>35.0</td>\n",
       "      <td>1</td>\n",
       "      <td>0</td>\n",
       "      <td>113803</td>\n",
       "      <td>53.1000</td>\n",
       "      <td>C123</td>\n",
       "      <td>S</td>\n",
       "    </tr>\n",
       "    <tr>\n",
       "      <th>4</th>\n",
       "      <td>5</td>\n",
       "      <td>0</td>\n",
       "      <td>3</td>\n",
       "      <td>Allen, Mr. William Henry</td>\n",
       "      <td>male</td>\n",
       "      <td>35.0</td>\n",
       "      <td>0</td>\n",
       "      <td>0</td>\n",
       "      <td>373450</td>\n",
       "      <td>8.0500</td>\n",
       "      <td>NaN</td>\n",
       "      <td>S</td>\n",
       "    </tr>\n",
       "  </tbody>\n",
       "</table>\n",
       "</div>"
      ],
      "text/plain": [
       "   PassengerId  Survived  Pclass  \\\n",
       "0            1         0       3   \n",
       "1            2         1       1   \n",
       "2            3         1       3   \n",
       "3            4         1       1   \n",
       "4            5         0       3   \n",
       "\n",
       "                                                Name     Sex   Age  SibSp  \\\n",
       "0                            Braund, Mr. Owen Harris    male  22.0      1   \n",
       "1  Cumings, Mrs. John Bradley (Florence Briggs Th...  female  38.0      1   \n",
       "2                             Heikkinen, Miss. Laina  female  26.0      0   \n",
       "3       Futrelle, Mrs. Jacques Heath (Lily May Peel)  female  35.0      1   \n",
       "4                           Allen, Mr. William Henry    male  35.0      0   \n",
       "\n",
       "   Parch            Ticket     Fare Cabin Embarked  \n",
       "0      0         A/5 21171   7.2500   NaN        S  \n",
       "1      0          PC 17599  71.2833   C85        C  \n",
       "2      0  STON/O2. 3101282   7.9250   NaN        S  \n",
       "3      0            113803  53.1000  C123        S  \n",
       "4      0            373450   8.0500   NaN        S  "
      ]
     },
     "execution_count": 2,
     "metadata": {},
     "output_type": "execute_result"
    }
   ],
   "source": [
    "#Read data\n",
    "df = pd.read_csv('https://raw.githubusercontent.com/dsrscientist/dataset1/master/titanic_train.csv')\n",
    "df.head()"
   ]
  },
  {
   "cell_type": "markdown",
   "id": "104f5d27",
   "metadata": {},
   "source": [
    "# Description of features.\n",
    "\n",
    "* Passenger ID - Unique ID of passengers.\n",
    "* Survived - Passenger survived '1' and not survived '0'.\n",
    "* Pclass - Class of ticket.\n",
    "* Name - Passenger's name.\n",
    "* Sex - Sex of passengers.\n",
    "* Age - Age of passengers.\n",
    "* SibSp - Siblings/ Spouse on board.\n",
    "* Parch - Parent's/ children on board.\n",
    "* Ticket - Ticket number.\n",
    "* Fare - Ticket fare.\n",
    "* Cabin - Cabin number.\n",
    "* Embarked - Port of embarkation."
   ]
  },
  {
   "cell_type": "markdown",
   "id": "1bd28da2",
   "metadata": {},
   "source": [
    "# Problem Solution:\n",
    "\n",
    "Here I need to predict wether passenger survived or not. Survived is my target variable and rest all the features are independent variables. This is a binary classification problem, to predict passenger's survival I am going to build few classification models and will compare them according to their metrics and use one of the model to predict answer."
   ]
  },
  {
   "cell_type": "code",
   "execution_count": 3,
   "id": "c0731bd5",
   "metadata": {},
   "outputs": [
    {
     "data": {
      "text/html": [
       "<div>\n",
       "<style scoped>\n",
       "    .dataframe tbody tr th:only-of-type {\n",
       "        vertical-align: middle;\n",
       "    }\n",
       "\n",
       "    .dataframe tbody tr th {\n",
       "        vertical-align: top;\n",
       "    }\n",
       "\n",
       "    .dataframe thead th {\n",
       "        text-align: right;\n",
       "    }\n",
       "</style>\n",
       "<table border=\"1\" class=\"dataframe\">\n",
       "  <thead>\n",
       "    <tr style=\"text-align: right;\">\n",
       "      <th></th>\n",
       "      <th>PassengerId</th>\n",
       "      <th>Survived</th>\n",
       "      <th>Pclass</th>\n",
       "      <th>Age</th>\n",
       "      <th>SibSp</th>\n",
       "      <th>Parch</th>\n",
       "      <th>Fare</th>\n",
       "    </tr>\n",
       "  </thead>\n",
       "  <tbody>\n",
       "    <tr>\n",
       "      <th>count</th>\n",
       "      <td>891.000000</td>\n",
       "      <td>891.000000</td>\n",
       "      <td>891.000000</td>\n",
       "      <td>714.000000</td>\n",
       "      <td>891.000000</td>\n",
       "      <td>891.000000</td>\n",
       "      <td>891.000000</td>\n",
       "    </tr>\n",
       "    <tr>\n",
       "      <th>mean</th>\n",
       "      <td>446.000000</td>\n",
       "      <td>0.383838</td>\n",
       "      <td>2.308642</td>\n",
       "      <td>29.699118</td>\n",
       "      <td>0.523008</td>\n",
       "      <td>0.381594</td>\n",
       "      <td>32.204208</td>\n",
       "    </tr>\n",
       "    <tr>\n",
       "      <th>std</th>\n",
       "      <td>257.353842</td>\n",
       "      <td>0.486592</td>\n",
       "      <td>0.836071</td>\n",
       "      <td>14.526497</td>\n",
       "      <td>1.102743</td>\n",
       "      <td>0.806057</td>\n",
       "      <td>49.693429</td>\n",
       "    </tr>\n",
       "    <tr>\n",
       "      <th>min</th>\n",
       "      <td>1.000000</td>\n",
       "      <td>0.000000</td>\n",
       "      <td>1.000000</td>\n",
       "      <td>0.420000</td>\n",
       "      <td>0.000000</td>\n",
       "      <td>0.000000</td>\n",
       "      <td>0.000000</td>\n",
       "    </tr>\n",
       "    <tr>\n",
       "      <th>25%</th>\n",
       "      <td>223.500000</td>\n",
       "      <td>0.000000</td>\n",
       "      <td>2.000000</td>\n",
       "      <td>20.125000</td>\n",
       "      <td>0.000000</td>\n",
       "      <td>0.000000</td>\n",
       "      <td>7.910400</td>\n",
       "    </tr>\n",
       "    <tr>\n",
       "      <th>50%</th>\n",
       "      <td>446.000000</td>\n",
       "      <td>0.000000</td>\n",
       "      <td>3.000000</td>\n",
       "      <td>28.000000</td>\n",
       "      <td>0.000000</td>\n",
       "      <td>0.000000</td>\n",
       "      <td>14.454200</td>\n",
       "    </tr>\n",
       "    <tr>\n",
       "      <th>75%</th>\n",
       "      <td>668.500000</td>\n",
       "      <td>1.000000</td>\n",
       "      <td>3.000000</td>\n",
       "      <td>38.000000</td>\n",
       "      <td>1.000000</td>\n",
       "      <td>0.000000</td>\n",
       "      <td>31.000000</td>\n",
       "    </tr>\n",
       "    <tr>\n",
       "      <th>max</th>\n",
       "      <td>891.000000</td>\n",
       "      <td>1.000000</td>\n",
       "      <td>3.000000</td>\n",
       "      <td>80.000000</td>\n",
       "      <td>8.000000</td>\n",
       "      <td>6.000000</td>\n",
       "      <td>512.329200</td>\n",
       "    </tr>\n",
       "  </tbody>\n",
       "</table>\n",
       "</div>"
      ],
      "text/plain": [
       "       PassengerId    Survived      Pclass         Age       SibSp  \\\n",
       "count   891.000000  891.000000  891.000000  714.000000  891.000000   \n",
       "mean    446.000000    0.383838    2.308642   29.699118    0.523008   \n",
       "std     257.353842    0.486592    0.836071   14.526497    1.102743   \n",
       "min       1.000000    0.000000    1.000000    0.420000    0.000000   \n",
       "25%     223.500000    0.000000    2.000000   20.125000    0.000000   \n",
       "50%     446.000000    0.000000    3.000000   28.000000    0.000000   \n",
       "75%     668.500000    1.000000    3.000000   38.000000    1.000000   \n",
       "max     891.000000    1.000000    3.000000   80.000000    8.000000   \n",
       "\n",
       "            Parch        Fare  \n",
       "count  891.000000  891.000000  \n",
       "mean     0.381594   32.204208  \n",
       "std      0.806057   49.693429  \n",
       "min      0.000000    0.000000  \n",
       "25%      0.000000    7.910400  \n",
       "50%      0.000000   14.454200  \n",
       "75%      0.000000   31.000000  \n",
       "max      6.000000  512.329200  "
      ]
     },
     "execution_count": 3,
     "metadata": {},
     "output_type": "execute_result"
    }
   ],
   "source": [
    "#Statistics of dataset.\n",
    "df.describe()"
   ]
  },
  {
   "cell_type": "markdown",
   "id": "5851e014",
   "metadata": {},
   "source": [
    "# Observations:\n",
    "\n",
    "* Around 38% passengers of the dataset survived.\n",
    "* Passengers from 4 months to 80 years of Age were present on the titanic.\n",
    "* Seeing missing values in Age column."
   ]
  },
  {
   "cell_type": "code",
   "execution_count": 4,
   "id": "e405323b",
   "metadata": {},
   "outputs": [
    {
     "name": "stdout",
     "output_type": "stream",
     "text": [
      "<class 'pandas.core.frame.DataFrame'>\n",
      "RangeIndex: 891 entries, 0 to 890\n",
      "Data columns (total 12 columns):\n",
      " #   Column       Non-Null Count  Dtype  \n",
      "---  ------       --------------  -----  \n",
      " 0   PassengerId  891 non-null    int64  \n",
      " 1   Survived     891 non-null    int64  \n",
      " 2   Pclass       891 non-null    int64  \n",
      " 3   Name         891 non-null    object \n",
      " 4   Sex          891 non-null    object \n",
      " 5   Age          714 non-null    float64\n",
      " 6   SibSp        891 non-null    int64  \n",
      " 7   Parch        891 non-null    int64  \n",
      " 8   Ticket       891 non-null    object \n",
      " 9   Fare         891 non-null    float64\n",
      " 10  Cabin        204 non-null    object \n",
      " 11  Embarked     889 non-null    object \n",
      "dtypes: float64(2), int64(5), object(5)\n",
      "memory usage: 83.7+ KB\n"
     ]
    }
   ],
   "source": [
    "#Checking info\n",
    "df.info()"
   ]
  },
  {
   "cell_type": "markdown",
   "id": "ece60448",
   "metadata": {},
   "source": [
    "# We have 5 object data type columns which are Name, Sex, Ticket number, Cabin and Embarked. Rest 7 columns are float and integer data type."
   ]
  },
  {
   "cell_type": "code",
   "execution_count": 5,
   "id": "e0faf9ef",
   "metadata": {},
   "outputs": [
    {
     "data": {
      "text/plain": [
       "0    549\n",
       "1    342\n",
       "Name: Survived, dtype: int64"
      ]
     },
     "execution_count": 5,
     "metadata": {},
     "output_type": "execute_result"
    }
   ],
   "source": [
    "#Get count of number of survivors.\n",
    "df['Survived'].value_counts()"
   ]
  },
  {
   "cell_type": "markdown",
   "id": "16e0e02e",
   "metadata": {},
   "source": [
    "# Survived counts are lesser than non-survived counts. Only 342 passengers  survived out of 891."
   ]
  },
  {
   "cell_type": "code",
   "execution_count": 6,
   "id": "fec7496a",
   "metadata": {},
   "outputs": [
    {
     "data": {
      "image/png": "[encoded data removed]",
      "text/plain": [
       "<Figure size 864x288 with 2 Axes>"
      ]
     },
     "metadata": {
      "needs_background": "light"
     },
     "output_type": "display_data"
    }
   ],
   "source": [
    "#Visualizing the count of survivors\n",
    "fig, ax = plt.subplots(1,2, figsize = (12,4))\n",
    "df['Survived'].value_counts().plot.pie(explode = [0, 0.1], autopct = '%1.1f%%', ax = ax[0], shadow = True)\n",
    "ax[0].set_title('Survivors (1) and the dead (0)')\n",
    "ax[0].set_ylabel('')\n",
    "sns.countplot('Survived', data = df, ax = ax[1])\n",
    "ax[1].set_title('Survivors (1) and the dead (0)')\n",
    "ax[1].set_ylabel('Quantity')\n",
    "plt.show()"
   ]
  },
  {
   "cell_type": "markdown",
   "id": "b92eac09",
   "metadata": {},
   "source": [
    "# 61.6% passengers of the data set died on the day when the titanic sanked and 38.4% passengers survived."
   ]
  },
  {
   "cell_type": "code",
   "execution_count": 7,
   "id": "8d1ae541",
   "metadata": {},
   "outputs": [
    {
     "data": {
      "image/png": "[encoded data removed]",
      "text/plain": [
       "<Figure size 576x576 with 4 Axes>"
      ]
     },
     "metadata": {
      "needs_background": "light"
     },
     "output_type": "display_data"
    }
   ],
   "source": [
    "#Visualize the count of survivors for columns 'Sex', 'Pclass', 'Sibsp', 'Parch' and 'Embarked'.\n",
    "columns = ['Sex', 'Pclass', 'SibSp', 'Parch']\n",
    "\n",
    "rows = 2\n",
    "cols = 2\n",
    "\n",
    "#The subplot grid and figure size of each graph\n",
    "fig, axs = plt.subplots(rows, cols, figsize = (cols * 4, rows * 4))\n",
    "\n",
    "for r in range(0, rows):\n",
    "    for c in range(0, cols):\n",
    "        \n",
    "        i = r * cols + c #index to go through the number of columns\n",
    "        ax = axs[r][c]#Show where to position each subplot\n",
    "        sns.countplot(df[columns[i]], hue = df['Survived'], ax = ax)\n",
    "        ax.set_title(columns[i])\n",
    "        ax.legend(title = 'Survived', loc = 'upper right')\n",
    "        \n",
    "plt.tight_layout()"
   ]
  },
  {
   "cell_type": "markdown",
   "id": "0f1e0bb1",
   "metadata": {},
   "source": [
    "# Observations from the above graph\n",
    "\n",
    "* Male survival count is very poor compared to Female. Majority of the Male passengers did not survive.\n",
    "* Over 400 male passengers died out of 891 and only 100 male passengers survived.\n",
    "* Around 350 3rd class passengers did not survive.\n",
    "* For Sibling/Spouse if the number is 0 then most likly the majority of those passengers did not survive. \n",
    "* Same with Parent/Child the passenger without parent or child most likely did not survive the sink."
   ]
  },
  {
   "cell_type": "code",
   "execution_count": 8,
   "id": "176af07e",
   "metadata": {},
   "outputs": [
    {
     "data": {
      "text/html": [
       "<div>\n",
       "<style scoped>\n",
       "    .dataframe tbody tr th:only-of-type {\n",
       "        vertical-align: middle;\n",
       "    }\n",
       "\n",
       "    .dataframe tbody tr th {\n",
       "        vertical-align: top;\n",
       "    }\n",
       "\n",
       "    .dataframe thead th {\n",
       "        text-align: right;\n",
       "    }\n",
       "</style>\n",
       "<table border=\"1\" class=\"dataframe\">\n",
       "  <thead>\n",
       "    <tr style=\"text-align: right;\">\n",
       "      <th></th>\n",
       "      <th>Survived</th>\n",
       "    </tr>\n",
       "    <tr>\n",
       "      <th>Sex</th>\n",
       "      <th></th>\n",
       "    </tr>\n",
       "  </thead>\n",
       "  <tbody>\n",
       "    <tr>\n",
       "      <th>female</th>\n",
       "      <td>0.742038</td>\n",
       "    </tr>\n",
       "    <tr>\n",
       "      <th>male</th>\n",
       "      <td>0.188908</td>\n",
       "    </tr>\n",
       "  </tbody>\n",
       "</table>\n",
       "</div>"
      ],
      "text/plain": [
       "        Survived\n",
       "Sex             \n",
       "female  0.742038\n",
       "male    0.188908"
      ]
     },
     "execution_count": 8,
     "metadata": {},
     "output_type": "execute_result"
    }
   ],
   "source": [
    "#Look at the survival rate by sex.\n",
    "df.groupby('Sex')[['Survived']].mean()"
   ]
  },
  {
   "cell_type": "markdown",
   "id": "6dd9bfb9",
   "metadata": {},
   "source": [
    "# I can see that 74.2% female of this dataset survived where as only 18.89% male passenger of this dataset survived."
   ]
  },
  {
   "cell_type": "code",
   "execution_count": 9,
   "id": "8b5ca57d",
   "metadata": {},
   "outputs": [
    {
     "data": {
      "text/html": [
       "<div>\n",
       "<style scoped>\n",
       "    .dataframe tbody tr th:only-of-type {\n",
       "        vertical-align: middle;\n",
       "    }\n",
       "\n",
       "    .dataframe tbody tr th {\n",
       "        vertical-align: top;\n",
       "    }\n",
       "\n",
       "    .dataframe thead th {\n",
       "        text-align: right;\n",
       "    }\n",
       "</style>\n",
       "<table border=\"1\" class=\"dataframe\">\n",
       "  <thead>\n",
       "    <tr style=\"text-align: right;\">\n",
       "      <th>Pclass</th>\n",
       "      <th>1</th>\n",
       "      <th>2</th>\n",
       "      <th>3</th>\n",
       "    </tr>\n",
       "    <tr>\n",
       "      <th>Sex</th>\n",
       "      <th></th>\n",
       "      <th></th>\n",
       "      <th></th>\n",
       "    </tr>\n",
       "  </thead>\n",
       "  <tbody>\n",
       "    <tr>\n",
       "      <th>female</th>\n",
       "      <td>0.968085</td>\n",
       "      <td>0.921053</td>\n",
       "      <td>0.500000</td>\n",
       "    </tr>\n",
       "    <tr>\n",
       "      <th>male</th>\n",
       "      <td>0.368852</td>\n",
       "      <td>0.157407</td>\n",
       "      <td>0.135447</td>\n",
       "    </tr>\n",
       "  </tbody>\n",
       "</table>\n",
       "</div>"
      ],
      "text/plain": [
       "Pclass         1         2         3\n",
       "Sex                                 \n",
       "female  0.968085  0.921053  0.500000\n",
       "male    0.368852  0.157407  0.135447"
      ]
     },
     "execution_count": 9,
     "metadata": {},
     "output_type": "execute_result"
    }
   ],
   "source": [
    "#Look at survival rate by sex and class.\n",
    "df.pivot_table('Survived', index = 'Sex', columns = 'Pclass')"
   ]
  },
  {
   "cell_type": "markdown",
   "id": "08b8bdc7",
   "metadata": {},
   "source": [
    "# Females of first class have the highest rate of survival which is 96.8% and males of third class have lowest survival rate which is 13.5%."
   ]
  },
  {
   "cell_type": "code",
   "execution_count": 11,
   "id": "9dfc1941",
   "metadata": {},
   "outputs": [
    {
     "data": {
      "image/png": "[encoded data removed]",
      "text/plain": [
       "<Figure size 432x288 with 1 Axes>"
      ]
     },
     "metadata": {
      "needs_background": "light"
     },
     "output_type": "display_data"
    }
   ],
   "source": [
    "#Look at survival rate by sex and class visually.\n",
    "df.pivot_table('Survived', index = 'Sex', columns = 'Pclass').plot()\n",
    "plt.show()"
   ]
  },
  {
   "cell_type": "markdown",
   "id": "88bc3389",
   "metadata": {},
   "source": [
    "# It looks like 1st class of passengers have the highest survival rate and passengers of the 3rd class have the lowest survival rate."
   ]
  },
  {
   "cell_type": "code",
   "execution_count": 12,
   "id": "1cdd22ce",
   "metadata": {},
   "outputs": [
    {
     "data": {
      "image/png": "[encoded data removed]",
      "text/plain": [
       "<Figure size 432x288 with 1 Axes>"
      ]
     },
     "metadata": {
      "needs_background": "light"
     },
     "output_type": "display_data"
    }
   ],
   "source": [
    "#Plot the survival rate of each class\n",
    "sns.barplot(x = 'Pclass', y = 'Survived', data = df)\n",
    "plt.show()"
   ]
  },
  {
   "cell_type": "markdown",
   "id": "d32f1d7f",
   "metadata": {},
   "source": [
    "# As I have observed earlier 1st class have the highest chances of survival which is around 60% and 3rd class of the passengers have the lowest chances of approval around 25%."
   ]
  },
  {
   "cell_type": "code",
   "execution_count": 13,
   "id": "9d45908c",
   "metadata": {},
   "outputs": [
    {
     "data": {
      "text/html": [
       "<div>\n",
       "<style scoped>\n",
       "    .dataframe tbody tr th:only-of-type {\n",
       "        vertical-align: middle;\n",
       "    }\n",
       "\n",
       "    .dataframe tbody tr th {\n",
       "        vertical-align: top;\n",
       "    }\n",
       "\n",
       "    .dataframe thead th {\n",
       "        text-align: right;\n",
       "    }\n",
       "</style>\n",
       "<table border=\"1\" class=\"dataframe\">\n",
       "  <thead>\n",
       "    <tr style=\"text-align: right;\">\n",
       "      <th></th>\n",
       "      <th>Pclass</th>\n",
       "      <th>1</th>\n",
       "      <th>2</th>\n",
       "      <th>3</th>\n",
       "    </tr>\n",
       "    <tr>\n",
       "      <th>Sex</th>\n",
       "      <th>Age</th>\n",
       "      <th></th>\n",
       "      <th></th>\n",
       "      <th></th>\n",
       "    </tr>\n",
       "  </thead>\n",
       "  <tbody>\n",
       "    <tr>\n",
       "      <th rowspan=\"2\" valign=\"top\">female</th>\n",
       "      <th>(0, 18]</th>\n",
       "      <td>0.909091</td>\n",
       "      <td>1.000000</td>\n",
       "      <td>0.511628</td>\n",
       "    </tr>\n",
       "    <tr>\n",
       "      <th>(18, 80]</th>\n",
       "      <td>0.972973</td>\n",
       "      <td>0.900000</td>\n",
       "      <td>0.423729</td>\n",
       "    </tr>\n",
       "    <tr>\n",
       "      <th rowspan=\"2\" valign=\"top\">male</th>\n",
       "      <th>(0, 18]</th>\n",
       "      <td>0.800000</td>\n",
       "      <td>0.600000</td>\n",
       "      <td>0.215686</td>\n",
       "    </tr>\n",
       "    <tr>\n",
       "      <th>(18, 80]</th>\n",
       "      <td>0.375000</td>\n",
       "      <td>0.071429</td>\n",
       "      <td>0.133663</td>\n",
       "    </tr>\n",
       "  </tbody>\n",
       "</table>\n",
       "</div>"
      ],
      "text/plain": [
       "Pclass                  1         2         3\n",
       "Sex    Age                                   \n",
       "female (0, 18]   0.909091  1.000000  0.511628\n",
       "       (18, 80]  0.972973  0.900000  0.423729\n",
       "male   (0, 18]   0.800000  0.600000  0.215686\n",
       "       (18, 80]  0.375000  0.071429  0.133663"
      ]
     },
     "execution_count": 13,
     "metadata": {},
     "output_type": "execute_result"
    }
   ],
   "source": [
    "#Look at survival rate by sex, age and class.\n",
    "age = pd.cut(df['Age'], [0,18,80])\n",
    "df.pivot_table('Survived', ['Sex', age], 'Pclass')"
   ]
  },
  {
   "cell_type": "markdown",
   "id": "2b854379",
   "metadata": {},
   "source": [
    "# Observations of the above pivot table.\n",
    "\n",
    "* Adult female aged between 18 to 80 of the first class have the highest survival rate of 97.29%.\n",
    "* Male passenger of second class aged between 18 to 80 has the lowest survival rate of 07%."
   ]
  },
  {
   "cell_type": "code",
   "execution_count": 14,
   "id": "188e2f9b",
   "metadata": {},
   "outputs": [
    {
     "data": {
      "image/png": "[encoded data removed]",
      "text/plain": [
       "<Figure size 432x288 with 1 Axes>"
      ]
     },
     "metadata": {
      "needs_background": "light"
     },
     "output_type": "display_data"
    }
   ],
   "source": [
    "#Plot the prices paid of each class.\n",
    "plt.scatter(df['Fare'], df['Pclass'], color = 'red', label = 'Passenger paid')\n",
    "plt.ylabel('Class')\n",
    "plt.xlabel('Price')\n",
    "plt.title('Price of Each Class')\n",
    "plt.legend()\n",
    "plt.show()"
   ]
  },
  {
   "cell_type": "markdown",
   "id": "c680c843",
   "metadata": {},
   "source": [
    "# Here each dot is a passenger and x axis is the fare and y axis is the class. The highest fare was paid by a first class passenger which is around 500 british pounds. And the interesting point to note here is that from every class some passengers went on titanic for free as for ever class we have minimum fare as 0 british pounds. Also, passengers who paid more than 100 british pounds were in first class."
   ]
  },
  {
   "cell_type": "code",
   "execution_count": 15,
   "id": "5a53ff6b",
   "metadata": {},
   "outputs": [
    {
     "data": {
      "text/plain": [
       "PassengerId      0\n",
       "Survived         0\n",
       "Pclass           0\n",
       "Name             0\n",
       "Sex              0\n",
       "Age            177\n",
       "SibSp            0\n",
       "Parch            0\n",
       "Ticket           0\n",
       "Fare             0\n",
       "Cabin          687\n",
       "Embarked         2\n",
       "dtype: int64"
      ]
     },
     "execution_count": 15,
     "metadata": {},
     "output_type": "execute_result"
    }
   ],
   "source": [
    "#Checking null values for entire dataset\n",
    "df.isnull().sum()"
   ]
  },
  {
   "cell_type": "markdown",
   "id": "9ce68b6b",
   "metadata": {},
   "source": [
    "* 177 null values are present in Age column.\n",
    "* 687 null values are present in Cabin which is a lot of missing values around 77% of the dataset hence I am going to remove this column.\n",
    "* 2 null values are present for Embarked column. "
   ]
  },
  {
   "cell_type": "code",
   "execution_count": 16,
   "id": "741957b0",
   "metadata": {},
   "outputs": [],
   "source": [
    "#Droping Cabin \n",
    "df = df.drop(columns = 'Cabin')"
   ]
  },
  {
   "cell_type": "code",
   "execution_count": 17,
   "id": "552feb83",
   "metadata": {},
   "outputs": [
    {
     "data": {
      "text/html": [
       "<div>\n",
       "<style scoped>\n",
       "    .dataframe tbody tr th:only-of-type {\n",
       "        vertical-align: middle;\n",
       "    }\n",
       "\n",
       "    .dataframe tbody tr th {\n",
       "        vertical-align: top;\n",
       "    }\n",
       "\n",
       "    .dataframe thead th {\n",
       "        text-align: right;\n",
       "    }\n",
       "</style>\n",
       "<table border=\"1\" class=\"dataframe\">\n",
       "  <thead>\n",
       "    <tr style=\"text-align: right;\">\n",
       "      <th></th>\n",
       "      <th>PassengerId</th>\n",
       "      <th>Survived</th>\n",
       "      <th>Pclass</th>\n",
       "      <th>Name</th>\n",
       "      <th>Sex</th>\n",
       "      <th>Age</th>\n",
       "      <th>SibSp</th>\n",
       "      <th>Parch</th>\n",
       "      <th>Ticket</th>\n",
       "      <th>Fare</th>\n",
       "      <th>Embarked</th>\n",
       "    </tr>\n",
       "  </thead>\n",
       "  <tbody>\n",
       "    <tr>\n",
       "      <th>0</th>\n",
       "      <td>1</td>\n",
       "      <td>0</td>\n",
       "      <td>3</td>\n",
       "      <td>Braund, Mr. Owen Harris</td>\n",
       "      <td>male</td>\n",
       "      <td>22.0</td>\n",
       "      <td>1</td>\n",
       "      <td>0</td>\n",
       "      <td>A/5 21171</td>\n",
       "      <td>7.2500</td>\n",
       "      <td>S</td>\n",
       "    </tr>\n",
       "    <tr>\n",
       "      <th>1</th>\n",
       "      <td>2</td>\n",
       "      <td>1</td>\n",
       "      <td>1</td>\n",
       "      <td>Cumings, Mrs. John Bradley (Florence Briggs Th...</td>\n",
       "      <td>female</td>\n",
       "      <td>38.0</td>\n",
       "      <td>1</td>\n",
       "      <td>0</td>\n",
       "      <td>PC 17599</td>\n",
       "      <td>71.2833</td>\n",
       "      <td>C</td>\n",
       "    </tr>\n",
       "    <tr>\n",
       "      <th>2</th>\n",
       "      <td>3</td>\n",
       "      <td>1</td>\n",
       "      <td>3</td>\n",
       "      <td>Heikkinen, Miss. Laina</td>\n",
       "      <td>female</td>\n",
       "      <td>26.0</td>\n",
       "      <td>0</td>\n",
       "      <td>0</td>\n",
       "      <td>STON/O2. 3101282</td>\n",
       "      <td>7.9250</td>\n",
       "      <td>S</td>\n",
       "    </tr>\n",
       "    <tr>\n",
       "      <th>3</th>\n",
       "      <td>4</td>\n",
       "      <td>1</td>\n",
       "      <td>1</td>\n",
       "      <td>Futrelle, Mrs. Jacques Heath (Lily May Peel)</td>\n",
       "      <td>female</td>\n",
       "      <td>35.0</td>\n",
       "      <td>1</td>\n",
       "      <td>0</td>\n",
       "      <td>113803</td>\n",
       "      <td>53.1000</td>\n",
       "      <td>S</td>\n",
       "    </tr>\n",
       "    <tr>\n",
       "      <th>4</th>\n",
       "      <td>5</td>\n",
       "      <td>0</td>\n",
       "      <td>3</td>\n",
       "      <td>Allen, Mr. William Henry</td>\n",
       "      <td>male</td>\n",
       "      <td>35.0</td>\n",
       "      <td>0</td>\n",
       "      <td>0</td>\n",
       "      <td>373450</td>\n",
       "      <td>8.0500</td>\n",
       "      <td>S</td>\n",
       "    </tr>\n",
       "  </tbody>\n",
       "</table>\n",
       "</div>"
      ],
      "text/plain": [
       "   PassengerId  Survived  Pclass  \\\n",
       "0            1         0       3   \n",
       "1            2         1       1   \n",
       "2            3         1       3   \n",
       "3            4         1       1   \n",
       "4            5         0       3   \n",
       "\n",
       "                                                Name     Sex   Age  SibSp  \\\n",
       "0                            Braund, Mr. Owen Harris    male  22.0      1   \n",
       "1  Cumings, Mrs. John Bradley (Florence Briggs Th...  female  38.0      1   \n",
       "2                             Heikkinen, Miss. Laina  female  26.0      0   \n",
       "3       Futrelle, Mrs. Jacques Heath (Lily May Peel)  female  35.0      1   \n",
       "4                           Allen, Mr. William Henry    male  35.0      0   \n",
       "\n",
       "   Parch            Ticket     Fare Embarked  \n",
       "0      0         A/5 21171   7.2500        S  \n",
       "1      0          PC 17599  71.2833        C  \n",
       "2      0  STON/O2. 3101282   7.9250        S  \n",
       "3      0            113803  53.1000        S  \n",
       "4      0            373450   8.0500        S  "
      ]
     },
     "execution_count": 17,
     "metadata": {},
     "output_type": "execute_result"
    }
   ],
   "source": [
    "df.head()"
   ]
  },
  {
   "cell_type": "markdown",
   "id": "eb24c12a",
   "metadata": {},
   "source": [
    "# We have null values present in Age and Embarked columns as well. However here I am not going fillup the null values with diffrent numbers as I have observed people were given prefernce as per their classes, Age and Gender therefore incorrect numbers can lead to wrong prediction. Hence I will be removing those null values from the dataset."
   ]
  },
  {
   "cell_type": "code",
   "execution_count": 18,
   "id": "767a0341",
   "metadata": {},
   "outputs": [],
   "source": [
    "#Remove the rows with missing values.\n",
    "df = df.dropna(subset = ['Embarked','Age'])"
   ]
  },
  {
   "cell_type": "code",
   "execution_count": 19,
   "id": "86b01fc7",
   "metadata": {},
   "outputs": [
    {
     "data": {
      "text/plain": [
       "PassengerId    0\n",
       "Survived       0\n",
       "Pclass         0\n",
       "Name           0\n",
       "Sex            0\n",
       "Age            0\n",
       "SibSp          0\n",
       "Parch          0\n",
       "Ticket         0\n",
       "Fare           0\n",
       "Embarked       0\n",
       "dtype: int64"
      ]
     },
     "execution_count": 19,
     "metadata": {},
     "output_type": "execute_result"
    }
   ],
   "source": [
    "#Checking if null values have been removed.\n",
    "df.isnull().sum()"
   ]
  },
  {
   "cell_type": "code",
   "execution_count": 20,
   "id": "6fdf7ab0",
   "metadata": {},
   "outputs": [],
   "source": [
    "#No null values are present.Now I will be removing Passenger ID and Name as they do not contribute to the target variable.\n",
    "df = df.drop(columns = ['PassengerId', 'Name'])"
   ]
  },
  {
   "cell_type": "code",
   "execution_count": 21,
   "id": "c9937b58",
   "metadata": {},
   "outputs": [],
   "source": [
    "#I will be removing ticket column as well because it is a ovject datatype which contains sting+numerical values and ML model can't read them.\n",
    "df = df.drop(columns = 'Ticket')"
   ]
  },
  {
   "cell_type": "code",
   "execution_count": 22,
   "id": "5786b069",
   "metadata": {},
   "outputs": [
    {
     "data": {
      "text/plain": [
       "(712, 8)"
      ]
     },
     "execution_count": 22,
     "metadata": {},
     "output_type": "execute_result"
    }
   ],
   "source": [
    "#Count the new number of rows and columns in the dataset.\n",
    "df.shape"
   ]
  },
  {
   "cell_type": "code",
   "execution_count": 23,
   "id": "e7084733",
   "metadata": {},
   "outputs": [
    {
     "data": {
      "text/html": [
       "<div>\n",
       "<style scoped>\n",
       "    .dataframe tbody tr th:only-of-type {\n",
       "        vertical-align: middle;\n",
       "    }\n",
       "\n",
       "    .dataframe tbody tr th {\n",
       "        vertical-align: top;\n",
       "    }\n",
       "\n",
       "    .dataframe thead th {\n",
       "        text-align: right;\n",
       "    }\n",
       "</style>\n",
       "<table border=\"1\" class=\"dataframe\">\n",
       "  <thead>\n",
       "    <tr style=\"text-align: right;\">\n",
       "      <th></th>\n",
       "      <th>Survived</th>\n",
       "      <th>Pclass</th>\n",
       "      <th>Sex</th>\n",
       "      <th>Age</th>\n",
       "      <th>SibSp</th>\n",
       "      <th>Parch</th>\n",
       "      <th>Fare</th>\n",
       "      <th>Embarked</th>\n",
       "    </tr>\n",
       "  </thead>\n",
       "  <tbody>\n",
       "    <tr>\n",
       "      <th>0</th>\n",
       "      <td>0</td>\n",
       "      <td>3</td>\n",
       "      <td>male</td>\n",
       "      <td>22.0</td>\n",
       "      <td>1</td>\n",
       "      <td>0</td>\n",
       "      <td>7.2500</td>\n",
       "      <td>S</td>\n",
       "    </tr>\n",
       "    <tr>\n",
       "      <th>1</th>\n",
       "      <td>1</td>\n",
       "      <td>1</td>\n",
       "      <td>female</td>\n",
       "      <td>38.0</td>\n",
       "      <td>1</td>\n",
       "      <td>0</td>\n",
       "      <td>71.2833</td>\n",
       "      <td>C</td>\n",
       "    </tr>\n",
       "    <tr>\n",
       "      <th>2</th>\n",
       "      <td>1</td>\n",
       "      <td>3</td>\n",
       "      <td>female</td>\n",
       "      <td>26.0</td>\n",
       "      <td>0</td>\n",
       "      <td>0</td>\n",
       "      <td>7.9250</td>\n",
       "      <td>S</td>\n",
       "    </tr>\n",
       "    <tr>\n",
       "      <th>3</th>\n",
       "      <td>1</td>\n",
       "      <td>1</td>\n",
       "      <td>female</td>\n",
       "      <td>35.0</td>\n",
       "      <td>1</td>\n",
       "      <td>0</td>\n",
       "      <td>53.1000</td>\n",
       "      <td>S</td>\n",
       "    </tr>\n",
       "    <tr>\n",
       "      <th>4</th>\n",
       "      <td>0</td>\n",
       "      <td>3</td>\n",
       "      <td>male</td>\n",
       "      <td>35.0</td>\n",
       "      <td>0</td>\n",
       "      <td>0</td>\n",
       "      <td>8.0500</td>\n",
       "      <td>S</td>\n",
       "    </tr>\n",
       "  </tbody>\n",
       "</table>\n",
       "</div>"
      ],
      "text/plain": [
       "   Survived  Pclass     Sex   Age  SibSp  Parch     Fare Embarked\n",
       "0         0       3    male  22.0      1      0   7.2500        S\n",
       "1         1       1  female  38.0      1      0  71.2833        C\n",
       "2         1       3  female  26.0      0      0   7.9250        S\n",
       "3         1       1  female  35.0      1      0  53.1000        S\n",
       "4         0       3    male  35.0      0      0   8.0500        S"
      ]
     },
     "execution_count": 23,
     "metadata": {},
     "output_type": "execute_result"
    }
   ],
   "source": [
    "#Checking data\n",
    "df.head()"
   ]
  },
  {
   "cell_type": "markdown",
   "id": "b41a1b37",
   "metadata": {},
   "source": [
    "# Next we have 2 object columns left so I am going to change their data in values for that I will be using Label Encoder()"
   ]
  },
  {
   "cell_type": "code",
   "execution_count": 24,
   "id": "f39332e7",
   "metadata": {},
   "outputs": [
    {
     "name": "stdout",
     "output_type": "stream",
     "text": [
      "['male' 'female']\n",
      "['S' 'C' 'Q']\n"
     ]
    }
   ],
   "source": [
    "#checking unique values for Sex and Embarked column.\n",
    "print(df['Sex'].unique())\n",
    "print(df['Embarked'].unique())"
   ]
  },
  {
   "cell_type": "code",
   "execution_count": 25,
   "id": "eaa9b586",
   "metadata": {},
   "outputs": [],
   "source": [
    "#import Lable encoder\n",
    "from sklearn.preprocessing import LabelEncoder\n",
    "\n",
    "#Assigning label encoder to a variable\n",
    "lab_enc = LabelEncoder()"
   ]
  },
  {
   "cell_type": "code",
   "execution_count": 26,
   "id": "3f957f12",
   "metadata": {},
   "outputs": [],
   "source": [
    "#Encode the Sex column\n",
    "df['Sex'] = lab_enc.fit_transform(df['Sex'])\n",
    "df['Embarked'] = lab_enc.fit_transform(df['Embarked'])"
   ]
  },
  {
   "cell_type": "code",
   "execution_count": 27,
   "id": "41b49dc5",
   "metadata": {},
   "outputs": [
    {
     "data": {
      "text/html": [
       "<div>\n",
       "<style scoped>\n",
       "    .dataframe tbody tr th:only-of-type {\n",
       "        vertical-align: middle;\n",
       "    }\n",
       "\n",
       "    .dataframe tbody tr th {\n",
       "        vertical-align: top;\n",
       "    }\n",
       "\n",
       "    .dataframe thead th {\n",
       "        text-align: right;\n",
       "    }\n",
       "</style>\n",
       "<table border=\"1\" class=\"dataframe\">\n",
       "  <thead>\n",
       "    <tr style=\"text-align: right;\">\n",
       "      <th></th>\n",
       "      <th>Survived</th>\n",
       "      <th>Pclass</th>\n",
       "      <th>Sex</th>\n",
       "      <th>Age</th>\n",
       "      <th>SibSp</th>\n",
       "      <th>Parch</th>\n",
       "      <th>Fare</th>\n",
       "      <th>Embarked</th>\n",
       "    </tr>\n",
       "  </thead>\n",
       "  <tbody>\n",
       "    <tr>\n",
       "      <th>0</th>\n",
       "      <td>0</td>\n",
       "      <td>3</td>\n",
       "      <td>1</td>\n",
       "      <td>22.0</td>\n",
       "      <td>1</td>\n",
       "      <td>0</td>\n",
       "      <td>7.2500</td>\n",
       "      <td>2</td>\n",
       "    </tr>\n",
       "    <tr>\n",
       "      <th>1</th>\n",
       "      <td>1</td>\n",
       "      <td>1</td>\n",
       "      <td>0</td>\n",
       "      <td>38.0</td>\n",
       "      <td>1</td>\n",
       "      <td>0</td>\n",
       "      <td>71.2833</td>\n",
       "      <td>0</td>\n",
       "    </tr>\n",
       "    <tr>\n",
       "      <th>2</th>\n",
       "      <td>1</td>\n",
       "      <td>3</td>\n",
       "      <td>0</td>\n",
       "      <td>26.0</td>\n",
       "      <td>0</td>\n",
       "      <td>0</td>\n",
       "      <td>7.9250</td>\n",
       "      <td>2</td>\n",
       "    </tr>\n",
       "    <tr>\n",
       "      <th>3</th>\n",
       "      <td>1</td>\n",
       "      <td>1</td>\n",
       "      <td>0</td>\n",
       "      <td>35.0</td>\n",
       "      <td>1</td>\n",
       "      <td>0</td>\n",
       "      <td>53.1000</td>\n",
       "      <td>2</td>\n",
       "    </tr>\n",
       "    <tr>\n",
       "      <th>4</th>\n",
       "      <td>0</td>\n",
       "      <td>3</td>\n",
       "      <td>1</td>\n",
       "      <td>35.0</td>\n",
       "      <td>0</td>\n",
       "      <td>0</td>\n",
       "      <td>8.0500</td>\n",
       "      <td>2</td>\n",
       "    </tr>\n",
       "  </tbody>\n",
       "</table>\n",
       "</div>"
      ],
      "text/plain": [
       "   Survived  Pclass  Sex   Age  SibSp  Parch     Fare  Embarked\n",
       "0         0       3    1  22.0      1      0   7.2500         2\n",
       "1         1       1    0  38.0      1      0  71.2833         0\n",
       "2         1       3    0  26.0      0      0   7.9250         2\n",
       "3         1       1    0  35.0      1      0  53.1000         2\n",
       "4         0       3    1  35.0      0      0   8.0500         2"
      ]
     },
     "execution_count": 27,
     "metadata": {},
     "output_type": "execute_result"
    }
   ],
   "source": [
    "#Checking if the columns have been transformed\n",
    "df.head()"
   ]
  },
  {
   "cell_type": "code",
   "execution_count": 28,
   "id": "96ea1565",
   "metadata": {},
   "outputs": [
    {
     "name": "stdout",
     "output_type": "stream",
     "text": [
      "[1 0]\n",
      "[2 0 1]\n"
     ]
    }
   ],
   "source": [
    "#checking unique values for Sex and Embarked column after transformation\n",
    "print(df['Sex'].unique())\n",
    "print(df['Embarked'].unique())"
   ]
  },
  {
   "cell_type": "markdown",
   "id": "f23a44c3",
   "metadata": {},
   "source": [
    "# From the above table I can see that after encoding sex column 1 is refering to male and 0 is for female. And after the transformation of Embarked column 0 refering to 'C', 1 is for 'Q' and 2 is for 'S' embarkation."
   ]
  },
  {
   "cell_type": "code",
   "execution_count": 29,
   "id": "1d66bfa1",
   "metadata": {},
   "outputs": [
    {
     "data": {
      "text/plain": [
       "Survived      int64\n",
       "Pclass        int64\n",
       "Sex           int32\n",
       "Age         float64\n",
       "SibSp         int64\n",
       "Parch         int64\n",
       "Fare        float64\n",
       "Embarked      int32\n",
       "dtype: object"
      ]
     },
     "execution_count": 29,
     "metadata": {},
     "output_type": "execute_result"
    }
   ],
   "source": [
    "#Checking datatype\n",
    "df.dtypes"
   ]
  },
  {
   "cell_type": "code",
   "execution_count": 30,
   "id": "391536c5",
   "metadata": {},
   "outputs": [
    {
     "data": {
      "image/png": "[encoded data removed]",
      "text/plain": [
       "<Figure size 1008x504 with 2 Axes>"
      ]
     },
     "metadata": {
      "needs_background": "light"
     },
     "output_type": "display_data"
    }
   ],
   "source": [
    "#Next I am going to plot a heatmap to observe the relationship between features.\n",
    "plt.figure(figsize = (14,7))\n",
    "sns.heatmap(df.corr(), annot = True)\n",
    "plt.show()"
   ]
  },
  {
   "cell_type": "markdown",
   "id": "287cdb3b",
   "metadata": {},
   "source": [
    "# Sex and Pclass have strong negative relationship with target feature. Also, I can see Survived column has good relationship with Fare. Next I am going to check the distribution of columns."
   ]
  },
  {
   "cell_type": "code",
   "execution_count": 31,
   "id": "cef4b4f1",
   "metadata": {},
   "outputs": [
    {
     "data": {
      "image/png": "[encoded data removed]",
      "text/plain": [
       "<Figure size 1440x1080 with 8 Axes>"
      ]
     },
     "metadata": {
      "needs_background": "light"
     },
     "output_type": "display_data"
    }
   ],
   "source": [
    "#Checking how data is distributed for every column.\n",
    "plt.figure(figsize = (20,15))\n",
    "\n",
    "plotnumber = 1\n",
    "\n",
    "for column in df:\n",
    "    if plotnumber <= 8:\n",
    "        ax = plt.subplot(4,4,plotnumber)\n",
    "        sns.distplot(df[column])\n",
    "        plt.xlabel(column, fontsize = 20)\n",
    "        \n",
    "    plotnumber += 1\n",
    "    \n",
    "plt.tight_layout()"
   ]
  },
  {
   "cell_type": "markdown",
   "id": "318d9e0e",
   "metadata": {},
   "source": [
    "# Observation\n",
    "* Non-survival count is higher than survival count.\n",
    "* 3rd class passenger count is more followed by 1st and 2nd class.\n",
    "* Male passengers count is more than Female passenger count.\n",
    "* As observed before passengers from 4 months to 80 years old were present on the titanic.\n",
    "* Minimum number of sibling/spouse count is 0 and maximum is 5.\n",
    "* Parent/children minimum count is 0 and maximum is 6.\n",
    "* Fare started from 0 and went till 500 british pounds this is where we see some skewness present as one the passenger paid 500 british pound as their ticket fare as observed earlier.\n",
    "* Same oversation as class, passengers from '2' embarkation count is more than rest 2 embarkations."
   ]
  },
  {
   "cell_type": "code",
   "execution_count": 32,
   "id": "4b5c0622",
   "metadata": {},
   "outputs": [
    {
     "data": {
      "image/png": "[encoded data removed]",
      "text/plain": [
       "<Figure size 1440x1440 with 8 Axes>"
      ]
     },
     "metadata": {
      "needs_background": "light"
     },
     "output_type": "display_data"
    }
   ],
   "source": [
    "#Will implement boxplot to check outliers\n",
    "plt.figure(figsize = (20,20))\n",
    "plotnumber = 1\n",
    "\n",
    "for column in df:\n",
    "    if plotnumber <= 11:\n",
    "        plt.subplot(4,3,plotnumber)\n",
    "        sns.boxplot(df[column])\n",
    "        plt.xlabel(column)\n",
    "        plt.title('Outliers')\n",
    "    \n",
    "    plotnumber += 1\n",
    "    \n",
    "plt.tight_layout() "
   ]
  },
  {
   "cell_type": "markdown",
   "id": "01c9f351",
   "metadata": {},
   "source": [
    "# Here I am seeing some outliers present in the dataset however I am not going to remove them as they are not really outliers. Seeing these outliers because passenger's survival was dependent on their Class, Age, Gender I have seen adult female passengers from first class got high prefernce at the time of evacuation where as male passenger from 3rd class died more."
   ]
  },
  {
   "cell_type": "code",
   "execution_count": 33,
   "id": "45a3c55f",
   "metadata": {},
   "outputs": [],
   "source": [
    "#Spliting data into x and y variable.\n",
    "x = df.drop(columns = ['Survived'])\n",
    "y = df['Survived']"
   ]
  },
  {
   "cell_type": "code",
   "execution_count": 34,
   "id": "093f2f5f",
   "metadata": {},
   "outputs": [
    {
     "data": {
      "text/html": [
       "<div>\n",
       "<style scoped>\n",
       "    .dataframe tbody tr th:only-of-type {\n",
       "        vertical-align: middle;\n",
       "    }\n",
       "\n",
       "    .dataframe tbody tr th {\n",
       "        vertical-align: top;\n",
       "    }\n",
       "\n",
       "    .dataframe thead th {\n",
       "        text-align: right;\n",
       "    }\n",
       "</style>\n",
       "<table border=\"1\" class=\"dataframe\">\n",
       "  <thead>\n",
       "    <tr style=\"text-align: right;\">\n",
       "      <th></th>\n",
       "      <th>Pclass</th>\n",
       "      <th>Sex</th>\n",
       "      <th>Age</th>\n",
       "      <th>SibSp</th>\n",
       "      <th>Parch</th>\n",
       "      <th>Fare</th>\n",
       "      <th>Embarked</th>\n",
       "    </tr>\n",
       "  </thead>\n",
       "  <tbody>\n",
       "    <tr>\n",
       "      <th>0</th>\n",
       "      <td>3</td>\n",
       "      <td>1</td>\n",
       "      <td>22.0</td>\n",
       "      <td>1</td>\n",
       "      <td>0</td>\n",
       "      <td>7.2500</td>\n",
       "      <td>2</td>\n",
       "    </tr>\n",
       "    <tr>\n",
       "      <th>1</th>\n",
       "      <td>1</td>\n",
       "      <td>0</td>\n",
       "      <td>38.0</td>\n",
       "      <td>1</td>\n",
       "      <td>0</td>\n",
       "      <td>71.2833</td>\n",
       "      <td>0</td>\n",
       "    </tr>\n",
       "    <tr>\n",
       "      <th>2</th>\n",
       "      <td>3</td>\n",
       "      <td>0</td>\n",
       "      <td>26.0</td>\n",
       "      <td>0</td>\n",
       "      <td>0</td>\n",
       "      <td>7.9250</td>\n",
       "      <td>2</td>\n",
       "    </tr>\n",
       "    <tr>\n",
       "      <th>3</th>\n",
       "      <td>1</td>\n",
       "      <td>0</td>\n",
       "      <td>35.0</td>\n",
       "      <td>1</td>\n",
       "      <td>0</td>\n",
       "      <td>53.1000</td>\n",
       "      <td>2</td>\n",
       "    </tr>\n",
       "    <tr>\n",
       "      <th>4</th>\n",
       "      <td>3</td>\n",
       "      <td>1</td>\n",
       "      <td>35.0</td>\n",
       "      <td>0</td>\n",
       "      <td>0</td>\n",
       "      <td>8.0500</td>\n",
       "      <td>2</td>\n",
       "    </tr>\n",
       "  </tbody>\n",
       "</table>\n",
       "</div>"
      ],
      "text/plain": [
       "   Pclass  Sex   Age  SibSp  Parch     Fare  Embarked\n",
       "0       3    1  22.0      1      0   7.2500         2\n",
       "1       1    0  38.0      1      0  71.2833         0\n",
       "2       3    0  26.0      0      0   7.9250         2\n",
       "3       1    0  35.0      1      0  53.1000         2\n",
       "4       3    1  35.0      0      0   8.0500         2"
      ]
     },
     "execution_count": 34,
     "metadata": {},
     "output_type": "execute_result"
    }
   ],
   "source": [
    "x.head()"
   ]
  },
  {
   "cell_type": "code",
   "execution_count": 35,
   "id": "a86323a5",
   "metadata": {},
   "outputs": [
    {
     "data": {
      "text/plain": [
       "0    0\n",
       "1    1\n",
       "2    1\n",
       "3    1\n",
       "4    0\n",
       "Name: Survived, dtype: int64"
      ]
     },
     "execution_count": 35,
     "metadata": {},
     "output_type": "execute_result"
    }
   ],
   "source": [
    "y.head()"
   ]
  },
  {
   "cell_type": "markdown",
   "id": "272417fc",
   "metadata": {},
   "source": [
    "# Next I will scale the x data"
   ]
  },
  {
   "cell_type": "code",
   "execution_count": 36,
   "id": "ea457c2d",
   "metadata": {},
   "outputs": [
    {
     "data": {
      "text/plain": [
       "array([[ 0.90859974,  0.75613751, -0.52766856, ..., -0.50678737,\n",
       "        -0.51637992,  0.51958818],\n",
       "       [-1.48298257, -1.32251077,  0.57709388, ..., -0.50678737,\n",
       "         0.69404605, -2.04948671],\n",
       "       [ 0.90859974, -1.32251077, -0.25147795, ..., -0.50678737,\n",
       "        -0.50362035,  0.51958818],\n",
       "       ...,\n",
       "       [-1.48298257, -1.32251077, -0.73481151, ..., -0.50678737,\n",
       "        -0.08633507,  0.51958818],\n",
       "       [-1.48298257,  0.75613751, -0.25147795, ..., -0.50678737,\n",
       "        -0.08633507, -2.04948671],\n",
       "       [ 0.90859974,  0.75613751,  0.16280796, ..., -0.50678737,\n",
       "        -0.50692839, -0.76494927]])"
      ]
     },
     "execution_count": 36,
     "metadata": {},
     "output_type": "execute_result"
    }
   ],
   "source": [
    "#Scaling dataset.\n",
    "sc = StandardScaler()\n",
    "x_scaled = sc.fit_transform(x)\n",
    "x_scaled"
   ]
  },
  {
   "cell_type": "markdown",
   "id": "ab30bcff",
   "metadata": {},
   "source": [
    "# Split dataset into train and test data"
   ]
  },
  {
   "cell_type": "code",
   "execution_count": 37,
   "id": "717bd798",
   "metadata": {},
   "outputs": [],
   "source": [
    "x_train,x_test,y_train,y_test = train_test_split(x_scaled, y, test_size = 0.2, random_state = 42)"
   ]
  },
  {
   "cell_type": "markdown",
   "id": "7f849a6e",
   "metadata": {},
   "source": [
    "# Defining a function to train and check training scores for some Classification models"
   ]
  },
  {
   "cell_type": "code",
   "execution_count": 50,
   "id": "511473f3",
   "metadata": {},
   "outputs": [],
   "source": [
    "#Defining function\n",
    "def models(x_train,y_train):\n",
    "    \n",
    "    #Use logistic regression\n",
    "    from sklearn.linear_model import LogisticRegression\n",
    "    lr = LogisticRegression(random_state = 0)\n",
    "    lr.fit(x_train, y_train)\n",
    "    \n",
    "    \n",
    "    #Use KNeighbors Classifier\n",
    "    from sklearn.neighbors import KNeighborsClassifier\n",
    "    knn = KNeighborsClassifier(n_neighbors = 5)\n",
    "    knn.fit(x_train, y_train)\n",
    "    \n",
    "    #Use SVC (linear kernel)\n",
    "    from sklearn.svm import SVC\n",
    "    sl = SVC(kernel = 'linear', random_state = 0)\n",
    "    sl.fit(x_train, y_train)\n",
    "    \n",
    "    #Use SVC (RBF kernel)\n",
    "    s_rbf = SVC(kernel = 'rbf', random_state = 0)\n",
    "    s_rbf.fit(x_train, y_train)\n",
    "    \n",
    "    #Use Decision Tree Classifier\n",
    "    from sklearn.tree import DecisionTreeClassifier\n",
    "    dt = DecisionTreeClassifier(criterion = 'entropy', random_state = 0)\n",
    "    dt.fit(x_train, y_train)\n",
    "    \n",
    "    #Use Random Forest Classifier\n",
    "    from sklearn.ensemble import RandomForestClassifier\n",
    "    rf = RandomForestClassifier(n_estimators = 10, criterion = 'entropy', random_state = 0)\n",
    "    rf.fit(x_train, y_train)\n",
    "    \n",
    "    #Print training accuracy score for each column\n",
    "    print('Logistic Regression Training Accuracy: ', lr.score(x_train, y_train))\n",
    "    print('KNeighbors Classifier Training Accuracy: ', knn.score(x_train, y_train))\n",
    "    print('SVC Linear Kernel Training Accuracy: ', sl.score(x_train, y_train))\n",
    "    print('SVC RBF kernel Training Accuracy: ', s_rbf.score(x_train, y_train))\n",
    "    print('Decision Tree Classifier Training Accuracy: ', dt.score(x_train, y_train))\n",
    "    print('Random Forest Classifier Training Accuracy: ', rf.score(x_train, y_train))\n",
    "    \n",
    "    return lr, knn, sl, s_rbf, dt, rf"
   ]
  },
  {
   "cell_type": "code",
   "execution_count": 51,
   "id": "3c759dbb",
   "metadata": {},
   "outputs": [
    {
     "name": "stdout",
     "output_type": "stream",
     "text": [
      "Logistic Regression Training Accuracy:  0.8084358523725835\n",
      "KNeighbors Classifier Training Accuracy:  0.8699472759226714\n",
      "SVC Linear Kernel Training Accuracy:  0.7873462214411248\n",
      "SVC RBF kernel Training Accuracy:  0.843585237258348\n",
      "Decision Tree Classifier Training Accuracy:  0.9876977152899824\n",
      "Random Forest Classifier Training Accuracy:  0.9701230228471002\n"
     ]
    }
   ],
   "source": [
    "#Get and train all the models\n",
    "model = models(x_train, y_train)"
   ]
  },
  {
   "cell_type": "markdown",
   "id": "701f7210",
   "metadata": {},
   "source": [
    "# Getting Confusion matrix and test accuracy for each models"
   ]
  },
  {
   "cell_type": "code",
   "execution_count": 52,
   "id": "f6ce53c8",
   "metadata": {},
   "outputs": [
    {
     "name": "stdout",
     "output_type": "stream",
     "text": [
      "[[73  7]\n",
      " [22 41]]\n",
      "Model[0] Testing Accuracy = \"0.7972027972027972\"\n",
      "\n",
      "[[70 10]\n",
      " [23 40]]\n",
      "Model[1] Testing Accuracy = \"0.7692307692307693\"\n",
      "\n",
      "[[68 12]\n",
      " [24 39]]\n",
      "Model[2] Testing Accuracy = \"0.7482517482517482\"\n",
      "\n",
      "[[73  7]\n",
      " [18 45]]\n",
      "Model[3] Testing Accuracy = \"0.8251748251748252\"\n",
      "\n",
      "[[64 16]\n",
      " [24 39]]\n",
      "Model[4] Testing Accuracy = \"0.7202797202797203\"\n",
      "\n",
      "[[70 10]\n",
      " [24 39]]\n",
      "Model[5] Testing Accuracy = \"0.7622377622377622\"\n",
      "\n"
     ]
    }
   ],
   "source": [
    "#Show confusion matrix and accuracy score for all the models on the test data\n",
    "for i in range(len(model)):\n",
    "    cm = confusion_matrix(y_test, model[i].predict(x_test))\n",
    "    \n",
    "    #Extract the TN, FP, FN, TP values\n",
    "    TN, FP, FN, TP = confusion_matrix(y_test, model[i].predict(x_test)).ravel()\n",
    "\n",
    "    #Calculate test accuracy score\n",
    "    test_score = (TP + TN) / (TP + TN + FN + FP)\n",
    "    \n",
    "    print(cm)\n",
    "    print('Model[{}] Testing Accuracy = \"{}\"'.format(i, test_score))\n",
    "    print()"
   ]
  },
  {
   "cell_type": "markdown",
   "id": "87cb1e1f",
   "metadata": {},
   "source": [
    "# Checking Cross Validation score for each models"
   ]
  },
  {
   "cell_type": "code",
   "execution_count": 53,
   "id": "044ee26e",
   "metadata": {},
   "outputs": [
    {
     "name": "stdout",
     "output_type": "stream",
     "text": [
      "Validation score for Logistic Regression:  0.7950312989045384\n",
      "Validation score for KNeighbors Classifier:  0.7066118935837246\n",
      "Validation score for SVC Liner Kernel:  0.7794796557120501\n",
      "Validation score for SVC RBF Kernel:  0.6660993740219092\n",
      "Validation score for Decision Tree Classifier:  0.7699139280125196\n",
      "Validation score for Random Forest Classifier:  0.7994131455399061\n"
     ]
    }
   ],
   "source": [
    "#Import Cross Validation Score\n",
    "from sklearn.model_selection import cross_val_score \n",
    "\n",
    "#Use logistic regression\n",
    "from sklearn.linear_model import LogisticRegression\n",
    "lr = LogisticRegression(random_state = 0)\n",
    "\n",
    "#Use KNeighbors Classifier\n",
    "from sklearn.neighbors import KNeighborsClassifier\n",
    "knn = KNeighborsClassifier(n_neighbors = 5)\n",
    "\n",
    "#Use SVC (linear kernel)\n",
    "from sklearn.svm import SVC\n",
    "sl = SVC(kernel = 'linear', random_state = 0)\n",
    "\n",
    "#Use SVC (RBF kernel)\n",
    "s_rbf = SVC(kernel = 'rbf', random_state = 0)\n",
    "\n",
    "#Use Decision Tree Classifier\n",
    "from sklearn.tree import DecisionTreeClassifier\n",
    "dt = DecisionTreeClassifier(criterion = 'entropy', random_state = 0)\n",
    "\n",
    "#Use Random Forest Classifier\n",
    "from sklearn.ensemble import RandomForestClassifier\n",
    "rf = RandomForestClassifier(n_estimators = 10, criterion = 'entropy', random_state = 0)\n",
    "\n",
    "\n",
    "#Print validation score for each column\n",
    "print(\"Validation score for Logistic Regression: \", cross_val_score(lr, x, y, cv = 10, scoring = 'accuracy').mean())\n",
    "print(\"Validation score for KNeighbors Classifier: \", cross_val_score(knn, x, y, cv = 10, scoring = 'accuracy').mean())\n",
    "print(\"Validation score for SVC Liner Kernel: \", cross_val_score(sl, x, y, cv = 10, scoring = 'accuracy').mean())\n",
    "print(\"Validation score for SVC RBF Kernel: \", cross_val_score(s_rbf, x, y, cv = 10, scoring = 'accuracy').mean())\n",
    "print(\"Validation score for Decision Tree Classifier: \", cross_val_score(dt, x, y, cv = 10, scoring = 'accuracy').mean())\n",
    "print(\"Validation score for Random Forest Classifier: \", cross_val_score(rf, x, y, cv = 10, scoring = 'accuracy').mean())"
   ]
  },
  {
   "cell_type": "markdown",
   "id": "645b6f59",
   "metadata": {},
   "source": [
    "# Here I am seeing Logistic Regression would be the best model to predict answer as Logistic regression's Training, Testing and Cross validation score differences are minimum."
   ]
  },
  {
   "cell_type": "markdown",
   "id": "19d3368e",
   "metadata": {},
   "source": [
    "# Feature selection for the best model"
   ]
  },
  {
   "cell_type": "code",
   "execution_count": 60,
   "id": "e08d44ab",
   "metadata": {},
   "outputs": [],
   "source": [
    "cols = ['Pclass', 'Sex', 'Age','SibSp', 'Parch', 'Fare', 'Embarked']"
   ]
  },
  {
   "cell_type": "code",
   "execution_count": 61,
   "id": "45ac33f6",
   "metadata": {},
   "outputs": [
    {
     "data": {
      "image/png": "[encoded data removed]",
      "text/plain": [
       "<Figure size 432x288 with 1 Axes>"
      ]
     },
     "metadata": {
      "needs_background": "light"
     },
     "output_type": "display_data"
    }
   ],
   "source": [
    "#Checking Feature coefficient\n",
    "lr.fit(x_train, y_train)\n",
    "coef = lr.coef_\n",
    "feature_coef = pd.Series(coef[0], index = cols)\n",
    "sort_feature_coef = feature_coef.abs().sort_values()\n",
    "sort_feature_coef.plot.barh()\n",
    "plt.show()"
   ]
  },
  {
   "cell_type": "code",
   "execution_count": 66,
   "id": "402a22bd",
   "metadata": {},
   "outputs": [
    {
     "data": {
      "text/html": [
       "<style>#sk-container-id-1 {color: black;background-color: white;}#sk-container-id-1 pre{padding: 0;}#sk-container-id-1 div.sk-toggleable {background-color: white;}#sk-container-id-1 label.sk-toggleable__label {cursor: pointer;display: block;width: 100%;margin-bottom: 0;padding: 0.3em;box-sizing: border-box;text-align: center;}#sk-container-id-1 label.sk-toggleable__label-arrow:before {content: \"▸\";float: left;margin-right: 0.25em;color: #696969;}#sk-container-id-1 label.sk-toggleable__label-arrow:hover:before {color: black;}#sk-container-id-1 div.sk-estimator:hover label.sk-toggleable__label-arrow:before {color: black;}#sk-container-id-1 div.sk-toggleable__content {max-height: 0;max-width: 0;overflow: hidden;text-align: left;background-color: #f0f8ff;}#sk-container-id-1 div.sk-toggleable__content pre {margin: 0.2em;color: black;border-radius: 0.25em;background-color: #f0f8ff;}#sk-container-id-1 input.sk-toggleable__control:checked~div.sk-toggleable__content {max-height: 200px;max-width: 100%;overflow: auto;}#sk-container-id-1 input.sk-toggleable__control:checked~label.sk-toggleable__label-arrow:before {content: \"▾\";}#sk-container-id-1 div.sk-estimator input.sk-toggleable__control:checked~label.sk-toggleable__label {background-color: #d4ebff;}#sk-container-id-1 div.sk-label input.sk-toggleable__control:checked~label.sk-toggleable__label {background-color: #d4ebff;}#sk-container-id-1 input.sk-hidden--visually {border: 0;clip: rect(1px 1px 1px 1px);clip: rect(1px, 1px, 1px, 1px);height: 1px;margin: -1px;overflow: hidden;padding: 0;position: absolute;width: 1px;}#sk-container-id-1 div.sk-estimator {font-family: monospace;background-color: #f0f8ff;border: 1px dotted black;border-radius: 0.25em;box-sizing: border-box;margin-bottom: 0.5em;}#sk-container-id-1 div.sk-estimator:hover {background-color: #d4ebff;}#sk-container-id-1 div.sk-parallel-item::after {content: \"\";width: 100%;border-bottom: 1px solid gray;flex-grow: 1;}#sk-container-id-1 div.sk-label:hover label.sk-toggleable__label {background-color: #d4ebff;}#sk-container-id-1 div.sk-serial::before {content: \"\";position: absolute;border-left: 1px solid gray;box-sizing: border-box;top: 0;bottom: 0;left: 50%;z-index: 0;}#sk-container-id-1 div.sk-serial {display: flex;flex-direction: column;align-items: center;background-color: white;padding-right: 0.2em;padding-left: 0.2em;position: relative;}#sk-container-id-1 div.sk-item {position: relative;z-index: 1;}#sk-container-id-1 div.sk-parallel {display: flex;align-items: stretch;justify-content: center;background-color: white;position: relative;}#sk-container-id-1 div.sk-item::before, #sk-container-id-1 div.sk-parallel-item::before {content: \"\";position: absolute;border-left: 1px solid gray;box-sizing: border-box;top: 0;bottom: 0;left: 50%;z-index: -1;}#sk-container-id-1 div.sk-parallel-item {display: flex;flex-direction: column;z-index: 1;position: relative;background-color: white;}#sk-container-id-1 div.sk-parallel-item:first-child::after {align-self: flex-end;width: 50%;}#sk-container-id-1 div.sk-parallel-item:last-child::after {align-self: flex-start;width: 50%;}#sk-container-id-1 div.sk-parallel-item:only-child::after {width: 0;}#sk-container-id-1 div.sk-dashed-wrapped {border: 1px dashed gray;margin: 0 0.4em 0.5em 0.4em;box-sizing: border-box;padding-bottom: 0.4em;background-color: white;}#sk-container-id-1 div.sk-label label {font-family: monospace;font-weight: bold;display: inline-block;line-height: 1.2em;}#sk-container-id-1 div.sk-label-container {text-align: center;}#sk-container-id-1 div.sk-container {/* jupyter's `normalize.less` sets `[hidden] { display: none; }` but bootstrap.min.css set `[hidden] { display: none !important; }` so we also need the `!important` here to be able to override the default hidden behavior on the sphinx rendered scikit-learn.org. See: https://github.com/scikit-learn/scikit-learn/issues/21755 */display: inline-block !important;position: relative;}#sk-container-id-1 div.sk-text-repr-fallback {display: none;}</style><div id=\"sk-container-id-1\" class=\"sk-top-container\"><div class=\"sk-text-repr-fallback\"><pre>LogisticRegression(random_state=0)</pre><b>In a Jupyter environment, please rerun this cell to show the HTML representation or trust the notebook. <br />On GitHub, the HTML representation is unable to render, please try loading this page with nbviewer.org.</b></div><div class=\"sk-container\" hidden><div class=\"sk-item\"><div class=\"sk-estimator sk-toggleable\"><input class=\"sk-toggleable__control sk-hidden--visually\" id=\"sk-estimator-id-1\" type=\"checkbox\" checked><label for=\"sk-estimator-id-1\" class=\"sk-toggleable__label sk-toggleable__label-arrow\">LogisticRegression</label><div class=\"sk-toggleable__content\"><pre>LogisticRegression(random_state=0)</pre></div></div></div></div></div>"
      ],
      "text/plain": [
       "LogisticRegression(random_state=0)"
      ]
     },
     "execution_count": 66,
     "metadata": {},
     "output_type": "execute_result"
    }
   ],
   "source": [
    "#Fitting Logistic Regression with selected features which has high coefficient with the model\n",
    "x = df[['Sex', 'Pclass', 'Age', 'SibSp', 'Embarked']]\n",
    "y = df['Survived']\n",
    "\n",
    "#Scaling data\n",
    "x = sc.fit_transform(x)\n",
    "\n",
    "#Spliting dataset x and y dataset into train and test \n",
    "x_train,x_test,y_train,y_test = train_test_split(x, y, test_size = 0.2, random_state = 5)\n",
    "\n",
    "#Fitting model\n",
    "lr.fit(x_train, y_train)"
   ]
  },
  {
   "cell_type": "code",
   "execution_count": 67,
   "id": "45027865",
   "metadata": {},
   "outputs": [],
   "source": [
    "#Model confidence/Accuracy without hyper parameter tuning\n",
    "def metric_score(lr,x_train,x_test,y_train,y_test,train = True):\n",
    "    if train:\n",
    "        y_pred = lr.predict(x_train)\n",
    "        print('\\n===================================Train Result=================================')\n",
    "        print(f\"Accurancy Score: {accuracy_score(y_train,y_pred) *100:.2f}%\")\n",
    "        \n",
    "    elif train == False:\n",
    "        pred = lr.predict(x_test)\n",
    "        \n",
    "        print('\\n====================================Test Result================================')\n",
    "        print(f\"Accurancy Score: {accuracy_score(y_test,pred) *100:.2f}%\")\n",
    "        \n",
    "        print('\\n\\n Test Classification Report \\n', classification_report(y_test,pred,digits = 2))"
   ]
  },
  {
   "cell_type": "code",
   "execution_count": 70,
   "id": "26a5046b",
   "metadata": {},
   "outputs": [
    {
     "name": "stdout",
     "output_type": "stream",
     "text": [
      "\n",
      "===================================Train Result=================================\n",
      "Accurancy Score: 78.03%\n",
      "\n",
      "====================================Test Result================================\n",
      "Accurancy Score: 83.22%\n",
      "\n",
      "\n",
      " Test Classification Report \n",
      "               precision    recall  f1-score   support\n",
      "\n",
      "           0       0.87      0.87      0.87        93\n",
      "           1       0.76      0.76      0.76        50\n",
      "\n",
      "    accuracy                           0.83       143\n",
      "   macro avg       0.82      0.82      0.82       143\n",
      "weighted avg       0.83      0.83      0.83       143\n",
      "\n"
     ]
    }
   ],
   "source": [
    "#Call the function\n",
    "metric_score(lr,x_train,x_test,y_train,y_test, train = True)\n",
    "\n",
    "metric_score(lr,x_train,x_test,y_train,y_test, train = False)"
   ]
  },
  {
   "cell_type": "markdown",
   "id": "9f41d36d",
   "metadata": {},
   "source": [
    "# Hyper papameter tuning on Logistic Regression"
   ]
  },
  {
   "cell_type": "code",
   "execution_count": 73,
   "id": "c295155f",
   "metadata": {},
   "outputs": [
    {
     "name": "stdout",
     "output_type": "stream",
     "text": [
      "Fitting 5 folds for each of 1600 candidates, totalling 8000 fits\n",
      "Best Parameters ==> {'C': 0.004832930238571752, 'max_iter': 100, 'penalty': 'l2', 'solver': 'lbfgs'}\n"
     ]
    }
   ],
   "source": [
    "#Let's now try to tune some hyperparameters using the GridSearchCV algorithm. This time I will give little higher range\n",
    "\n",
    "param_grid_lr = [\n",
    "    {'penalty': ['l1', 'l2', 'elasticnet', 'none'],\n",
    "    'C': np.logspace(-4, 4, 20),\n",
    "    'solver': ['lbfgs', 'newton-cg', 'liblinear', 'sag', 'saga'],\n",
    "    'max_iter': [100, 1000, 2000, 5000]\n",
    "    }\n",
    "]\n",
    "\n",
    "grid = GridSearchCV(estimator = lr,\n",
    "                           param_grid = param_grid_lr,\n",
    "                           cv = 5,\n",
    "                           verbose = True,\n",
    "                           n_jobs = -1)\n",
    "\n",
    "grid_lr = grid.fit(x_train,y_train)\n",
    "\n",
    "print('Best Parameters ==>', grid.best_params_)"
   ]
  },
  {
   "cell_type": "code",
   "execution_count": 74,
   "id": "fce310dd",
   "metadata": {},
   "outputs": [
    {
     "data": {
      "text/html": [
       "<style>#sk-container-id-2 {color: black;background-color: white;}#sk-container-id-2 pre{padding: 0;}#sk-container-id-2 div.sk-toggleable {background-color: white;}#sk-container-id-2 label.sk-toggleable__label {cursor: pointer;display: block;width: 100%;margin-bottom: 0;padding: 0.3em;box-sizing: border-box;text-align: center;}#sk-container-id-2 label.sk-toggleable__label-arrow:before {content: \"▸\";float: left;margin-right: 0.25em;color: #696969;}#sk-container-id-2 label.sk-toggleable__label-arrow:hover:before {color: black;}#sk-container-id-2 div.sk-estimator:hover label.sk-toggleable__label-arrow:before {color: black;}#sk-container-id-2 div.sk-toggleable__content {max-height: 0;max-width: 0;overflow: hidden;text-align: left;background-color: #f0f8ff;}#sk-container-id-2 div.sk-toggleable__content pre {margin: 0.2em;color: black;border-radius: 0.25em;background-color: #f0f8ff;}#sk-container-id-2 input.sk-toggleable__control:checked~div.sk-toggleable__content {max-height: 200px;max-width: 100%;overflow: auto;}#sk-container-id-2 input.sk-toggleable__control:checked~label.sk-toggleable__label-arrow:before {content: \"▾\";}#sk-container-id-2 div.sk-estimator input.sk-toggleable__control:checked~label.sk-toggleable__label {background-color: #d4ebff;}#sk-container-id-2 div.sk-label input.sk-toggleable__control:checked~label.sk-toggleable__label {background-color: #d4ebff;}#sk-container-id-2 input.sk-hidden--visually {border: 0;clip: rect(1px 1px 1px 1px);clip: rect(1px, 1px, 1px, 1px);height: 1px;margin: -1px;overflow: hidden;padding: 0;position: absolute;width: 1px;}#sk-container-id-2 div.sk-estimator {font-family: monospace;background-color: #f0f8ff;border: 1px dotted black;border-radius: 0.25em;box-sizing: border-box;margin-bottom: 0.5em;}#sk-container-id-2 div.sk-estimator:hover {background-color: #d4ebff;}#sk-container-id-2 div.sk-parallel-item::after {content: \"\";width: 100%;border-bottom: 1px solid gray;flex-grow: 1;}#sk-container-id-2 div.sk-label:hover label.sk-toggleable__label {background-color: #d4ebff;}#sk-container-id-2 div.sk-serial::before {content: \"\";position: absolute;border-left: 1px solid gray;box-sizing: border-box;top: 0;bottom: 0;left: 50%;z-index: 0;}#sk-container-id-2 div.sk-serial {display: flex;flex-direction: column;align-items: center;background-color: white;padding-right: 0.2em;padding-left: 0.2em;position: relative;}#sk-container-id-2 div.sk-item {position: relative;z-index: 1;}#sk-container-id-2 div.sk-parallel {display: flex;align-items: stretch;justify-content: center;background-color: white;position: relative;}#sk-container-id-2 div.sk-item::before, #sk-container-id-2 div.sk-parallel-item::before {content: \"\";position: absolute;border-left: 1px solid gray;box-sizing: border-box;top: 0;bottom: 0;left: 50%;z-index: -1;}#sk-container-id-2 div.sk-parallel-item {display: flex;flex-direction: column;z-index: 1;position: relative;background-color: white;}#sk-container-id-2 div.sk-parallel-item:first-child::after {align-self: flex-end;width: 50%;}#sk-container-id-2 div.sk-parallel-item:last-child::after {align-self: flex-start;width: 50%;}#sk-container-id-2 div.sk-parallel-item:only-child::after {width: 0;}#sk-container-id-2 div.sk-dashed-wrapped {border: 1px dashed gray;margin: 0 0.4em 0.5em 0.4em;box-sizing: border-box;padding-bottom: 0.4em;background-color: white;}#sk-container-id-2 div.sk-label label {font-family: monospace;font-weight: bold;display: inline-block;line-height: 1.2em;}#sk-container-id-2 div.sk-label-container {text-align: center;}#sk-container-id-2 div.sk-container {/* jupyter's `normalize.less` sets `[hidden] { display: none; }` but bootstrap.min.css set `[hidden] { display: none !important; }` so we also need the `!important` here to be able to override the default hidden behavior on the sphinx rendered scikit-learn.org. See: https://github.com/scikit-learn/scikit-learn/issues/21755 */display: inline-block !important;position: relative;}#sk-container-id-2 div.sk-text-repr-fallback {display: none;}</style><div id=\"sk-container-id-2\" class=\"sk-top-container\"><div class=\"sk-text-repr-fallback\"><pre>LogisticRegression(C=0.004832930238571752, random_state=0)</pre><b>In a Jupyter environment, please rerun this cell to show the HTML representation or trust the notebook. <br />On GitHub, the HTML representation is unable to render, please try loading this page with nbviewer.org.</b></div><div class=\"sk-container\" hidden><div class=\"sk-item\"><div class=\"sk-estimator sk-toggleable\"><input class=\"sk-toggleable__control sk-hidden--visually\" id=\"sk-estimator-id-2\" type=\"checkbox\" checked><label for=\"sk-estimator-id-2\" class=\"sk-toggleable__label sk-toggleable__label-arrow\">LogisticRegression</label><div class=\"sk-toggleable__content\"><pre>LogisticRegression(C=0.004832930238571752, random_state=0)</pre></div></div></div></div></div>"
      ],
      "text/plain": [
       "LogisticRegression(C=0.004832930238571752, random_state=0)"
      ]
     },
     "execution_count": 74,
     "metadata": {},
     "output_type": "execute_result"
    }
   ],
   "source": [
    "lr = grid.best_estimator_\n",
    "lr.fit(x_train,y_train)"
   ]
  },
  {
   "cell_type": "code",
   "execution_count": 75,
   "id": "1fa99892",
   "metadata": {},
   "outputs": [
    {
     "name": "stdout",
     "output_type": "stream",
     "text": [
      "\n",
      "===================================Train Result=================================\n",
      "Accurancy Score: 79.44%\n",
      "\n",
      "====================================Test Result================================\n",
      "Accurancy Score: 83.92%\n",
      "\n",
      "\n",
      " Test Classification Report \n",
      "               precision    recall  f1-score   support\n",
      "\n",
      "           0       0.82      0.96      0.89        93\n",
      "           1       0.89      0.62      0.73        50\n",
      "\n",
      "    accuracy                           0.84       143\n",
      "   macro avg       0.85      0.79      0.81       143\n",
      "weighted avg       0.85      0.84      0.83       143\n",
      "\n"
     ]
    }
   ],
   "source": [
    "#Call the function\n",
    "metric_score(lr,x_train,x_test,y_train,y_test, train = True)\n",
    "\n",
    "metric_score(lr,x_train,x_test,y_train,y_test, train = False)"
   ]
  },
  {
   "cell_type": "markdown",
   "id": "56f93eb1",
   "metadata": {},
   "source": [
    "# Next will check ROC AUC curve for the fitted model"
   ]
  },
  {
   "cell_type": "code",
   "execution_count": 76,
   "id": "18d0d847",
   "metadata": {},
   "outputs": [],
   "source": [
    "#Import ROC_AUC curve\n",
    "from sklearn.metrics import plot_roc_curve"
   ]
  },
  {
   "cell_type": "code",
   "execution_count": 77,
   "id": "55ba3445",
   "metadata": {},
   "outputs": [
    {
     "data": {
      "image/png": "[encoded data removed]",
      "text/plain": [
       "<Figure size 432x288 with 1 Axes>"
      ]
     },
     "metadata": {
      "needs_background": "light"
     },
     "output_type": "display_data"
    }
   ],
   "source": [
    "#Let's see how well our model works on training data.\n",
    "plot_roc_curve(lr,x_train,y_train)\n",
    "plt.show()"
   ]
  },
  {
   "cell_type": "code",
   "execution_count": 78,
   "id": "9876b940",
   "metadata": {},
   "outputs": [
    {
     "data": {
      "image/png": "[encoded data removed]",
      "text/plain": [
       "<Figure size 432x288 with 1 Axes>"
      ]
     },
     "metadata": {
      "needs_background": "light"
     },
     "output_type": "display_data"
    }
   ],
   "source": [
    "#Let's see how well our model works on training data.\n",
    "plot_roc_curve(lr,x_test,y_test)\n",
    "plt.show()"
   ]
  },
  {
   "cell_type": "markdown",
   "id": "2d8ef19e",
   "metadata": {},
   "source": [
    "# Model looks good next I will be save the model and use it for prediction"
   ]
  },
  {
   "cell_type": "code",
   "execution_count": 79,
   "id": "c4e6e5d8",
   "metadata": {},
   "outputs": [],
   "source": [
    "#Importing pickle to save the best model\n",
    "import pickle\n",
    "\n",
    "#Saving the best model to the local file system\n",
    "filename = 'finalized_model.pickle'\n",
    "pickle.dump(lr, open('lr_model', 'wb'))"
   ]
  },
  {
   "cell_type": "code",
   "execution_count": 80,
   "id": "c5b8cc46",
   "metadata": {},
   "outputs": [],
   "source": [
    "#Prediction using the saved model\n",
    "loaded_model = pickle.load(open('lr_model','rb'))"
   ]
  },
  {
   "cell_type": "code",
   "execution_count": 82,
   "id": "75474742",
   "metadata": {},
   "outputs": [
    {
     "data": {
      "text/plain": [
       "array([0, 0, 0, 0, 1, 0, 1, 0, 1, 0, 0, 1, 0, 0, 0, 1, 1, 0, 1, 0, 1, 0,\n",
       "       0, 1, 1, 0, 0, 0, 0, 1, 0, 1, 1, 0, 1, 1, 1, 0, 0, 0, 1, 0, 0, 0,\n",
       "       0, 0, 0, 0, 0, 0, 0, 0, 0, 0, 0, 1, 0, 0, 0, 1, 0, 0, 1, 0, 0, 0,\n",
       "       1, 0, 1, 1, 0, 1, 0, 0, 1, 0, 1, 1, 0, 0, 0, 0, 0, 0, 0, 0, 0, 0,\n",
       "       0, 0, 0, 0, 1, 0, 0, 0, 0, 1, 0, 0, 0, 0, 0, 0, 0, 0, 0, 1, 0, 0,\n",
       "       1, 0, 0, 0, 0, 0, 0, 0, 0, 0, 0, 0, 0, 0, 0, 1, 0, 1, 0, 0, 0, 0,\n",
       "       0, 0, 0, 0, 0, 1, 1, 0, 0, 0, 0], dtype=int64)"
      ]
     },
     "execution_count": 82,
     "metadata": {},
     "output_type": "execute_result"
    }
   ],
   "source": [
    "#Loading model\n",
    "a = loaded_model.predict(x_test)\n",
    "a"
   ]
  },
  {
   "cell_type": "code",
   "execution_count": 84,
   "id": "c7c4df8a",
   "metadata": {},
   "outputs": [
    {
     "data": {
      "text/html": [
       "<div>\n",
       "<style scoped>\n",
       "    .dataframe tbody tr th:only-of-type {\n",
       "        vertical-align: middle;\n",
       "    }\n",
       "\n",
       "    .dataframe tbody tr th {\n",
       "        vertical-align: top;\n",
       "    }\n",
       "\n",
       "    .dataframe thead th {\n",
       "        text-align: right;\n",
       "    }\n",
       "</style>\n",
       "<table border=\"1\" class=\"dataframe\">\n",
       "  <thead>\n",
       "    <tr style=\"text-align: right;\">\n",
       "      <th></th>\n",
       "      <th>Actual Survived</th>\n",
       "      <th>Predicted Survived</th>\n",
       "    </tr>\n",
       "  </thead>\n",
       "  <tbody>\n",
       "    <tr>\n",
       "      <th>525</th>\n",
       "      <td>0</td>\n",
       "      <td>0</td>\n",
       "    </tr>\n",
       "    <tr>\n",
       "      <th>115</th>\n",
       "      <td>0</td>\n",
       "      <td>0</td>\n",
       "    </tr>\n",
       "    <tr>\n",
       "      <th>811</th>\n",
       "      <td>0</td>\n",
       "      <td>0</td>\n",
       "    </tr>\n",
       "    <tr>\n",
       "      <th>51</th>\n",
       "      <td>0</td>\n",
       "      <td>0</td>\n",
       "    </tr>\n",
       "    <tr>\n",
       "      <th>539</th>\n",
       "      <td>1</td>\n",
       "      <td>1</td>\n",
       "    </tr>\n",
       "    <tr>\n",
       "      <th>...</th>\n",
       "      <td>...</td>\n",
       "      <td>...</td>\n",
       "    </tr>\n",
       "    <tr>\n",
       "      <th>448</th>\n",
       "      <td>1</td>\n",
       "      <td>1</td>\n",
       "    </tr>\n",
       "    <tr>\n",
       "      <th>191</th>\n",
       "      <td>0</td>\n",
       "      <td>0</td>\n",
       "    </tr>\n",
       "    <tr>\n",
       "      <th>681</th>\n",
       "      <td>1</td>\n",
       "      <td>0</td>\n",
       "    </tr>\n",
       "    <tr>\n",
       "      <th>806</th>\n",
       "      <td>0</td>\n",
       "      <td>0</td>\n",
       "    </tr>\n",
       "    <tr>\n",
       "      <th>421</th>\n",
       "      <td>0</td>\n",
       "      <td>0</td>\n",
       "    </tr>\n",
       "  </tbody>\n",
       "</table>\n",
       "<p>143 rows × 2 columns</p>\n",
       "</div>"
      ],
      "text/plain": [
       "     Actual Survived  Predicted Survived\n",
       "525                0                   0\n",
       "115                0                   0\n",
       "811                0                   0\n",
       "51                 0                   0\n",
       "539                1                   1\n",
       "..               ...                 ...\n",
       "448                1                   1\n",
       "191                0                   0\n",
       "681                1                   0\n",
       "806                0                   0\n",
       "421                0                   0\n",
       "\n",
       "[143 rows x 2 columns]"
      ]
     },
     "execution_count": 84,
     "metadata": {},
     "output_type": "execute_result"
    }
   ],
   "source": [
    "#Creating a DataFrame to showcase Actual vs Predicted numbers.\n",
    "DF = pd.DataFrame({'Actual Survived': y_test, 'Predicted Survived': a})\n",
    "DF"
   ]
  },
  {
   "cell_type": "code",
   "execution_count": 100,
   "id": "2a2ec183",
   "metadata": {},
   "outputs": [
    {
     "data": {
      "image/png": "[encoded data removed]",
      "text/plain": [
       "<Figure size 576x432 with 1 Axes>"
      ]
     },
     "metadata": {
      "needs_background": "light"
     },
     "output_type": "display_data"
    }
   ],
   "source": [
    "# Visualize Actual vs Predicted survival\n",
    "fig = plt.figure(figsize=(8,6))\n",
    "plt.scatter(range(y_test.shape[0]), y_test, color=\"salmon\", label =\"y_test\")\n",
    "plt.scatter(range(y_test.shape[0]), a, color=\"skyblue\", label = \"y_pred\")\n",
    "plt.legend();"
   ]
  }
 ],
 "metadata": {
  "kernelspec": {
   "display_name": "Python 3 (ipykernel)",
   "language": "python",
   "name": "python3"
  },
  "language_info": {
   "codemirror_mode": {
    "name": "ipython",
    "version": 3
   },
   "file_extension": ".py",
   "mimetype": "text/x-python",
   "name": "python",
   "nbconvert_exporter": "python",
   "pygments_lexer": "ipython3",
   "version": "3.9.7"
  }
 },
 "nbformat": 4,
 "nbformat_minor": 5
}
