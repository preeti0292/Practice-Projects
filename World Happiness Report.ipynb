{
 "cells": [
  {
   "cell_type": "code",
   "execution_count": 1,
   "id": "8251d3d1",
   "metadata": {},
   "outputs": [],
   "source": [
    "#importing necessary libraries\n",
    "import pandas as pd\n",
    "import numpy as np\n",
    "import matplotlib.pyplot as plt\n",
    "%matplotlib inline\n",
    "import seaborn as sns\n",
    "\n",
    "import warnings\n",
    "warnings.filterwarnings('ignore')"
   ]
  },
  {
   "cell_type": "code",
   "execution_count": 2,
   "id": "f3606836",
   "metadata": {},
   "outputs": [
    {
     "data": {
      "text/html": [
       "<div>\n",
       "<style scoped>\n",
       "    .dataframe tbody tr th:only-of-type {\n",
       "        vertical-align: middle;\n",
       "    }\n",
       "\n",
       "    .dataframe tbody tr th {\n",
       "        vertical-align: top;\n",
       "    }\n",
       "\n",
       "    .dataframe thead th {\n",
       "        text-align: right;\n",
       "    }\n",
       "</style>\n",
       "<table border=\"1\" class=\"dataframe\">\n",
       "  <thead>\n",
       "    <tr style=\"text-align: right;\">\n",
       "      <th></th>\n",
       "      <th>Country</th>\n",
       "      <th>Region</th>\n",
       "      <th>Happiness Rank</th>\n",
       "      <th>Happiness Score</th>\n",
       "      <th>Standard Error</th>\n",
       "      <th>Economy (GDP per Capita)</th>\n",
       "      <th>Family</th>\n",
       "      <th>Health (Life Expectancy)</th>\n",
       "      <th>Freedom</th>\n",
       "      <th>Trust (Government Corruption)</th>\n",
       "      <th>Generosity</th>\n",
       "      <th>Dystopia Residual</th>\n",
       "    </tr>\n",
       "  </thead>\n",
       "  <tbody>\n",
       "    <tr>\n",
       "      <th>0</th>\n",
       "      <td>Switzerland</td>\n",
       "      <td>Western Europe</td>\n",
       "      <td>1</td>\n",
       "      <td>7.587</td>\n",
       "      <td>0.03411</td>\n",
       "      <td>1.39651</td>\n",
       "      <td>1.34951</td>\n",
       "      <td>0.94143</td>\n",
       "      <td>0.66557</td>\n",
       "      <td>0.41978</td>\n",
       "      <td>0.29678</td>\n",
       "      <td>2.51738</td>\n",
       "    </tr>\n",
       "    <tr>\n",
       "      <th>1</th>\n",
       "      <td>Iceland</td>\n",
       "      <td>Western Europe</td>\n",
       "      <td>2</td>\n",
       "      <td>7.561</td>\n",
       "      <td>0.04884</td>\n",
       "      <td>1.30232</td>\n",
       "      <td>1.40223</td>\n",
       "      <td>0.94784</td>\n",
       "      <td>0.62877</td>\n",
       "      <td>0.14145</td>\n",
       "      <td>0.43630</td>\n",
       "      <td>2.70201</td>\n",
       "    </tr>\n",
       "    <tr>\n",
       "      <th>2</th>\n",
       "      <td>Denmark</td>\n",
       "      <td>Western Europe</td>\n",
       "      <td>3</td>\n",
       "      <td>7.527</td>\n",
       "      <td>0.03328</td>\n",
       "      <td>1.32548</td>\n",
       "      <td>1.36058</td>\n",
       "      <td>0.87464</td>\n",
       "      <td>0.64938</td>\n",
       "      <td>0.48357</td>\n",
       "      <td>0.34139</td>\n",
       "      <td>2.49204</td>\n",
       "    </tr>\n",
       "    <tr>\n",
       "      <th>3</th>\n",
       "      <td>Norway</td>\n",
       "      <td>Western Europe</td>\n",
       "      <td>4</td>\n",
       "      <td>7.522</td>\n",
       "      <td>0.03880</td>\n",
       "      <td>1.45900</td>\n",
       "      <td>1.33095</td>\n",
       "      <td>0.88521</td>\n",
       "      <td>0.66973</td>\n",
       "      <td>0.36503</td>\n",
       "      <td>0.34699</td>\n",
       "      <td>2.46531</td>\n",
       "    </tr>\n",
       "    <tr>\n",
       "      <th>4</th>\n",
       "      <td>Canada</td>\n",
       "      <td>North America</td>\n",
       "      <td>5</td>\n",
       "      <td>7.427</td>\n",
       "      <td>0.03553</td>\n",
       "      <td>1.32629</td>\n",
       "      <td>1.32261</td>\n",
       "      <td>0.90563</td>\n",
       "      <td>0.63297</td>\n",
       "      <td>0.32957</td>\n",
       "      <td>0.45811</td>\n",
       "      <td>2.45176</td>\n",
       "    </tr>\n",
       "  </tbody>\n",
       "</table>\n",
       "</div>"
      ],
      "text/plain": [
       "       Country          Region  Happiness Rank  Happiness Score  \\\n",
       "0  Switzerland  Western Europe               1            7.587   \n",
       "1      Iceland  Western Europe               2            7.561   \n",
       "2      Denmark  Western Europe               3            7.527   \n",
       "3       Norway  Western Europe               4            7.522   \n",
       "4       Canada   North America               5            7.427   \n",
       "\n",
       "   Standard Error  Economy (GDP per Capita)   Family  \\\n",
       "0         0.03411                   1.39651  1.34951   \n",
       "1         0.04884                   1.30232  1.40223   \n",
       "2         0.03328                   1.32548  1.36058   \n",
       "3         0.03880                   1.45900  1.33095   \n",
       "4         0.03553                   1.32629  1.32261   \n",
       "\n",
       "   Health (Life Expectancy)  Freedom  Trust (Government Corruption)  \\\n",
       "0                   0.94143  0.66557                        0.41978   \n",
       "1                   0.94784  0.62877                        0.14145   \n",
       "2                   0.87464  0.64938                        0.48357   \n",
       "3                   0.88521  0.66973                        0.36503   \n",
       "4                   0.90563  0.63297                        0.32957   \n",
       "\n",
       "   Generosity  Dystopia Residual  \n",
       "0     0.29678            2.51738  \n",
       "1     0.43630            2.70201  \n",
       "2     0.34139            2.49204  \n",
       "3     0.34699            2.46531  \n",
       "4     0.45811            2.45176  "
      ]
     },
     "execution_count": 2,
     "metadata": {},
     "output_type": "execute_result"
    }
   ],
   "source": [
    "df = pd.read_csv('https://raw.githubusercontent.com/dsrscientist/DSData/master/happiness_score_dataset.csv')\n",
    "df.head()"
   ]
  },
  {
   "cell_type": "markdown",
   "id": "0eb0c892",
   "metadata": {},
   "source": [
    "# As per the Probelm Statement I will have to predict the Happiness Score using given data. Here Happiness Score is the Target variable and rest all the columns are Features."
   ]
  },
  {
   "cell_type": "code",
   "execution_count": 3,
   "id": "3d70864f",
   "metadata": {},
   "outputs": [],
   "source": [
    "#Renaming columns for convenience.\n",
    "df.rename(columns = {'Happiness Rank':'Rank','Happiness Score':'Score','Economy (GDP per Capita)':'GDP','Trust (Government Corruption)':'Curruption','Health (Life Expectancy)':'Life'}, inplace = True)"
   ]
  },
  {
   "cell_type": "code",
   "execution_count": 4,
   "id": "00986ccd",
   "metadata": {},
   "outputs": [
    {
     "data": {
      "text/html": [
       "<div>\n",
       "<style scoped>\n",
       "    .dataframe tbody tr th:only-of-type {\n",
       "        vertical-align: middle;\n",
       "    }\n",
       "\n",
       "    .dataframe tbody tr th {\n",
       "        vertical-align: top;\n",
       "    }\n",
       "\n",
       "    .dataframe thead th {\n",
       "        text-align: right;\n",
       "    }\n",
       "</style>\n",
       "<table border=\"1\" class=\"dataframe\">\n",
       "  <thead>\n",
       "    <tr style=\"text-align: right;\">\n",
       "      <th></th>\n",
       "      <th>Country</th>\n",
       "      <th>Region</th>\n",
       "      <th>Rank</th>\n",
       "      <th>Score</th>\n",
       "      <th>Standard Error</th>\n",
       "      <th>GDP</th>\n",
       "      <th>Family</th>\n",
       "      <th>Life</th>\n",
       "      <th>Freedom</th>\n",
       "      <th>Curruption</th>\n",
       "      <th>Generosity</th>\n",
       "      <th>Dystopia Residual</th>\n",
       "    </tr>\n",
       "  </thead>\n",
       "  <tbody>\n",
       "    <tr>\n",
       "      <th>0</th>\n",
       "      <td>Switzerland</td>\n",
       "      <td>Western Europe</td>\n",
       "      <td>1</td>\n",
       "      <td>7.587</td>\n",
       "      <td>0.03411</td>\n",
       "      <td>1.39651</td>\n",
       "      <td>1.34951</td>\n",
       "      <td>0.94143</td>\n",
       "      <td>0.66557</td>\n",
       "      <td>0.41978</td>\n",
       "      <td>0.29678</td>\n",
       "      <td>2.51738</td>\n",
       "    </tr>\n",
       "    <tr>\n",
       "      <th>1</th>\n",
       "      <td>Iceland</td>\n",
       "      <td>Western Europe</td>\n",
       "      <td>2</td>\n",
       "      <td>7.561</td>\n",
       "      <td>0.04884</td>\n",
       "      <td>1.30232</td>\n",
       "      <td>1.40223</td>\n",
       "      <td>0.94784</td>\n",
       "      <td>0.62877</td>\n",
       "      <td>0.14145</td>\n",
       "      <td>0.43630</td>\n",
       "      <td>2.70201</td>\n",
       "    </tr>\n",
       "    <tr>\n",
       "      <th>2</th>\n",
       "      <td>Denmark</td>\n",
       "      <td>Western Europe</td>\n",
       "      <td>3</td>\n",
       "      <td>7.527</td>\n",
       "      <td>0.03328</td>\n",
       "      <td>1.32548</td>\n",
       "      <td>1.36058</td>\n",
       "      <td>0.87464</td>\n",
       "      <td>0.64938</td>\n",
       "      <td>0.48357</td>\n",
       "      <td>0.34139</td>\n",
       "      <td>2.49204</td>\n",
       "    </tr>\n",
       "    <tr>\n",
       "      <th>3</th>\n",
       "      <td>Norway</td>\n",
       "      <td>Western Europe</td>\n",
       "      <td>4</td>\n",
       "      <td>7.522</td>\n",
       "      <td>0.03880</td>\n",
       "      <td>1.45900</td>\n",
       "      <td>1.33095</td>\n",
       "      <td>0.88521</td>\n",
       "      <td>0.66973</td>\n",
       "      <td>0.36503</td>\n",
       "      <td>0.34699</td>\n",
       "      <td>2.46531</td>\n",
       "    </tr>\n",
       "    <tr>\n",
       "      <th>4</th>\n",
       "      <td>Canada</td>\n",
       "      <td>North America</td>\n",
       "      <td>5</td>\n",
       "      <td>7.427</td>\n",
       "      <td>0.03553</td>\n",
       "      <td>1.32629</td>\n",
       "      <td>1.32261</td>\n",
       "      <td>0.90563</td>\n",
       "      <td>0.63297</td>\n",
       "      <td>0.32957</td>\n",
       "      <td>0.45811</td>\n",
       "      <td>2.45176</td>\n",
       "    </tr>\n",
       "  </tbody>\n",
       "</table>\n",
       "</div>"
      ],
      "text/plain": [
       "       Country          Region  Rank  Score  Standard Error      GDP   Family  \\\n",
       "0  Switzerland  Western Europe     1  7.587         0.03411  1.39651  1.34951   \n",
       "1      Iceland  Western Europe     2  7.561         0.04884  1.30232  1.40223   \n",
       "2      Denmark  Western Europe     3  7.527         0.03328  1.32548  1.36058   \n",
       "3       Norway  Western Europe     4  7.522         0.03880  1.45900  1.33095   \n",
       "4       Canada   North America     5  7.427         0.03553  1.32629  1.32261   \n",
       "\n",
       "      Life  Freedom  Curruption  Generosity  Dystopia Residual  \n",
       "0  0.94143  0.66557     0.41978     0.29678            2.51738  \n",
       "1  0.94784  0.62877     0.14145     0.43630            2.70201  \n",
       "2  0.87464  0.64938     0.48357     0.34139            2.49204  \n",
       "3  0.88521  0.66973     0.36503     0.34699            2.46531  \n",
       "4  0.90563  0.63297     0.32957     0.45811            2.45176  "
      ]
     },
     "execution_count": 4,
     "metadata": {},
     "output_type": "execute_result"
    }
   ],
   "source": [
    "df.head()"
   ]
  },
  {
   "cell_type": "code",
   "execution_count": 5,
   "id": "ac463788",
   "metadata": {},
   "outputs": [],
   "source": [
    "#Droping unnecessary colums.\n",
    "df = df.drop(columns = ['Standard Error','Dystopia Residual','Region','Family'])"
   ]
  },
  {
   "cell_type": "code",
   "execution_count": 6,
   "id": "dc315c84",
   "metadata": {},
   "outputs": [
    {
     "data": {
      "text/html": [
       "<div>\n",
       "<style scoped>\n",
       "    .dataframe tbody tr th:only-of-type {\n",
       "        vertical-align: middle;\n",
       "    }\n",
       "\n",
       "    .dataframe tbody tr th {\n",
       "        vertical-align: top;\n",
       "    }\n",
       "\n",
       "    .dataframe thead th {\n",
       "        text-align: right;\n",
       "    }\n",
       "</style>\n",
       "<table border=\"1\" class=\"dataframe\">\n",
       "  <thead>\n",
       "    <tr style=\"text-align: right;\">\n",
       "      <th></th>\n",
       "      <th>Country</th>\n",
       "      <th>Rank</th>\n",
       "      <th>Score</th>\n",
       "      <th>GDP</th>\n",
       "      <th>Life</th>\n",
       "      <th>Freedom</th>\n",
       "      <th>Curruption</th>\n",
       "      <th>Generosity</th>\n",
       "    </tr>\n",
       "  </thead>\n",
       "  <tbody>\n",
       "    <tr>\n",
       "      <th>0</th>\n",
       "      <td>Switzerland</td>\n",
       "      <td>1</td>\n",
       "      <td>7.587</td>\n",
       "      <td>1.39651</td>\n",
       "      <td>0.94143</td>\n",
       "      <td>0.66557</td>\n",
       "      <td>0.41978</td>\n",
       "      <td>0.29678</td>\n",
       "    </tr>\n",
       "    <tr>\n",
       "      <th>1</th>\n",
       "      <td>Iceland</td>\n",
       "      <td>2</td>\n",
       "      <td>7.561</td>\n",
       "      <td>1.30232</td>\n",
       "      <td>0.94784</td>\n",
       "      <td>0.62877</td>\n",
       "      <td>0.14145</td>\n",
       "      <td>0.43630</td>\n",
       "    </tr>\n",
       "    <tr>\n",
       "      <th>2</th>\n",
       "      <td>Denmark</td>\n",
       "      <td>3</td>\n",
       "      <td>7.527</td>\n",
       "      <td>1.32548</td>\n",
       "      <td>0.87464</td>\n",
       "      <td>0.64938</td>\n",
       "      <td>0.48357</td>\n",
       "      <td>0.34139</td>\n",
       "    </tr>\n",
       "    <tr>\n",
       "      <th>3</th>\n",
       "      <td>Norway</td>\n",
       "      <td>4</td>\n",
       "      <td>7.522</td>\n",
       "      <td>1.45900</td>\n",
       "      <td>0.88521</td>\n",
       "      <td>0.66973</td>\n",
       "      <td>0.36503</td>\n",
       "      <td>0.34699</td>\n",
       "    </tr>\n",
       "    <tr>\n",
       "      <th>4</th>\n",
       "      <td>Canada</td>\n",
       "      <td>5</td>\n",
       "      <td>7.427</td>\n",
       "      <td>1.32629</td>\n",
       "      <td>0.90563</td>\n",
       "      <td>0.63297</td>\n",
       "      <td>0.32957</td>\n",
       "      <td>0.45811</td>\n",
       "    </tr>\n",
       "  </tbody>\n",
       "</table>\n",
       "</div>"
      ],
      "text/plain": [
       "       Country  Rank  Score      GDP     Life  Freedom  Curruption  Generosity\n",
       "0  Switzerland     1  7.587  1.39651  0.94143  0.66557     0.41978     0.29678\n",
       "1      Iceland     2  7.561  1.30232  0.94784  0.62877     0.14145     0.43630\n",
       "2      Denmark     3  7.527  1.32548  0.87464  0.64938     0.48357     0.34139\n",
       "3       Norway     4  7.522  1.45900  0.88521  0.66973     0.36503     0.34699\n",
       "4       Canada     5  7.427  1.32629  0.90563  0.63297     0.32957     0.45811"
      ]
     },
     "execution_count": 6,
     "metadata": {},
     "output_type": "execute_result"
    }
   ],
   "source": [
    "df.head()"
   ]
  },
  {
   "cell_type": "code",
   "execution_count": 7,
   "id": "6c122a6e",
   "metadata": {},
   "outputs": [
    {
     "data": {
      "text/html": [
       "<div>\n",
       "<style scoped>\n",
       "    .dataframe tbody tr th:only-of-type {\n",
       "        vertical-align: middle;\n",
       "    }\n",
       "\n",
       "    .dataframe tbody tr th {\n",
       "        vertical-align: top;\n",
       "    }\n",
       "\n",
       "    .dataframe thead th {\n",
       "        text-align: right;\n",
       "    }\n",
       "</style>\n",
       "<table border=\"1\" class=\"dataframe\">\n",
       "  <thead>\n",
       "    <tr style=\"text-align: right;\">\n",
       "      <th></th>\n",
       "      <th>Rank</th>\n",
       "      <th>Score</th>\n",
       "      <th>GDP</th>\n",
       "      <th>Life</th>\n",
       "      <th>Freedom</th>\n",
       "      <th>Curruption</th>\n",
       "      <th>Generosity</th>\n",
       "    </tr>\n",
       "  </thead>\n",
       "  <tbody>\n",
       "    <tr>\n",
       "      <th>count</th>\n",
       "      <td>158.000000</td>\n",
       "      <td>158.000000</td>\n",
       "      <td>158.000000</td>\n",
       "      <td>158.000000</td>\n",
       "      <td>158.000000</td>\n",
       "      <td>158.000000</td>\n",
       "      <td>158.000000</td>\n",
       "    </tr>\n",
       "    <tr>\n",
       "      <th>mean</th>\n",
       "      <td>79.493671</td>\n",
       "      <td>5.375734</td>\n",
       "      <td>0.846137</td>\n",
       "      <td>0.630259</td>\n",
       "      <td>0.428615</td>\n",
       "      <td>0.143422</td>\n",
       "      <td>0.237296</td>\n",
       "    </tr>\n",
       "    <tr>\n",
       "      <th>std</th>\n",
       "      <td>45.754363</td>\n",
       "      <td>1.145010</td>\n",
       "      <td>0.403121</td>\n",
       "      <td>0.247078</td>\n",
       "      <td>0.150693</td>\n",
       "      <td>0.120034</td>\n",
       "      <td>0.126685</td>\n",
       "    </tr>\n",
       "    <tr>\n",
       "      <th>min</th>\n",
       "      <td>1.000000</td>\n",
       "      <td>2.839000</td>\n",
       "      <td>0.000000</td>\n",
       "      <td>0.000000</td>\n",
       "      <td>0.000000</td>\n",
       "      <td>0.000000</td>\n",
       "      <td>0.000000</td>\n",
       "    </tr>\n",
       "    <tr>\n",
       "      <th>25%</th>\n",
       "      <td>40.250000</td>\n",
       "      <td>4.526000</td>\n",
       "      <td>0.545808</td>\n",
       "      <td>0.439185</td>\n",
       "      <td>0.328330</td>\n",
       "      <td>0.061675</td>\n",
       "      <td>0.150553</td>\n",
       "    </tr>\n",
       "    <tr>\n",
       "      <th>50%</th>\n",
       "      <td>79.500000</td>\n",
       "      <td>5.232500</td>\n",
       "      <td>0.910245</td>\n",
       "      <td>0.696705</td>\n",
       "      <td>0.435515</td>\n",
       "      <td>0.107220</td>\n",
       "      <td>0.216130</td>\n",
       "    </tr>\n",
       "    <tr>\n",
       "      <th>75%</th>\n",
       "      <td>118.750000</td>\n",
       "      <td>6.243750</td>\n",
       "      <td>1.158448</td>\n",
       "      <td>0.811013</td>\n",
       "      <td>0.549092</td>\n",
       "      <td>0.180255</td>\n",
       "      <td>0.309883</td>\n",
       "    </tr>\n",
       "    <tr>\n",
       "      <th>max</th>\n",
       "      <td>158.000000</td>\n",
       "      <td>7.587000</td>\n",
       "      <td>1.690420</td>\n",
       "      <td>1.025250</td>\n",
       "      <td>0.669730</td>\n",
       "      <td>0.551910</td>\n",
       "      <td>0.795880</td>\n",
       "    </tr>\n",
       "  </tbody>\n",
       "</table>\n",
       "</div>"
      ],
      "text/plain": [
       "             Rank       Score         GDP        Life     Freedom  Curruption  \\\n",
       "count  158.000000  158.000000  158.000000  158.000000  158.000000  158.000000   \n",
       "mean    79.493671    5.375734    0.846137    0.630259    0.428615    0.143422   \n",
       "std     45.754363    1.145010    0.403121    0.247078    0.150693    0.120034   \n",
       "min      1.000000    2.839000    0.000000    0.000000    0.000000    0.000000   \n",
       "25%     40.250000    4.526000    0.545808    0.439185    0.328330    0.061675   \n",
       "50%     79.500000    5.232500    0.910245    0.696705    0.435515    0.107220   \n",
       "75%    118.750000    6.243750    1.158448    0.811013    0.549092    0.180255   \n",
       "max    158.000000    7.587000    1.690420    1.025250    0.669730    0.551910   \n",
       "\n",
       "       Generosity  \n",
       "count  158.000000  \n",
       "mean     0.237296  \n",
       "std      0.126685  \n",
       "min      0.000000  \n",
       "25%      0.150553  \n",
       "50%      0.216130  \n",
       "75%      0.309883  \n",
       "max      0.795880  "
      ]
     },
     "execution_count": 7,
     "metadata": {},
     "output_type": "execute_result"
    }
   ],
   "source": [
    "#To check statistical description I will be using describe() method.\n",
    "df.describe()"
   ]
  },
  {
   "cell_type": "code",
   "execution_count": 8,
   "id": "dadb18eb",
   "metadata": {},
   "outputs": [
    {
     "data": {
      "text/plain": [
       "Country       0\n",
       "Rank          0\n",
       "Score         0\n",
       "GDP           0\n",
       "Life          0\n",
       "Freedom       0\n",
       "Curruption    0\n",
       "Generosity    0\n",
       "dtype: int64"
      ]
     },
     "execution_count": 8,
     "metadata": {},
     "output_type": "execute_result"
    }
   ],
   "source": [
    "#Checking for null values\n",
    "df.isnull().sum()"
   ]
  },
  {
   "cell_type": "code",
   "execution_count": 9,
   "id": "f6406020",
   "metadata": {},
   "outputs": [
    {
     "name": "stdout",
     "output_type": "stream",
     "text": [
      "<class 'pandas.core.frame.DataFrame'>\n",
      "RangeIndex: 158 entries, 0 to 157\n",
      "Data columns (total 8 columns):\n",
      " #   Column      Non-Null Count  Dtype  \n",
      "---  ------      --------------  -----  \n",
      " 0   Country     158 non-null    object \n",
      " 1   Rank        158 non-null    int64  \n",
      " 2   Score       158 non-null    float64\n",
      " 3   GDP         158 non-null    float64\n",
      " 4   Life        158 non-null    float64\n",
      " 5   Freedom     158 non-null    float64\n",
      " 6   Curruption  158 non-null    float64\n",
      " 7   Generosity  158 non-null    float64\n",
      "dtypes: float64(6), int64(1), object(1)\n",
      "memory usage: 10.0+ KB\n"
     ]
    }
   ],
   "source": [
    "df.info()"
   ]
  },
  {
   "cell_type": "markdown",
   "id": "273aee8a",
   "metadata": {},
   "source": [
    "# Observations."
   ]
  },
  {
   "cell_type": "markdown",
   "id": "16022e10",
   "metadata": {},
   "source": [
    "1. No Null Values Present in the dataset."
   ]
  },
  {
   "cell_type": "markdown",
   "id": "950a5213",
   "metadata": {},
   "source": [
    "2. Only one colum is Object datatype rest all are float and integer"
   ]
  },
  {
   "cell_type": "code",
   "execution_count": 10,
   "id": "25ba2e34",
   "metadata": {},
   "outputs": [
    {
     "data": {
      "image/png": "[encoded data removed]",
      "text/plain": [
       "<Figure size 1440x1080 with 6 Axes>"
      ]
     },
     "metadata": {
      "needs_background": "light"
     },
     "output_type": "display_data"
    }
   ],
   "source": [
    "#Will Check how data is distributed for every column.\n",
    "plt.figure(figsize = (20,15))\n",
    "\n",
    "plotnumber = 1\n",
    "\n",
    "for column in df[['Score','GDP','Life','Freedom','Curruption','Generosity']]:\n",
    "    if plotnumber <= 6:\n",
    "        ax = plt.subplot(2,3,plotnumber)\n",
    "        sns.distplot(df[column])\n",
    "        plt.xlabel(column, fontsize = 20)\n",
    "        \n",
    "    plotnumber += 1\n",
    "    \n",
    "plt.tight_layout()"
   ]
  },
  {
   "cell_type": "markdown",
   "id": "44ed6551",
   "metadata": {},
   "source": [
    "# Next will check if outliers present in the dataset, for that I will be using box."
   ]
  },
  {
   "cell_type": "code",
   "execution_count": 11,
   "id": "37cfa296",
   "metadata": {},
   "outputs": [
    {
     "data": {
      "image/png": "[encoded data removed]",
      "text/plain": [
       "<Figure size 1440x1440 with 6 Axes>"
      ]
     },
     "metadata": {
      "needs_background": "light"
     },
     "output_type": "display_data"
    }
   ],
   "source": [
    "#Will implement boxplot to check outliers\n",
    "plt.figure(figsize = (20,20))\n",
    "plotnumber = 1\n",
    "\n",
    "for column in df[['Score','GDP','Life','Freedom','Curruption','Generosity']]:\n",
    "    if plotnumber <= 6:\n",
    "        plt.subplot(2,3,plotnumber)\n",
    "        sns.boxplot(df[column])\n",
    "        plt.xlabel(column)\n",
    "        plt.title('Outliers')\n",
    "    \n",
    "    plotnumber += 1\n",
    "    \n",
    "plt.tight_layout() "
   ]
  },
  {
   "cell_type": "markdown",
   "id": "640282d5",
   "metadata": {},
   "source": [
    "# From the box plot I can see outliers are present in Curruption and Generocity. Next will identify outliers using IQR method and remove them."
   ]
  },
  {
   "cell_type": "code",
   "execution_count": 12,
   "id": "0d443650",
   "metadata": {},
   "outputs": [],
   "source": [
    "#Remove outliers for Curruption\n",
    "def remove_outliers_Curruption(df):\n",
    "    IQR = df['Curruption'].quantile(0.75) - df['Curruption'].quantile(0.25)\n",
    "    \n",
    "    higher_range = df['Curruption'].quantile(0.75) + (1.5 * IQR)\n",
    "    \n",
    "    df.loc[df['Curruption'] >= higher_range, 'Curruption'] = higher_range"
   ]
  },
  {
   "cell_type": "code",
   "execution_count": 13,
   "id": "278d5757",
   "metadata": {},
   "outputs": [],
   "source": [
    "remove_outliers_Curruption(df)"
   ]
  },
  {
   "cell_type": "code",
   "execution_count": 14,
   "id": "efc8276c",
   "metadata": {},
   "outputs": [],
   "source": [
    "#Remove outliers for Generosity\n",
    "def remove_outliers_Generosity(df):\n",
    "    IQR1 = df['Generosity'].quantile(0.75) - df['Generosity'].quantile(0.25)\n",
    "    \n",
    "    higher_range1 = df['Generosity'].quantile(0.75) + (1.5 * IQR1)\n",
    "    \n",
    "    df.loc[df['Generosity'] >= higher_range1, 'Generosity'] = higher_range1"
   ]
  },
  {
   "cell_type": "code",
   "execution_count": 15,
   "id": "44d5f8b5",
   "metadata": {},
   "outputs": [],
   "source": [
    "remove_outliers_Generosity(df)"
   ]
  },
  {
   "cell_type": "markdown",
   "id": "34a71163",
   "metadata": {},
   "source": [
    "# Again I will implement box plot to confirm no more outliers are present in the dataset."
   ]
  },
  {
   "cell_type": "code",
   "execution_count": 16,
   "id": "48282f60",
   "metadata": {},
   "outputs": [
    {
     "data": {
      "image/png": "[encoded data removed]",
      "text/plain": [
       "<Figure size 1440x1440 with 6 Axes>"
      ]
     },
     "metadata": {
      "needs_background": "light"
     },
     "output_type": "display_data"
    }
   ],
   "source": [
    "plt.figure(figsize = (20,20))\n",
    "plotnumber = 1\n",
    "\n",
    "for column in df[['Score','GDP','Life','Freedom','Curruption','Generosity']]:\n",
    "    if plotnumber <= 6:\n",
    "        plt.subplot(2,3,plotnumber)\n",
    "        sns.boxplot(df[column])\n",
    "        plt.xlabel(column)\n",
    "        plt.title('Outliers')\n",
    "    \n",
    "    plotnumber += 1\n",
    "    \n",
    "plt.tight_layout()"
   ]
  },
  {
   "cell_type": "markdown",
   "id": "0cb02069",
   "metadata": {},
   "source": [
    "# All the outliers have been successfully removed using Inter Quantile Range Method. Next I will use encoding method for Country column to change object data into integers."
   ]
  },
  {
   "cell_type": "code",
   "execution_count": 17,
   "id": "ea68a7e5",
   "metadata": {},
   "outputs": [],
   "source": [
    "#Using Label Encoder technique to change object data into int.\n",
    "from sklearn.preprocessing import LabelEncoder#Importing Label Encoder.\n",
    "\n",
    "#Storing lable encoder into a variable.\n",
    "lab_enc = LabelEncoder()"
   ]
  },
  {
   "cell_type": "code",
   "execution_count": 18,
   "id": "15db7e9e",
   "metadata": {},
   "outputs": [
    {
     "data": {
      "text/html": [
       "<div>\n",
       "<style scoped>\n",
       "    .dataframe tbody tr th:only-of-type {\n",
       "        vertical-align: middle;\n",
       "    }\n",
       "\n",
       "    .dataframe tbody tr th {\n",
       "        vertical-align: top;\n",
       "    }\n",
       "\n",
       "    .dataframe thead th {\n",
       "        text-align: right;\n",
       "    }\n",
       "</style>\n",
       "<table border=\"1\" class=\"dataframe\">\n",
       "  <thead>\n",
       "    <tr style=\"text-align: right;\">\n",
       "      <th></th>\n",
       "      <th>Country</th>\n",
       "      <th>Rank</th>\n",
       "      <th>Score</th>\n",
       "      <th>GDP</th>\n",
       "      <th>Life</th>\n",
       "      <th>Freedom</th>\n",
       "      <th>Curruption</th>\n",
       "      <th>Generosity</th>\n",
       "    </tr>\n",
       "  </thead>\n",
       "  <tbody>\n",
       "    <tr>\n",
       "      <th>0</th>\n",
       "      <td>135</td>\n",
       "      <td>1</td>\n",
       "      <td>7.587</td>\n",
       "      <td>1.39651</td>\n",
       "      <td>0.94143</td>\n",
       "      <td>0.66557</td>\n",
       "      <td>0.358125</td>\n",
       "      <td>0.29678</td>\n",
       "    </tr>\n",
       "    <tr>\n",
       "      <th>1</th>\n",
       "      <td>58</td>\n",
       "      <td>2</td>\n",
       "      <td>7.561</td>\n",
       "      <td>1.30232</td>\n",
       "      <td>0.94784</td>\n",
       "      <td>0.62877</td>\n",
       "      <td>0.141450</td>\n",
       "      <td>0.43630</td>\n",
       "    </tr>\n",
       "    <tr>\n",
       "      <th>2</th>\n",
       "      <td>37</td>\n",
       "      <td>3</td>\n",
       "      <td>7.527</td>\n",
       "      <td>1.32548</td>\n",
       "      <td>0.87464</td>\n",
       "      <td>0.64938</td>\n",
       "      <td>0.358125</td>\n",
       "      <td>0.34139</td>\n",
       "    </tr>\n",
       "    <tr>\n",
       "      <th>3</th>\n",
       "      <td>105</td>\n",
       "      <td>4</td>\n",
       "      <td>7.522</td>\n",
       "      <td>1.45900</td>\n",
       "      <td>0.88521</td>\n",
       "      <td>0.66973</td>\n",
       "      <td>0.358125</td>\n",
       "      <td>0.34699</td>\n",
       "    </tr>\n",
       "    <tr>\n",
       "      <th>4</th>\n",
       "      <td>24</td>\n",
       "      <td>5</td>\n",
       "      <td>7.427</td>\n",
       "      <td>1.32629</td>\n",
       "      <td>0.90563</td>\n",
       "      <td>0.63297</td>\n",
       "      <td>0.329570</td>\n",
       "      <td>0.45811</td>\n",
       "    </tr>\n",
       "  </tbody>\n",
       "</table>\n",
       "</div>"
      ],
      "text/plain": [
       "   Country  Rank  Score      GDP     Life  Freedom  Curruption  Generosity\n",
       "0      135     1  7.587  1.39651  0.94143  0.66557    0.358125     0.29678\n",
       "1       58     2  7.561  1.30232  0.94784  0.62877    0.141450     0.43630\n",
       "2       37     3  7.527  1.32548  0.87464  0.64938    0.358125     0.34139\n",
       "3      105     4  7.522  1.45900  0.88521  0.66973    0.358125     0.34699\n",
       "4       24     5  7.427  1.32629  0.90563  0.63297    0.329570     0.45811"
      ]
     },
     "execution_count": 18,
     "metadata": {},
     "output_type": "execute_result"
    }
   ],
   "source": [
    "df1 = lab_enc.fit_transform(df['Country'])\n",
    "\n",
    "pd.Series(df1)\n",
    "\n",
    "df['Country'] = df1\n",
    "\n",
    "df.head()"
   ]
  },
  {
   "cell_type": "markdown",
   "id": "64dd67d4",
   "metadata": {},
   "source": [
    "# Next I'll be using heat map to observ relationship between features and label."
   ]
  },
  {
   "cell_type": "code",
   "execution_count": 19,
   "id": "e83affb8",
   "metadata": {},
   "outputs": [
    {
     "data": {
      "image/png": "[encoded data removed]",
      "text/plain": [
       "<Figure size 720x576 with 2 Axes>"
      ]
     },
     "metadata": {},
     "output_type": "display_data"
    }
   ],
   "source": [
    "#Using heatmap to check relationship between features and label.\n",
    "plt.figure(figsize=(10,8),facecolor='orange')\n",
    "sns.heatmap(df.corr(),annot=True)\n",
    "plt.title('relationship between Features and Label')\n",
    "plt.show()"
   ]
  },
  {
   "cell_type": "markdown",
   "id": "b1e66e46",
   "metadata": {},
   "source": [
    "# Rank has strong negative correlation with Score, Country has less contribution in oder to predict label. Also, as per heatmap GDP and Life expectancy are strongly correlated. I will drop rank and country as of now."
   ]
  },
  {
   "cell_type": "code",
   "execution_count": 20,
   "id": "453e9cca",
   "metadata": {},
   "outputs": [],
   "source": [
    "#Droping Country and Rank.\n",
    "df = df.drop(columns = ['Country','Rank'])"
   ]
  },
  {
   "cell_type": "code",
   "execution_count": 21,
   "id": "2e12e6e2",
   "metadata": {},
   "outputs": [
    {
     "data": {
      "text/html": [
       "<div>\n",
       "<style scoped>\n",
       "    .dataframe tbody tr th:only-of-type {\n",
       "        vertical-align: middle;\n",
       "    }\n",
       "\n",
       "    .dataframe tbody tr th {\n",
       "        vertical-align: top;\n",
       "    }\n",
       "\n",
       "    .dataframe thead th {\n",
       "        text-align: right;\n",
       "    }\n",
       "</style>\n",
       "<table border=\"1\" class=\"dataframe\">\n",
       "  <thead>\n",
       "    <tr style=\"text-align: right;\">\n",
       "      <th></th>\n",
       "      <th>Score</th>\n",
       "      <th>GDP</th>\n",
       "      <th>Life</th>\n",
       "      <th>Freedom</th>\n",
       "      <th>Curruption</th>\n",
       "      <th>Generosity</th>\n",
       "    </tr>\n",
       "  </thead>\n",
       "  <tbody>\n",
       "    <tr>\n",
       "      <th>0</th>\n",
       "      <td>7.587</td>\n",
       "      <td>1.39651</td>\n",
       "      <td>0.94143</td>\n",
       "      <td>0.66557</td>\n",
       "      <td>0.358125</td>\n",
       "      <td>0.29678</td>\n",
       "    </tr>\n",
       "    <tr>\n",
       "      <th>1</th>\n",
       "      <td>7.561</td>\n",
       "      <td>1.30232</td>\n",
       "      <td>0.94784</td>\n",
       "      <td>0.62877</td>\n",
       "      <td>0.141450</td>\n",
       "      <td>0.43630</td>\n",
       "    </tr>\n",
       "    <tr>\n",
       "      <th>2</th>\n",
       "      <td>7.527</td>\n",
       "      <td>1.32548</td>\n",
       "      <td>0.87464</td>\n",
       "      <td>0.64938</td>\n",
       "      <td>0.358125</td>\n",
       "      <td>0.34139</td>\n",
       "    </tr>\n",
       "    <tr>\n",
       "      <th>3</th>\n",
       "      <td>7.522</td>\n",
       "      <td>1.45900</td>\n",
       "      <td>0.88521</td>\n",
       "      <td>0.66973</td>\n",
       "      <td>0.358125</td>\n",
       "      <td>0.34699</td>\n",
       "    </tr>\n",
       "    <tr>\n",
       "      <th>4</th>\n",
       "      <td>7.427</td>\n",
       "      <td>1.32629</td>\n",
       "      <td>0.90563</td>\n",
       "      <td>0.63297</td>\n",
       "      <td>0.329570</td>\n",
       "      <td>0.45811</td>\n",
       "    </tr>\n",
       "  </tbody>\n",
       "</table>\n",
       "</div>"
      ],
      "text/plain": [
       "   Score      GDP     Life  Freedom  Curruption  Generosity\n",
       "0  7.587  1.39651  0.94143  0.66557    0.358125     0.29678\n",
       "1  7.561  1.30232  0.94784  0.62877    0.141450     0.43630\n",
       "2  7.527  1.32548  0.87464  0.64938    0.358125     0.34139\n",
       "3  7.522  1.45900  0.88521  0.66973    0.358125     0.34699\n",
       "4  7.427  1.32629  0.90563  0.63297    0.329570     0.45811"
      ]
     },
     "execution_count": 21,
     "metadata": {},
     "output_type": "execute_result"
    }
   ],
   "source": [
    "df.head()"
   ]
  },
  {
   "cell_type": "markdown",
   "id": "f9e5ce64",
   "metadata": {},
   "source": [
    "# Will investigate further and check correlation between GDP and Score."
   ]
  },
  {
   "cell_type": "code",
   "execution_count": 22,
   "id": "61a70ce5",
   "metadata": {},
   "outputs": [
    {
     "data": {
      "image/png": "[encoded data removed]",
      "text/plain": [
       "<Figure size 432x288 with 1 Axes>"
      ]
     },
     "metadata": {
      "needs_background": "light"
     },
     "output_type": "display_data"
    }
   ],
   "source": [
    "#Using Scatter Plot to analyse relatioship between GDP and Happiness Score.\n",
    "gdp = df['GDP']\n",
    "happiness_score = df['Score']\n",
    "\n",
    "plt.scatter(happiness_score, gdp)\n",
    "plt.title('Relationship between Happiness Score and GDP')\n",
    "plt.xlabel('Happiness Score')\n",
    "plt.ylabel('GDP Per Capita')\n",
    "plt.show()"
   ]
  },
  {
   "cell_type": "markdown",
   "id": "c0e51c2a",
   "metadata": {},
   "source": [
    "# Next I will analyse the relationship between Life expectancy and Happiness Score."
   ]
  },
  {
   "cell_type": "code",
   "execution_count": 23,
   "id": "1a001025",
   "metadata": {},
   "outputs": [
    {
     "data": {
      "image/png": "[encoded data removed]",
      "text/plain": [
       "<Figure size 432x288 with 1 Axes>"
      ]
     },
     "metadata": {
      "needs_background": "light"
     },
     "output_type": "display_data"
    }
   ],
   "source": [
    "#Using Scatter Plot to analyse relatioship between GDP and Happiness Score.\n",
    "life = df['Life']\n",
    "\n",
    "plt.scatter(happiness_score, life)\n",
    "plt.title('Relationship between Happiness Score and Life Expectancy')\n",
    "plt.xlabel('Happiness Score')\n",
    "plt.ylabel('Life Expectancy')\n",
    "plt.show()"
   ]
  },
  {
   "cell_type": "markdown",
   "id": "5c3f8c68",
   "metadata": {},
   "source": [
    "# Life Expectancy is less correlated with Score than GDP so I will go ahead and remove Life Expectancy column from the dataset."
   ]
  },
  {
   "cell_type": "code",
   "execution_count": 24,
   "id": "f691364d",
   "metadata": {},
   "outputs": [],
   "source": [
    "df = df.drop(columns = 'Life')"
   ]
  },
  {
   "cell_type": "code",
   "execution_count": 25,
   "id": "f804762d",
   "metadata": {
    "scrolled": true
   },
   "outputs": [
    {
     "data": {
      "text/html": [
       "<div>\n",
       "<style scoped>\n",
       "    .dataframe tbody tr th:only-of-type {\n",
       "        vertical-align: middle;\n",
       "    }\n",
       "\n",
       "    .dataframe tbody tr th {\n",
       "        vertical-align: top;\n",
       "    }\n",
       "\n",
       "    .dataframe thead th {\n",
       "        text-align: right;\n",
       "    }\n",
       "</style>\n",
       "<table border=\"1\" class=\"dataframe\">\n",
       "  <thead>\n",
       "    <tr style=\"text-align: right;\">\n",
       "      <th></th>\n",
       "      <th>Score</th>\n",
       "      <th>GDP</th>\n",
       "      <th>Freedom</th>\n",
       "      <th>Curruption</th>\n",
       "      <th>Generosity</th>\n",
       "    </tr>\n",
       "  </thead>\n",
       "  <tbody>\n",
       "    <tr>\n",
       "      <th>0</th>\n",
       "      <td>7.587</td>\n",
       "      <td>1.39651</td>\n",
       "      <td>0.66557</td>\n",
       "      <td>0.358125</td>\n",
       "      <td>0.29678</td>\n",
       "    </tr>\n",
       "    <tr>\n",
       "      <th>1</th>\n",
       "      <td>7.561</td>\n",
       "      <td>1.30232</td>\n",
       "      <td>0.62877</td>\n",
       "      <td>0.141450</td>\n",
       "      <td>0.43630</td>\n",
       "    </tr>\n",
       "    <tr>\n",
       "      <th>2</th>\n",
       "      <td>7.527</td>\n",
       "      <td>1.32548</td>\n",
       "      <td>0.64938</td>\n",
       "      <td>0.358125</td>\n",
       "      <td>0.34139</td>\n",
       "    </tr>\n",
       "    <tr>\n",
       "      <th>3</th>\n",
       "      <td>7.522</td>\n",
       "      <td>1.45900</td>\n",
       "      <td>0.66973</td>\n",
       "      <td>0.358125</td>\n",
       "      <td>0.34699</td>\n",
       "    </tr>\n",
       "    <tr>\n",
       "      <th>4</th>\n",
       "      <td>7.427</td>\n",
       "      <td>1.32629</td>\n",
       "      <td>0.63297</td>\n",
       "      <td>0.329570</td>\n",
       "      <td>0.45811</td>\n",
       "    </tr>\n",
       "  </tbody>\n",
       "</table>\n",
       "</div>"
      ],
      "text/plain": [
       "   Score      GDP  Freedom  Curruption  Generosity\n",
       "0  7.587  1.39651  0.66557    0.358125     0.29678\n",
       "1  7.561  1.30232  0.62877    0.141450     0.43630\n",
       "2  7.527  1.32548  0.64938    0.358125     0.34139\n",
       "3  7.522  1.45900  0.66973    0.358125     0.34699\n",
       "4  7.427  1.32629  0.63297    0.329570     0.45811"
      ]
     },
     "execution_count": 25,
     "metadata": {},
     "output_type": "execute_result"
    }
   ],
   "source": [
    "df.head()"
   ]
  },
  {
   "cell_type": "markdown",
   "id": "0eed16ac",
   "metadata": {},
   "source": [
    "# Next I will split data into X and Y variable."
   ]
  },
  {
   "cell_type": "code",
   "execution_count": 26,
   "id": "d78ed210",
   "metadata": {},
   "outputs": [],
   "source": [
    "x = df.drop(columns = 'Score')\n",
    "y = df['Score']"
   ]
  },
  {
   "cell_type": "code",
   "execution_count": 27,
   "id": "0c29a05a",
   "metadata": {},
   "outputs": [
    {
     "data": {
      "text/plain": [
       "(158, 4)"
      ]
     },
     "execution_count": 27,
     "metadata": {},
     "output_type": "execute_result"
    }
   ],
   "source": [
    "x.shape"
   ]
  },
  {
   "cell_type": "code",
   "execution_count": 28,
   "id": "a7004878",
   "metadata": {},
   "outputs": [
    {
     "data": {
      "text/plain": [
       "(158,)"
      ]
     },
     "execution_count": 28,
     "metadata": {},
     "output_type": "execute_result"
    }
   ],
   "source": [
    "y.shape"
   ]
  },
  {
   "cell_type": "code",
   "execution_count": 29,
   "id": "2c434feb",
   "metadata": {},
   "outputs": [],
   "source": [
    "#Import Standrd Scaler\n",
    "from sklearn.preprocessing import StandardScaler\n",
    "scaler = StandardScaler()\n",
    "\n",
    "x_scaled = scaler.fit_transform(x)"
   ]
  },
  {
   "cell_type": "code",
   "execution_count": 30,
   "id": "eaa7f6f8",
   "metadata": {},
   "outputs": [
    {
     "data": {
      "text/plain": [
       "array([[ 1.36962124,  1.57743784,  2.13372468,  0.50892093],\n",
       "       [ 1.13522625,  1.33245589,  0.04324441,  1.66872279],\n",
       "       [ 1.19286069,  1.4696591 ,  2.13372468,  0.87975494],\n",
       "       [ 1.52512972,  1.60513145,  2.13372468,  0.92630662],\n",
       "       [ 1.1948764 ,  1.36041579,  1.85822606,  1.85002496],\n",
       "       [ 1.10518965,  1.41846586,  2.13372468, -0.01702993],\n",
       "       [ 1.20271529,  1.24584679,  1.74794942,  1.99957223],\n",
       "       [ 1.20836426,  1.53902627,  2.13372468,  1.05623569],\n",
       "       [ 1.0054741 ,  1.40308792,  2.13372468,  1.99051128],\n",
       "       [ 1.21301782,  1.48204134,  2.11679244,  1.66307009],\n",
       "       [ 0.95169689, -0.10268563, -0.57036835,  0.79937016],\n",
       "       [ 0.27284977,  1.36567491, -0.30041733,  0.16136276],\n",
       "       [ 1.22210096,  1.30289829,  0.48039526,  0.79238741],\n",
       "       [ 0.43400721,  0.35412582,  0.73471653, -0.78820839],\n",
       "       [ 1.36464418,  0.78171251,  0.211602  ,  1.37569659],\n",
       "       [ 0.33620784,  0.4119096 ,  0.36896087, -0.74664439],\n",
       "       [ 1.78620179,  1.24631278,  2.13372468,  0.3722585 ],\n",
       "       [ 1.21894053,  1.25922759,  1.44780016,  1.85750648],\n",
       "       [ 1.14891319,  1.03774528,  0.85319396, -0.10855386],\n",
       "       [ 1.44616854,  1.417667  ,  2.13372468,  0.23875493],\n",
       "       [ 1.04576346,  1.11596641,  1.77235886,  2.35718889],\n",
       "       [ 1.27903862,  1.35888465,  1.81645022, -0.16740848],\n",
       "       [ 0.49298546,  0.00309598, -0.25352805, -1.47260122],\n",
       "       [ 1.68155895,  0.75827946,  2.13372468,  0.62754459],\n",
       "       [ 0.54098928,  0.75548347, -0.42709556,  0.0729977 ],\n",
       "       [ 1.19893271,  1.23925624,  0.7859474 ,  0.38722154],\n",
       "       [ 0.64953912,  0.08457911, -0.07986406,  0.81524761],\n",
       "       [ 2.1010262 ,  1.40987818,  2.13372468,  0.74957649],\n",
       "       [ 1.07415763,  0.80880698,  0.67046085, -0.93301737],\n",
       "       [ 0.51605417,  0.14063204, -0.50292884, -1.00625313],\n",
       "       [ 0.8282905 ,  0.23316598, -1.06560016, -1.06984605],\n",
       "       [ 0.53633572,  1.16502937,  1.04789059, -0.02625714],\n",
       "       [ 0.18035097,  0.70595451, -0.82748754, -0.42851353],\n",
       "       [ 0.30052226,  0.85227797, -1.01398337,  2.60455704],\n",
       "       [ 1.36688386, -0.78643822,  1.81645022, -0.81879949],\n",
       "       [ 0.95552923,  0.20567208, -0.7041861 , -0.4429778 ],\n",
       "       [ 0.89901463,  1.16522909, -0.01068791,  2.34388841],\n",
       "       [ 1.10700628, -0.20780152, -0.53717923,  0.15130427],\n",
       "       [ 1.7620879 ,  0.84129372,  1.14929106, -0.60915068],\n",
       "       [ 0.37129616,  1.11809669, -0.00615335, -0.54572401],\n",
       "       [ 0.91003883,  0.86692362, -1.21147791,  0.68897618],\n",
       "       [-0.20305742, -0.1671931 , -0.1853167 , -1.06934729],\n",
       "       [-0.25036445,  0.99001374, -0.4076066 ,  0.32695374],\n",
       "       [-0.53179273,  1.52844145,  1.65262719, -0.05975772],\n",
       "       [ 0.80323097, -0.73963868, -0.99044225, -0.55387056],\n",
       "       [ 1.05663836,  0.44958889,  0.42096359, -1.06826662],\n",
       "       [ 0.99161297, -0.64264447, -0.56342179, -0.41554556],\n",
       "       [ 0.04450191,  0.38028829,  0.42385799, -0.99877161],\n",
       "       [ 1.18858041,  0.17511591,  1.63082271, -0.51488352],\n",
       "       [ 1.00786309, -1.10677875, -1.04157664, -0.06092151],\n",
       "       [-0.41012832,  0.96877753, -0.47244116, -0.25103525],\n",
       "       [-0.62625747, -0.66860723, -1.16564992, -0.21653713],\n",
       "       [-0.21472865,  0.73477983, -0.526277  ,  0.88815087],\n",
       "       [ 0.68783766,  0.58499467, -0.50582324, -0.97499701],\n",
       "       [ 0.8432217 ,  1.19784897, -0.95609537,  0.14731413],\n",
       "       [ 0.74927955, -1.43257811, -1.22199423, -1.73861082],\n",
       "       [-0.62931837,  0.83969601,  0.54223894,  0.35405347],\n",
       "       [ 0.13451218, -0.09090253, -0.74364642, -0.71272816],\n",
       "       [ 0.46232673, -0.32776279,  0.52033798, -1.03991997],\n",
       "       [ 0.69532814,  0.68305402, -0.91509137, -0.56500971],\n",
       "       [ 0.69361105,  0.67653005, -0.30832869,  0.79130675],\n",
       "       [ 0.58829631, -1.13027837, -1.08701872, -1.50560303],\n",
       "       [ 0.71001049, -0.07945228, -0.25796613, -0.4373251 ],\n",
       "       [ 0.72541451, -0.4115759 , -1.03154272, -1.94160939],\n",
       "       [-0.08898304,  0.50464326, -1.0996576 , -0.19334442],\n",
       "       [ 0.90065706,  0.41044504,  0.05626921,  0.21722478],\n",
       "       [ 0.90083126, -0.14575718, -0.72849906,  0.58872381],\n",
       "       [ 0.23181385, -0.95080247,  0.35564663, -1.30792465],\n",
       "       [-0.11113099, -1.20577009, -0.86405345,  0.39520183],\n",
       "       [ 0.27954392,  0.31611367,  1.65436383, -0.54672155],\n",
       "       [ 0.40183047,  0.87903958, -0.59583907,  1.17943138],\n",
       "       [ 1.3435663 ,  1.1148347 ,  2.13372468,  1.32357533],\n",
       "       [ 0.76050284,  0.13490692,  0.14348712, -1.23660082],\n",
       "       [-0.04446317,  0.24960906, -1.32146511,  2.32584964],\n",
       "       [-0.53248952,  1.10391703, -0.31411749, -0.55661378],\n",
       "       [ 0.53464352, -1.33451876,  0.19770888, -0.93958448],\n",
       "       [-0.92537923,  0.04097498, -0.91316177,  0.53818199],\n",
       "       [-0.47726896, -0.56768532, -0.93265073,  0.30567297],\n",
       "       [-0.18842484,  0.688646  ,  0.1686684 ,  2.0318259 ],\n",
       "       [ 0.4423438 , -0.38820942,  0.228486  , -1.30983659],\n",
       "       [-0.62389336, -2.04769582, -0.31189845,  0.84085104],\n",
       "       [ 0.13896665, -0.14648946,  0.05752345, -1.03933808],\n",
       "       [ 0.3191365 , -1.63775049,  0.05781289, -0.61646594],\n",
       "       [ 0.10945264,  0.58819009, -1.05315424, -1.27774918],\n",
       "       [-0.93508451,  0.3971308 , -0.11855254, -0.32959121],\n",
       "       [ 0.49101952, -0.51882208, -1.25884959, -0.81530812],\n",
       "       [ 0.18512895, -1.51479351, -1.06897696, -0.35951729],\n",
       "       [ 0.78083416,  0.57301186, -1.21745967, -0.81771883],\n",
       "       [ 0.66439567, -0.87810674, -0.71055378, -0.44306093],\n",
       "       [-0.35042839,  1.31035426, -0.13678726,  0.11929999],\n",
       "       [-1.63662705,  0.2476785 ,  2.13372468,  2.22468286],\n",
       "       [-0.2770913 , -0.07792115, -0.49694708, -1.36195785],\n",
       "       [ 0.18010212, -0.62606825, -0.80751618, -0.0994929 ],\n",
       "       [-1.89889362, -0.58745696,  0.18391224, -0.10697442],\n",
       "       [ 0.08095893, -0.47455224, -0.7027389 , -0.77174904],\n",
       "       [-0.03460857, -2.23788968, -1.29956415,  0.10408757],\n",
       "       [-1.17132102, -0.73857355, -0.11507926, -0.5958502 ],\n",
       "       [ 0.12251745,  0.9859529 ,  0.05183113, -0.15560431],\n",
       "       [-0.63576367,  1.11370299,  1.01807827,  1.54918473],\n",
       "       [-0.04466225,  0.05089409, -1.06424944,  0.80419159],\n",
       "       [-0.33365567, -0.81240099, -1.02623632, -0.44031771],\n",
       "       [ 0.76627624, -2.34080873, -1.18668255, -1.95815187],\n",
       "       [ 0.44669874, -0.59551208, -0.87939377, -0.14147255],\n",
       "       [ 0.683856  , -0.71560649, -1.05537328, -0.89411346],\n",
       "       [-0.6241671 , -0.18064048, -0.66298915, -0.0439634 ],\n",
       "       [-1.13394324,  0.28988463,  0.13268136, -0.04836918],\n",
       "       [ 0.08708073, -1.10464847, -0.7080453 , -1.4235557 ],\n",
       "       [-0.61583051, -1.22241289, -0.07639078, -1.02287873],\n",
       "       [-1.11637419, -0.13590464, -0.10880806, -0.19400944],\n",
       "       [ 0.40479183, -0.85400797, -0.7558029 ,  1.20786116],\n",
       "       [-0.11712835, -1.18087247, -1.03578784, -0.68837166],\n",
       "       [ 0.34678411, -2.85334025,  0.00880105, -0.46833184],\n",
       "       [ 0.18502941, -0.64271104, -0.46433684, -0.96286032],\n",
       "       [-0.74794677, -0.03458331, -0.90129473, -0.03897572],\n",
       "       [-1.43124836, -1.13174294, -0.54200323, -0.37980052],\n",
       "       [-1.92845741, -0.95399789, -0.72020178,  0.06701248],\n",
       "       [-0.50056163, -0.20473925, -0.502157  ,  0.24266195],\n",
       "       [-0.80894073, -2.18223617,  0.09293161, -0.37356592],\n",
       "       [-1.4418744 , -1.22733916,  0.33557879,  1.88128109],\n",
       "       [-2.10564101, -1.3484987 , -0.58580515,  0.1062489 ],\n",
       "       [-1.20984352, -0.3048623 , -0.75155778,  0.72655004],\n",
       "       [-1.63100297,  0.03917756,  0.13036584,  0.06393674],\n",
       "       [-1.28382763, -0.13457322, -0.47379188, -0.17189739],\n",
       "       [-0.97567249, -1.24018739,  0.36317207, -0.13764866],\n",
       "       [-1.19804787, -0.04303785, -0.75811842,  1.16263953],\n",
       "       [-1.01006403,  0.21386034,  1.39010513, -0.45411695],\n",
       "       [-0.1939245 , -1.53210202, -0.94519313, -1.30518142],\n",
       "       [ 0.36684169,  0.44160035, -0.11797366, -1.08854985],\n",
       "       [-1.43104928,  0.07692342,  0.5149351 ,  2.60455704],\n",
       "       [-0.25939783, -0.15208144,  2.13372468, -1.49704085],\n",
       "       [-2.06572493,  0.01281537, -0.64832419,  0.79571253],\n",
       "       [-0.02711809,  0.72326302, -0.43587524,  1.43579814],\n",
       "       [-1.0542355 ,  0.42921811, -0.76323186, -0.24421875],\n",
       "       [ 0.4131533 , -0.81712754, -1.23733455, -0.96718297],\n",
       "       [ 0.08874804, -1.70245767, -0.71132562, -1.01955361],\n",
       "       [-0.7456822 , -0.48533677, -0.56371123, -1.19911009],\n",
       "       [-0.21987991, -2.16206511, -0.63433459, -0.93201983],\n",
       "       [-1.45678072, -0.26658387, -0.12974422, -0.39551171],\n",
       "       [-0.4167727 , -0.09289966, -0.1939999 , -0.9283622 ],\n",
       "       [-1.51073213, -1.3277285 ,  0.59848678, -0.50831641],\n",
       "       [-1.58051062,  0.19076014, -0.62034499,  0.45804659],\n",
       "       [-1.19737596, -0.40538478, -0.28787493, -0.22551495],\n",
       "       [ 0.532802  , -0.72878758, -0.25140549, -1.39105265],\n",
       "       [-1.93293677,  0.32157251,  0.18738552, -0.34654932],\n",
       "       [-0.95996985,  1.5567342 , -0.62227459,  1.3968111 ],\n",
       "       [-1.39591119, -0.66461296, -0.76699458,  0.8995394 ],\n",
       "       [-1.58742874, -1.57623871, -0.53766163, -0.18478223],\n",
       "       [-1.91029111,  0.4005925 , -0.52174244,  0.02320402],\n",
       "       [-1.25473667, -1.28885093, -0.81311202, -0.42976045],\n",
       "       [-1.67221309, -0.34194245, -0.15029446,  0.42404724],\n",
       "       [-0.94762672,  0.26658472,  0.40764935, -0.28187574],\n",
       "       [-1.46330068, -0.2242446 , -0.08343382, -0.15036724],\n",
       "       [-1.30975815, -1.29464262, -0.38377604,  1.07685143],\n",
       "       [-1.55298744,  1.08774023,  2.13372468, -0.07713147],\n",
       "       [-1.39230281,  0.37203347, -0.54866035, -0.44023458],\n",
       "       [-0.45524543, -1.80923785,  0.50258566,  1.96374407],\n",
       "       [-2.06756644, -2.06447176, -0.35068341, -0.3182858 ],\n",
       "       [-1.58633379, -0.42662099, -0.28613829, -0.57149369]])"
      ]
     },
     "execution_count": 30,
     "metadata": {},
     "output_type": "execute_result"
    }
   ],
   "source": [
    "x_scaled"
   ]
  },
  {
   "cell_type": "markdown",
   "id": "2878cab9",
   "metadata": {},
   "source": [
    "# Spliting data into train and test."
   ]
  },
  {
   "cell_type": "code",
   "execution_count": 36,
   "id": "3ee94fe2",
   "metadata": {},
   "outputs": [],
   "source": [
    "#importing train_test_split\n",
    "from sklearn.model_selection import train_test_split\n",
    "\n",
    "x_train,x_test,y_train,y_test = train_test_split(x_scaled, y, test_size = 0.2, random_state = 52)"
   ]
  },
  {
   "cell_type": "code",
   "execution_count": 37,
   "id": "e9459167",
   "metadata": {},
   "outputs": [],
   "source": [
    "#Importing Linear Regression and training the model.\n",
    "from sklearn.linear_model import LinearRegression\n",
    "lr = LinearRegression()"
   ]
  },
  {
   "cell_type": "code",
   "execution_count": 38,
   "id": "41766927",
   "metadata": {},
   "outputs": [
    {
     "data": {
      "text/plain": [
       "LinearRegression()"
      ]
     },
     "execution_count": 38,
     "metadata": {},
     "output_type": "execute_result"
    }
   ],
   "source": [
    "lr.fit(x_train,y_train)"
   ]
  },
  {
   "cell_type": "code",
   "execution_count": 40,
   "id": "f5193daa",
   "metadata": {},
   "outputs": [],
   "source": [
    "y_pred = lr.predict(x_test)"
   ]
  },
  {
   "cell_type": "markdown",
   "id": "151fc626",
   "metadata": {},
   "source": [
    "# Model Evaluation"
   ]
  },
  {
   "cell_type": "code",
   "execution_count": 41,
   "id": "139ab8b2",
   "metadata": {},
   "outputs": [],
   "source": [
    "#Will import R2 metric.\n",
    "from sklearn.metrics import r2_score"
   ]
  },
  {
   "cell_type": "code",
   "execution_count": 42,
   "id": "7826123c",
   "metadata": {},
   "outputs": [
    {
     "data": {
      "text/plain": [
       "0.7410915786864669"
      ]
     },
     "execution_count": 42,
     "metadata": {},
     "output_type": "execute_result"
    }
   ],
   "source": [
    "r2_score(y_test,y_pred)"
   ]
  },
  {
   "cell_type": "code",
   "execution_count": 43,
   "id": "9c3c4d26",
   "metadata": {},
   "outputs": [
    {
     "data": {
      "text/plain": [
       "0.6961307642382351"
      ]
     },
     "execution_count": 43,
     "metadata": {},
     "output_type": "execute_result"
    }
   ],
   "source": [
    "#Let's check how well model fits on train data\n",
    "\n",
    "#Adjusted R2 score\n",
    "lr.score(x_train,y_train)"
   ]
  },
  {
   "cell_type": "code",
   "execution_count": 44,
   "id": "60b498e7",
   "metadata": {},
   "outputs": [
    {
     "data": {
      "text/plain": [
       "0.7410915786864669"
      ]
     },
     "execution_count": 44,
     "metadata": {},
     "output_type": "execute_result"
    }
   ],
   "source": [
    "#Let's check how well model fits on test data\n",
    "\n",
    "#Adjusted R2 score\n",
    "\n",
    "lr.score(x_test,y_test)"
   ]
  },
  {
   "cell_type": "code",
   "execution_count": 45,
   "id": "024f7e5b",
   "metadata": {},
   "outputs": [
    {
     "data": {
      "image/png": "[encoded data removed]",
      "text/plain": [
       "<Figure size 432x288 with 1 Axes>"
      ]
     },
     "metadata": {
      "needs_background": "light"
     },
     "output_type": "display_data"
    }
   ],
   "source": [
    "#I will plot a scatter plot to observ how well our model is Predicting the label.\n",
    "plt.scatter(y_test,y_pred)\n",
    "\n",
    "plt.xlabel('Actual Happiness Score')\n",
    "plt.ylabel('Predicted Happiness Score')\n",
    "plt.title('Actual vs model predicted')\n",
    "\n",
    "plt.show()"
   ]
  },
  {
   "cell_type": "code",
   "execution_count": 46,
   "id": "236853f8",
   "metadata": {},
   "outputs": [],
   "source": [
    "#Importing Mean Squared Error and Mean Absolute Error\n",
    "from sklearn.metrics import mean_squared_error, mean_absolute_error"
   ]
  },
  {
   "cell_type": "code",
   "execution_count": 47,
   "id": "049a18d5",
   "metadata": {},
   "outputs": [
    {
     "data": {
      "text/plain": [
       "0.47874571490088935"
      ]
     },
     "execution_count": 47,
     "metadata": {},
     "output_type": "execute_result"
    }
   ],
   "source": [
    "#MAE\n",
    "\n",
    "mean_absolute_error(y_test,y_pred)"
   ]
  },
  {
   "cell_type": "code",
   "execution_count": 48,
   "id": "2f653f28",
   "metadata": {},
   "outputs": [
    {
     "data": {
      "text/plain": [
       "0.32894029724076523"
      ]
     },
     "execution_count": 48,
     "metadata": {},
     "output_type": "execute_result"
    }
   ],
   "source": [
    "#MSE\n",
    "\n",
    "mean_squared_error(y_test,y_pred)"
   ]
  },
  {
   "cell_type": "code",
   "execution_count": 49,
   "id": "44a9b32c",
   "metadata": {},
   "outputs": [
    {
     "data": {
      "text/plain": [
       "0.5735331701312185"
      ]
     },
     "execution_count": 49,
     "metadata": {},
     "output_type": "execute_result"
    }
   ],
   "source": [
    "#RMSE\n",
    "\n",
    "np.sqrt(mean_squared_error(y_test,y_pred))"
   ]
  },
  {
   "cell_type": "code",
   "execution_count": 50,
   "id": "90c2d472",
   "metadata": {},
   "outputs": [],
   "source": [
    "#LASSO CV will return best alpha after max iteration\n",
    "\n",
    "#Normalize is subastracting the mean and deviding by the l2 form\n",
    "\n",
    "from sklearn.linear_model import Ridge, Lasso, RidgeCV, LassoCV"
   ]
  },
  {
   "cell_type": "code",
   "execution_count": 51,
   "id": "9e35a19b",
   "metadata": {},
   "outputs": [
    {
     "data": {
      "text/plain": [
       "LassoCV(max_iter=100, normalize=True)"
      ]
     },
     "execution_count": 51,
     "metadata": {},
     "output_type": "execute_result"
    }
   ],
   "source": [
    "lasscv = LassoCV(alphas = None, max_iter = 100, normalize = True)\n",
    "\n",
    "lasscv.fit(x_train, y_train)"
   ]
  },
  {
   "cell_type": "code",
   "execution_count": 52,
   "id": "a9a6aee4",
   "metadata": {},
   "outputs": [
    {
     "data": {
      "text/plain": [
       "7.941642449708466e-05"
      ]
     },
     "execution_count": 52,
     "metadata": {},
     "output_type": "execute_result"
    }
   ],
   "source": [
    "#Best alpha parameter\n",
    "\n",
    "alpha = lasscv.alpha_\n",
    "\n",
    "alpha"
   ]
  },
  {
   "cell_type": "code",
   "execution_count": 53,
   "id": "96e57013",
   "metadata": {},
   "outputs": [
    {
     "data": {
      "text/plain": [
       "Lasso(alpha=7.941642449708466e-05)"
      ]
     },
     "execution_count": 53,
     "metadata": {},
     "output_type": "execute_result"
    }
   ],
   "source": [
    "#Now that we have best parameter, let's use Lasso regression and see how well our data has fitted before\n",
    "\n",
    "lasso_reg = Lasso(alpha)\n",
    "\n",
    "lasso_reg.fit(x_train, y_train)"
   ]
  },
  {
   "cell_type": "code",
   "execution_count": 54,
   "id": "dc0c436d",
   "metadata": {},
   "outputs": [
    {
     "data": {
      "text/plain": [
       "0.7410894388716394"
      ]
     },
     "execution_count": 54,
     "metadata": {},
     "output_type": "execute_result"
    }
   ],
   "source": [
    "lasso_reg.score(x_test,y_test)"
   ]
  },
  {
   "cell_type": "code",
   "execution_count": 55,
   "id": "a46dc507",
   "metadata": {},
   "outputs": [
    {
     "data": {
      "text/plain": [
       "0.030999999999999996"
      ]
     },
     "execution_count": 55,
     "metadata": {},
     "output_type": "execute_result"
    }
   ],
   "source": [
    "#RidgeCV will return best alpha and coefficients after performing 10 cross validation\n",
    "\n",
    "ridgecv = RidgeCV(alphas = np.arange(0.001,0.1,0.01),normalize = True)\n",
    "\n",
    "ridgecv.fit(x_train,y_train)\n",
    "\n",
    "ridgecv.alpha_"
   ]
  },
  {
   "cell_type": "code",
   "execution_count": 56,
   "id": "ca27fd7d",
   "metadata": {},
   "outputs": [
    {
     "data": {
      "text/plain": [
       "0.7411270335734249"
      ]
     },
     "execution_count": 56,
     "metadata": {},
     "output_type": "execute_result"
    }
   ],
   "source": [
    "ridge_model = Ridge(alpha = ridgecv.alpha_)\n",
    "ridge_model.fit(x_train,y_train)\n",
    "\n",
    "ridge_model.score(x_test,y_test)"
   ]
  },
  {
   "cell_type": "code",
   "execution_count": 59,
   "id": "e3a60c45",
   "metadata": {},
   "outputs": [
    {
     "data": {
      "text/html": [
       "<style type=\"text/css\">\n",
       "</style>\n",
       "<table id=\"T_d26c6_\">\n",
       "  <thead>\n",
       "    <tr>\n",
       "      <th class=\"col_heading level0 col0\" >Actual Happiness Score</th>\n",
       "      <th class=\"col_heading level0 col1\" >Predicted Happiness Score</th>\n",
       "    </tr>\n",
       "  </thead>\n",
       "  <tbody>\n",
       "    <tr>\n",
       "      <td id=\"T_d26c6_row0_col0\" class=\"data row0 col0\" >4.033000</td>\n",
       "      <td id=\"T_d26c6_row0_col1\" class=\"data row0 col1\" >4.446074</td>\n",
       "    </tr>\n",
       "    <tr>\n",
       "      <td id=\"T_d26c6_row1_col0\" class=\"data row1 col0\" >6.798000</td>\n",
       "      <td id=\"T_d26c6_row1_col1\" class=\"data row1 col1\" >7.056224</td>\n",
       "    </tr>\n",
       "    <tr>\n",
       "      <td id=\"T_d26c6_row2_col0\" class=\"data row2 col0\" >4.565000</td>\n",
       "      <td id=\"T_d26c6_row2_col1\" class=\"data row2 col1\" >4.903723</td>\n",
       "    </tr>\n",
       "    <tr>\n",
       "      <td id=\"T_d26c6_row3_col0\" class=\"data row3 col0\" >5.975000</td>\n",
       "      <td id=\"T_d26c6_row3_col1\" class=\"data row3 col1\" >5.462047</td>\n",
       "    </tr>\n",
       "    <tr>\n",
       "      <td id=\"T_d26c6_row4_col0\" class=\"data row4 col0\" >6.003000</td>\n",
       "      <td id=\"T_d26c6_row4_col1\" class=\"data row4 col1\" >5.472968</td>\n",
       "    </tr>\n",
       "    <tr>\n",
       "      <td id=\"T_d26c6_row5_col0\" class=\"data row5 col0\" >3.678000</td>\n",
       "      <td id=\"T_d26c6_row5_col1\" class=\"data row5 col1\" >3.957728</td>\n",
       "    </tr>\n",
       "    <tr>\n",
       "      <td id=\"T_d26c6_row6_col0\" class=\"data row6 col0\" >6.611000</td>\n",
       "      <td id=\"T_d26c6_row6_col1\" class=\"data row6 col1\" >7.592266</td>\n",
       "    </tr>\n",
       "    <tr>\n",
       "      <td id=\"T_d26c6_row7_col0\" class=\"data row7 col0\" >7.286000</td>\n",
       "      <td id=\"T_d26c6_row7_col1\" class=\"data row7 col1\" >6.813815</td>\n",
       "    </tr>\n",
       "    <tr>\n",
       "      <td id=\"T_d26c6_row8_col0\" class=\"data row8 col0\" >5.855000</td>\n",
       "      <td id=\"T_d26c6_row8_col1\" class=\"data row8 col1\" >5.992999</td>\n",
       "    </tr>\n",
       "    <tr>\n",
       "      <td id=\"T_d26c6_row9_col0\" class=\"data row9 col0\" >4.507000</td>\n",
       "      <td id=\"T_d26c6_row9_col1\" class=\"data row9 col1\" >4.278821</td>\n",
       "    </tr>\n",
       "    <tr>\n",
       "      <td id=\"T_d26c6_row10_col0\" class=\"data row10 col0\" >5.995000</td>\n",
       "      <td id=\"T_d26c6_row10_col1\" class=\"data row10 col1\" >5.693586</td>\n",
       "    </tr>\n",
       "    <tr>\n",
       "      <td id=\"T_d26c6_row11_col0\" class=\"data row11 col0\" >3.656000</td>\n",
       "      <td id=\"T_d26c6_row11_col1\" class=\"data row11 col1\" >3.966011</td>\n",
       "    </tr>\n",
       "    <tr>\n",
       "      <td id=\"T_d26c6_row12_col0\" class=\"data row12 col0\" >4.297000</td>\n",
       "      <td id=\"T_d26c6_row12_col1\" class=\"data row12 col1\" >5.100030</td>\n",
       "    </tr>\n",
       "    <tr>\n",
       "      <td id=\"T_d26c6_row13_col0\" class=\"data row13 col0\" >5.548000</td>\n",
       "      <td id=\"T_d26c6_row13_col1\" class=\"data row13 col1\" >5.713062</td>\n",
       "    </tr>\n",
       "    <tr>\n",
       "      <td id=\"T_d26c6_row14_col0\" class=\"data row14 col0\" >7.522000</td>\n",
       "      <td id=\"T_d26c6_row14_col1\" class=\"data row14 col1\" >7.209331</td>\n",
       "    </tr>\n",
       "    <tr>\n",
       "      <td id=\"T_d26c6_row15_col0\" class=\"data row15 col0\" >5.813000</td>\n",
       "      <td id=\"T_d26c6_row15_col1\" class=\"data row15 col1\" >5.579403</td>\n",
       "    </tr>\n",
       "    <tr>\n",
       "      <td id=\"T_d26c6_row16_col0\" class=\"data row16 col0\" >5.754000</td>\n",
       "      <td id=\"T_d26c6_row16_col1\" class=\"data row16 col1\" >5.858874</td>\n",
       "    </tr>\n",
       "    <tr>\n",
       "      <td id=\"T_d26c6_row17_col0\" class=\"data row17 col0\" >6.670000</td>\n",
       "      <td id=\"T_d26c6_row17_col1\" class=\"data row17 col1\" >5.956995</td>\n",
       "    </tr>\n",
       "    <tr>\n",
       "      <td id=\"T_d26c6_row18_col0\" class=\"data row18 col0\" >6.786000</td>\n",
       "      <td id=\"T_d26c6_row18_col1\" class=\"data row18 col1\" >6.006162</td>\n",
       "    </tr>\n",
       "    <tr>\n",
       "      <td id=\"T_d26c6_row19_col0\" class=\"data row19 col0\" >4.898000</td>\n",
       "      <td id=\"T_d26c6_row19_col1\" class=\"data row19 col1\" >4.170855</td>\n",
       "    </tr>\n",
       "    <tr>\n",
       "      <td id=\"T_d26c6_row20_col0\" class=\"data row20 col0\" >7.587000</td>\n",
       "      <td id=\"T_d26c6_row20_col1\" class=\"data row20 col1\" >7.048741</td>\n",
       "    </tr>\n",
       "    <tr>\n",
       "      <td id=\"T_d26c6_row21_col0\" class=\"data row21 col0\" >5.828000</td>\n",
       "      <td id=\"T_d26c6_row21_col1\" class=\"data row21 col1\" >5.169893</td>\n",
       "    </tr>\n",
       "    <tr>\n",
       "      <td id=\"T_d26c6_row22_col0\" class=\"data row22 col0\" >6.168000</td>\n",
       "      <td id=\"T_d26c6_row22_col1\" class=\"data row22 col1\" >6.340794</td>\n",
       "    </tr>\n",
       "    <tr>\n",
       "      <td id=\"T_d26c6_row23_col0\" class=\"data row23 col0\" >4.252000</td>\n",
       "      <td id=\"T_d26c6_row23_col1\" class=\"data row23 col1\" >4.612380</td>\n",
       "    </tr>\n",
       "    <tr>\n",
       "      <td id=\"T_d26c6_row24_col0\" class=\"data row24 col0\" >7.378000</td>\n",
       "      <td id=\"T_d26c6_row24_col1\" class=\"data row24 col1\" >6.906053</td>\n",
       "    </tr>\n",
       "    <tr>\n",
       "      <td id=\"T_d26c6_row25_col0\" class=\"data row25 col0\" >4.971000</td>\n",
       "      <td id=\"T_d26c6_row25_col1\" class=\"data row25 col1\" >3.689920</td>\n",
       "    </tr>\n",
       "    <tr>\n",
       "      <td id=\"T_d26c6_row26_col0\" class=\"data row26 col0\" >4.332000</td>\n",
       "      <td id=\"T_d26c6_row26_col1\" class=\"data row26 col1\" >5.705166</td>\n",
       "    </tr>\n",
       "    <tr>\n",
       "      <td id=\"T_d26c6_row27_col0\" class=\"data row27 col0\" >5.477000</td>\n",
       "      <td id=\"T_d26c6_row27_col1\" class=\"data row27 col1\" >6.004733</td>\n",
       "    </tr>\n",
       "    <tr>\n",
       "      <td id=\"T_d26c6_row28_col0\" class=\"data row28 col0\" >4.739000</td>\n",
       "      <td id=\"T_d26c6_row28_col1\" class=\"data row28 col1\" >4.969106</td>\n",
       "    </tr>\n",
       "    <tr>\n",
       "      <td id=\"T_d26c6_row29_col0\" class=\"data row29 col0\" >4.610000</td>\n",
       "      <td id=\"T_d26c6_row29_col1\" class=\"data row29 col1\" >3.844180</td>\n",
       "    </tr>\n",
       "    <tr>\n",
       "      <td id=\"T_d26c6_row30_col0\" class=\"data row30 col0\" >4.677000</td>\n",
       "      <td id=\"T_d26c6_row30_col1\" class=\"data row30 col1\" >4.745173</td>\n",
       "    </tr>\n",
       "    <tr>\n",
       "      <td id=\"T_d26c6_row31_col0\" class=\"data row31 col0\" >5.007000</td>\n",
       "      <td id=\"T_d26c6_row31_col1\" class=\"data row31 col1\" >5.276290</td>\n",
       "    </tr>\n",
       "  </tbody>\n",
       "</table>\n"
      ],
      "text/plain": [
       "<pandas.io.formats.style.Styler at 0x19c2f227eb0>"
      ]
     },
     "execution_count": 59,
     "metadata": {},
     "output_type": "execute_result"
    }
   ],
   "source": [
    "data_frame = pd.DataFrame({'Actual Happiness Score':y_test,'Predicted Happiness Score':y_pred})\n",
    "data_frame = data_frame.style.hide_index()\n",
    "data_frame"
   ]
  },
  {
   "cell_type": "code",
   "execution_count": null,
   "id": "371a36d5",
   "metadata": {},
   "outputs": [],
   "source": []
  }
 ],
 "metadata": {
  "kernelspec": {
   "display_name": "Python 3 (ipykernel)",
   "language": "python",
   "name": "python3"
  },
  "language_info": {
   "codemirror_mode": {
    "name": "ipython",
    "version": 3
   },
   "file_extension": ".py",
   "mimetype": "text/x-python",
   "name": "python",
   "nbconvert_exporter": "python",
   "pygments_lexer": "ipython3",
   "version": "3.9.7"
  }
 },
 "nbformat": 4,
 "nbformat_minor": 5
}
